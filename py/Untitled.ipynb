{
 "cells": [
  {
   "cell_type": "code",
   "execution_count": 4,
   "id": "dea4ab39",
   "metadata": {},
   "outputs": [],
   "source": [
    "import numpy as np\n",
    "from itertools import combinations, product, permutations\n",
    "import warnings\n",
    "import time\n",
    "from idQ import is_parallel, is_strictly_less_than, is_less_equal_than, generate_binary_vectors, generate_permutations, get_D_l, height_of_Q, distances2U, preserve_partial_order\n",
    "from idQ import generate_DAG, generate_hasse_diagram, check_for_identity, Any_two_columns_contain_I, topo_order, incomplete_global_identifiability\n",
    "import random\n",
    "from expr_function import random_generate_Q, generate_canonical_matrices, binary_matrix_to_string, sort_lexicographically, random_generate_Q, prop_check, sort_binary_matrix\n",
    "import sys\n",
    "import itertools\n",
    "import cProfile\n",
    "import random\n",
    "from idQ import T_mat, get_D_l, get_D"
   ]
  },
  {
   "cell_type": "code",
   "execution_count": 11,
   "id": "c903fa83",
   "metadata": {},
   "outputs": [
    {
     "data": {
      "text/plain": [
       "array([[0, 0, 1, 1],\n",
       "       [0, 1, 0, 1],\n",
       "       [0, 1, 1, 0]])"
      ]
     },
     "execution_count": 11,
     "metadata": {},
     "output_type": "execute_result"
    }
   ],
   "source": [
    "import numpy as np\n",
    "\n",
    "def calculate_R_matrix(Q_matrix):\n",
    "    \"\"\"\n",
    "    Calculate the R-matrix for a given Q-matrix.\n",
    "\n",
    "    Args:\n",
    "    Q_matrix (numpy.ndarray): A binary matrix (Q-matrix) of dimensions J x K.\n",
    "\n",
    "    Returns:\n",
    "    numpy.ndarray: The R-matrix of dimensions J x 2^K.\n",
    "    \"\"\"\n",
    "    J, K = Q_matrix.shape  # J items and K attributes\n",
    "    num_attribute_profiles = 2 ** K  # Total number of possible attribute profiles\n",
    "    \n",
    "    # Generate all possible attribute profiles (binary representations of numbers 0 to 2^K - 1)\n",
    "    attribute_profiles = np.array([list(np.binary_repr(i, width=K)) for i in range(num_attribute_profiles)], dtype=int)\n",
    "    \n",
    "    # Initialize the R-matrix\n",
    "    R_matrix = np.zeros((J, num_attribute_profiles), dtype=int)\n",
    "\n",
    "    # Compute the R-matrix\n",
    "    for j in range(J):\n",
    "        for a in range(num_attribute_profiles):\n",
    "            # Compute the XOR product and mod 2 for each entry\n",
    "            R_matrix[j, a] = np.bitwise_and(Q_matrix[j, :], attribute_profiles[a, :]).sum() % 2\n",
    "\n",
    "            \n",
    "    # Get unique columns of R_matrix to form R^mcr matrix\n",
    "    R_mcr_matrix, indices = np.unique(R_matrix, axis=1, return_index=True)\n",
    "\n",
    "    # Sort the matrix based on the indices to maintain the original order\n",
    "    R_mcr_matrix = R_mcr_matrix[:,np.argsort(indices)]\n",
    "    \n",
    "    return R_matrix, R_mcr_matrix\n",
    "\n",
    "# Example Q-matrix\n",
    "Q_matrix_example = np.array([[1, 1, 0], [1, 0, 1], [0, 1, 1]])\n",
    "\n",
    "# Compute R-matrix\n",
    "_, R_mcr_matrix_example = calculate_R_matrix(Q_matrix_example)\n",
    "R_mcr_matrix_example\n",
    "\n"
   ]
  },
  {
   "cell_type": "code",
   "execution_count": 12,
   "id": "66a78228",
   "metadata": {},
   "outputs": [
    {
     "name": "stdout",
     "output_type": "stream",
     "text": [
      "[[0 0 1]\n",
      " [0 1 0]\n",
      " [0 1 1]]\n",
      "[[0 1 0 1]\n",
      " [0 0 1 1]\n",
      " [0 1 1 0]]\n",
      "[[0 0 1]\n",
      " [0 1 0]\n",
      " [1 0 0]]\n",
      "[[0 1 0 1 0 1 0 1]\n",
      " [0 0 1 1 0 0 1 1]\n",
      " [0 0 0 0 1 1 1 1]]\n",
      "[[0 0 1]\n",
      " [0 1 0]\n",
      " [1 0 1]]\n",
      "[[0 1 0 1 0 1 0 1]\n",
      " [0 0 1 1 0 0 1 1]\n",
      " [0 1 0 1 1 0 1 0]]\n",
      "[[0 0 1]\n",
      " [0 1 0]\n",
      " [1 1 1]]\n",
      "[[0 1 0 1 0 1 0 1]\n",
      " [0 0 1 1 0 0 1 1]\n",
      " [0 1 1 0 1 0 0 1]]\n",
      "[[0 0 1]\n",
      " [0 1 1]\n",
      " [1 0 1]]\n",
      "[[0 1 0 1 0 1 0 1]\n",
      " [0 1 1 0 0 1 1 0]\n",
      " [0 1 0 1 1 0 1 0]]\n",
      "[[0 0 1]\n",
      " [0 1 1]\n",
      " [1 1 0]]\n",
      "[[0 1 0 1 0 1 0 1]\n",
      " [0 1 1 0 0 1 1 0]\n",
      " [0 0 1 1 1 1 0 0]]\n",
      "[[0 0 1]\n",
      " [0 1 1]\n",
      " [1 1 1]]\n",
      "[[0 1 0 1 0 1 0 1]\n",
      " [0 1 1 0 0 1 1 0]\n",
      " [0 1 1 0 1 0 0 1]]\n",
      "[[0 0 1]\n",
      " [1 1 0]\n",
      " [1 1 1]]\n",
      "[[0 1 0 1]\n",
      " [0 0 1 1]\n",
      " [0 1 1 0]]\n",
      "[[0 1 1]\n",
      " [1 0 1]\n",
      " [1 1 0]]\n",
      "[[0 1 1 0]\n",
      " [0 1 0 1]\n",
      " [0 0 1 1]]\n",
      "[[0 1 1]\n",
      " [1 0 1]\n",
      " [1 1 1]]\n",
      "[[0 1 1 0 0 1 1 0]\n",
      " [0 1 0 1 1 0 1 0]\n",
      " [0 1 1 0 1 0 0 1]]\n"
     ]
    }
   ],
   "source": [
    "for Q in generate_canonical_matrices(3, 3):\n",
    "    R, R_mcr = calculate_R_matrix(Q)\n",
    "    print(Q)\n",
    "    print(R_mcr)"
   ]
  },
  {
   "cell_type": "code",
   "execution_count": null,
   "id": "6bea4fef",
   "metadata": {},
   "outputs": [],
   "source": []
  }
 ],
 "metadata": {
  "kernelspec": {
   "display_name": "Python 3 (ipykernel)",
   "language": "python",
   "name": "python3"
  },
  "language_info": {
   "codemirror_mode": {
    "name": "ipython",
    "version": 3
   },
   "file_extension": ".py",
   "mimetype": "text/x-python",
   "name": "python",
   "nbconvert_exporter": "python",
   "pygments_lexer": "ipython3",
   "version": "3.10.9"
  }
 },
 "nbformat": 4,
 "nbformat_minor": 5
}
