{
 "cells": [
  {
   "cell_type": "code",
   "execution_count": 4,
   "id": "dea4ab39",
   "metadata": {},
   "outputs": [],
   "source": [
    "import numpy as np\n",
    "from itertools import combinations, product, permutations\n",
    "import warnings\n",
    "import time\n",
    "from idQ import is_parallel, is_strictly_less_than, is_less_equal_than, generate_binary_vectors, generate_permutations, get_D_l, height_of_Q, distances2U, preserve_partial_order\n",
    "from idQ import generate_DAG, generate_hasse_diagram, check_for_identity, Any_two_columns_contain_I, topo_order, incomplete_global_identifiability\n",
    "import random\n",
    "from expr_function import random_generate_Q, generate_canonical_matrices, binary_matrix_to_string, sort_lexicographically, random_generate_Q, prop_check, sort_binary_matrix\n",
    "import sys\n",
    "import itertools\n",
    "import cProfile\n",
    "import random\n",
    "from idQ import T_mat, get_D_l, get_D"
   ]
  },
  {
   "cell_type": "code",
   "execution_count": 1,
   "id": "c903fa83",
   "metadata": {},
   "outputs": [
    {
     "name": "stdout",
     "output_type": "stream",
     "text": [
      "Number of distinct row sets: 3\n",
      "Row set 1: [(0, 1, 0), (0, 1, 1), (1, 0, 0), (1, 0, 1)]\n",
      "Row set 2: [(0, 0, 1), (0, 1, 1), (1, 0, 0), (1, 1, 0)]\n",
      "Row set 3: [(0, 0, 1), (0, 1, 0), (1, 0, 1), (1, 1, 0)]\n"
     ]
    }
   ],
   "source": [
    "import itertools\n",
    "import numpy as np\n",
    "\n",
    "# Define Q^(b) as a numpy array\n",
    "Qb = np.array([\n",
    "    [0, 1, 0],\n",
    "    [0, 0, 1],\n",
    "    [1, 1, 0],\n",
    "    [1, 0, 1]\n",
    "])\n",
    "\n",
    "# Get all permutations of column indices for a 3-column matrix\n",
    "cols = list(range(Qb.shape[1]))\n",
    "permutations = list(itertools.permutations(cols))\n",
    "\n",
    "# Use a set to store distinct row sets (represented as frozensets of tuples)\n",
    "distinct_row_sets = set()\n",
    "\n",
    "for perm in permutations:\n",
    "    # Permute the columns\n",
    "    Qb_perm = Qb[:, perm]\n",
    "    # Convert each row into a tuple and create a frozenset (order-independent)\n",
    "    row_set = frozenset(tuple(row) for row in Qb_perm)\n",
    "    distinct_row_sets.add(row_set)\n",
    "\n",
    "# Display the distinct row sets and their count\n",
    "print(\"Number of distinct row sets:\", len(distinct_row_sets))\n",
    "for idx, row_set in enumerate(distinct_row_sets, 1):\n",
    "    print(f\"Row set {idx}: {sorted(list(row_set))}\")\n"
   ]
  },
  {
   "cell_type": "code",
   "execution_count": null,
   "id": "b81e555b",
   "metadata": {},
   "outputs": [],
   "source": [
    "T3 = {(0,1,0), (0,0,1), (1,1,0), (1,0,1)}"
   ]
  },
  {
   "cell_type": "code",
   "execution_count": 12,
   "id": "66a78228",
   "metadata": {},
   "outputs": [
    {
     "name": "stdout",
     "output_type": "stream",
     "text": [
      "[[0 0 1]\n",
      " [0 1 0]\n",
      " [0 1 1]]\n",
      "[[0 1 0 1]\n",
      " [0 0 1 1]\n",
      " [0 1 1 0]]\n",
      "[[0 0 1]\n",
      " [0 1 0]\n",
      " [1 0 0]]\n",
      "[[0 1 0 1 0 1 0 1]\n",
      " [0 0 1 1 0 0 1 1]\n",
      " [0 0 0 0 1 1 1 1]]\n",
      "[[0 0 1]\n",
      " [0 1 0]\n",
      " [1 0 1]]\n",
      "[[0 1 0 1 0 1 0 1]\n",
      " [0 0 1 1 0 0 1 1]\n",
      " [0 1 0 1 1 0 1 0]]\n",
      "[[0 0 1]\n",
      " [0 1 0]\n",
      " [1 1 1]]\n",
      "[[0 1 0 1 0 1 0 1]\n",
      " [0 0 1 1 0 0 1 1]\n",
      " [0 1 1 0 1 0 0 1]]\n",
      "[[0 0 1]\n",
      " [0 1 1]\n",
      " [1 0 1]]\n",
      "[[0 1 0 1 0 1 0 1]\n",
      " [0 1 1 0 0 1 1 0]\n",
      " [0 1 0 1 1 0 1 0]]\n",
      "[[0 0 1]\n",
      " [0 1 1]\n",
      " [1 1 0]]\n",
      "[[0 1 0 1 0 1 0 1]\n",
      " [0 1 1 0 0 1 1 0]\n",
      " [0 0 1 1 1 1 0 0]]\n",
      "[[0 0 1]\n",
      " [0 1 1]\n",
      " [1 1 1]]\n",
      "[[0 1 0 1 0 1 0 1]\n",
      " [0 1 1 0 0 1 1 0]\n",
      " [0 1 1 0 1 0 0 1]]\n",
      "[[0 0 1]\n",
      " [1 1 0]\n",
      " [1 1 1]]\n",
      "[[0 1 0 1]\n",
      " [0 0 1 1]\n",
      " [0 1 1 0]]\n",
      "[[0 1 1]\n",
      " [1 0 1]\n",
      " [1 1 0]]\n",
      "[[0 1 1 0]\n",
      " [0 1 0 1]\n",
      " [0 0 1 1]]\n",
      "[[0 1 1]\n",
      " [1 0 1]\n",
      " [1 1 1]]\n",
      "[[0 1 1 0 0 1 1 0]\n",
      " [0 1 0 1 1 0 1 0]\n",
      " [0 1 1 0 1 0 0 1]]\n"
     ]
    }
   ],
   "source": [
    "for Q in generate_canonical_matrices(3, 3):\n",
    "    R, R_mcr = calculate_R_matrix(Q)\n",
    "    print(Q)\n",
    "    print(R_mcr)"
   ]
  },
  {
   "cell_type": "code",
   "execution_count": null,
   "id": "32febf69",
   "metadata": {},
   "outputs": [],
   "source": []
  }
 ],
 "metadata": {
  "kernelspec": {
   "display_name": "Python 3 (ipykernel)",
   "language": "python",
   "name": "python3"
  },
  "language_info": {
   "codemirror_mode": {
    "name": "ipython",
    "version": 3
   },
   "file_extension": ".py",
   "mimetype": "text/x-python",
   "name": "python",
   "nbconvert_exporter": "python",
   "pygments_lexer": "ipython3",
   "version": "3.10.9"
  }
 },
 "nbformat": 4,
 "nbformat_minor": 5
}
