{
 "cells": [
  {
   "cell_type": "code",
   "execution_count": 1,
   "id": "92beb25c",
   "metadata": {},
   "outputs": [],
   "source": [
    "import numpy as np\n",
    "from itertools import combinations, product, permutations\n",
    "import warnings\n",
    "import time\n",
    "from idQ import contains_identity_submatrix, identifiability\n",
    "from idQ import check_three_column_submatrices\n",
    "import random\n",
    "from expr_function import random_generate_Q, generate_canonical_matrices, binary_matrix_to_string, sort_lexicographically, random_generate_Q, prop_check, sort_binary_matrix\n",
    "import sys\n",
    "\n",
    "import itertools\n",
    "import cProfile\n",
    "import random\n",
    "import networkx as nx\n",
    "import matplotlib.pyplot as plt\n",
    "\n",
    "from draw_G import draw_G_K4, draw_G_K5"
   ]
  },
  {
   "cell_type": "code",
   "execution_count": 2,
   "id": "49d050e9-d348-4845-93ec-459c81437986",
   "metadata": {},
   "outputs": [],
   "source": [
    "from utils import unique_pattern_supports, distances, thm_check\n"
   ]
  },
  {
   "cell_type": "code",
   "execution_count": 3,
   "id": "91950cf2-6d7a-4ae9-ab61-41d770a46dd1",
   "metadata": {},
   "outputs": [],
   "source": [
    "from pysat.card import CardEnc, EncType\n",
    "from pysat.formula import CNF\n",
    "from pysat.card import CardEnc"
   ]
  },
  {
   "cell_type": "markdown",
   "id": "56cc7c2e-2284-4b7e-8194-b47d17d98da5",
   "metadata": {
    "tags": []
   },
   "source": [
    "## Optional, idQ functions"
   ]
  },
  {
   "cell_type": "code",
   "execution_count": 4,
   "id": "b262cb1a-c946-4314-88ae-0905fef4f7c1",
   "metadata": {},
   "outputs": [],
   "source": [
    "from idQ import get_basis, check_two_column_submatrices\n",
    "from idQ import check_three_column_submatrices, get_Q_from_Qbasis"
   ]
  },
  {
   "cell_type": "code",
   "execution_count": 5,
   "id": "aee3e3e1-a7c9-48dd-aecf-ebd9d2020a0e",
   "metadata": {},
   "outputs": [],
   "source": [
    "import gurobipy as gp\n",
    "from gurobipy import GRB\n",
    "from idQ import lex_sort_columns"
   ]
  },
  {
   "cell_type": "code",
   "execution_count": 6,
   "id": "ec6e43c7-3a87-4e46-987d-9f60b043e1c1",
   "metadata": {},
   "outputs": [],
   "source": [
    "import numpy as np\n",
    "from pysat.formula import CNF, IDPool\n",
    "from pysat.card    import CardEnc\n",
    "from pysat.solvers import Solver"
   ]
  },
  {
   "cell_type": "code",
   "execution_count": 7,
   "id": "7fd71137-3e51-4eaf-a7e5-511851bb73e9",
   "metadata": {},
   "outputs": [],
   "source": [
    "import os\n",
    "import stat\n",
    "import shutil\n",
    "import tempfile\n",
    "import subprocess\n",
    "from importlib import resources\n",
    "\n",
    "def _kissat_path() -> str:\n",
    "    # 1. Locate the bundled binary inside site-packages (read-only)\n",
    "    bundled = resources.files(\"id_Q\").joinpath(\"bin\", \"kissat\")\n",
    "    if not bundled.exists():\n",
    "        raise RuntimeError(\"Bundled Kissat not found\")\n",
    "    \n",
    "    # 2. Copy it into a user-writable cache directory\n",
    "    cache_dir = os.path.join(tempfile.gettempdir(), \"id_Q_kissat\")\n",
    "    os.makedirs(cache_dir, exist_ok=True)\n",
    "    target = os.path.join(cache_dir, \"kissat\")\n",
    "    \n",
    "    # 3. Only recopy if bundled is newer (optional)\n",
    "    try:\n",
    "        bundled_mtime = bundled.stat().st_mtime\n",
    "    except AttributeError:\n",
    "        bundled_mtime = os.path.getmtime(str(bundled))\n",
    "    if (not os.path.exists(target) or \n",
    "        os.path.getmtime(target) < bundled_mtime):\n",
    "        \n",
    "        shutil.copy2(str(bundled), target)\n",
    "        # 4. Make sure the copy is executable\n",
    "        st = os.stat(target)\n",
    "        os.chmod(target, st.st_mode | stat.S_IXUSR)\n",
    "\n",
    "    return target\n"
   ]
  },
  {
   "cell_type": "code",
   "execution_count": 8,
   "id": "fbaaddef-71fb-4490-a162-71add3cb1f15",
   "metadata": {},
   "outputs": [],
   "source": [
    "import subprocess\n",
    "import tempfile\n",
    "import os\n",
    "from typing import List, Optional, Tuple\n",
    "import os\n",
    "import tempfile\n",
    "import subprocess\n",
    "from typing import List, Optional, Tuple\n",
    "\n",
    "def solve_sat_py(\n",
    "    clauses: List[List[int]],\n",
    "    num_vars: int\n",
    ") -> Tuple[Optional[bool], Optional[List[bool]]]:\n",
    "    \"\"\"\n",
    "    clauses: list of clauses, each a list of nonzero ints (e.g. [1, -2, 3])\n",
    "    num_vars: maximum variable index in clauses\n",
    "    timeout: seconds before giving up\n",
    "\n",
    "    Returns a tuple (is_sat, model):\n",
    "      - is_sat = True  => model is a list of booleans of length num_vars\n",
    "      - is_sat = False => UNSAT, model is None\n",
    "    \"\"\"\n",
    "    kissat = _kissat_path()\n",
    "\n",
    "    # 1) Write DIMACS to a temp file\n",
    "    fd, path = tempfile.mkstemp(suffix=\".cnf\")\n",
    "    with os.fdopen(fd, \"w\") as f:\n",
    "        f.write(f\"p cnf {num_vars} {len(clauses)}\\n\")\n",
    "        for cl in clauses:\n",
    "            # each clause line: \"<lit1> <lit2> ... 0\\n\"\n",
    "            f.write(\" \".join(str(l) for l in cl) + \" 0\\n\")\n",
    "\n",
    "    # 2) Call Kissat\n",
    "    try:\n",
    "        completed = subprocess.run(\n",
    "            [kissat, \"--quiet\", path],\n",
    "            capture_output=True,\n",
    "            text=True\n",
    "        )\n",
    "    except subprocess.TimeoutExpired:\n",
    "        os.remove(path)\n",
    "        return None, None\n",
    "    finally:\n",
    "        # always clean up the DIMACS file\n",
    "        if os.path.exists(path):\n",
    "            os.remove(path)\n",
    "\n",
    "    # 3) Parse solver stdout\n",
    "    stdout = completed.stdout.splitlines()\n",
    "    if any(line.startswith(\"s SATISFIABLE\") for line in stdout):\n",
    "        is_sat = True\n",
    "    elif any(line.startswith(\"s UNSATISFIABLE\") for line in stdout):\n",
    "        return False, None\n",
    "    else:\n",
    "        # unknown or error\n",
    "        return None, None\n",
    "\n",
    "    # 4) Extract the 'v ' lines into a boolean assignment\n",
    "    model = [False] * num_vars\n",
    "    for line in stdout:\n",
    "        if line.startswith(\"v \"):\n",
    "            for tok in line.split()[1:]:\n",
    "                lit = int(tok)\n",
    "                if lit == 0:\n",
    "                    continue\n",
    "                v = abs(lit)\n",
    "                if 1 <= v <= num_vars:\n",
    "                    model[v-1] = (lit > 0)\n",
    "\n",
    "    return True, model\n",
    "\n"
   ]
  },
  {
   "cell_type": "code",
   "execution_count": 9,
   "id": "06415c09-609a-4f68-aba4-6f80ad3733d8",
   "metadata": {},
   "outputs": [],
   "source": [
    "import os\n",
    "import stat\n",
    "import shutil\n",
    "import tempfile\n",
    "import subprocess\n",
    "from importlib import resources\n",
    "from typing import List, Optional, Tuple\n",
    "\n",
    "def _kissat_path() -> str:\n",
    "    # 1) Locate the shipped binary inside site-packages\n",
    "    #    resources.path gives you a real pathlib.Path on the FS\n",
    "    with resources.path(\"id_Q\", \"bin/kissat\") as bundled_path:\n",
    "        if not bundled_path.exists():\n",
    "            raise FileNotFoundError(f\"Could not find bundled Kissat at {bundled_path}\")\n",
    "        src = str(bundled_path)\n",
    "\n",
    "    # 2) Copy into a user-writable cache\n",
    "    cache = os.path.join(tempfile.gettempdir(), \"id_Q_kissat\")\n",
    "    os.makedirs(cache, exist_ok=True)\n",
    "    target = os.path.join(cache, \"kissat\")\n",
    "\n",
    "    # 3) Only recopy if missing or outdated\n",
    "    if (not os.path.exists(target) or \n",
    "        os.path.getmtime(target) < os.path.getmtime(src)):\n",
    "        shutil.copy2(src, target)\n",
    "        st = os.stat(target)\n",
    "        os.chmod(target, st.st_mode | stat.S_IXUSR)  # ensure exec bit\n",
    "\n",
    "    return target\n",
    "\n",
    "def solve_sat_py(\n",
    "    clauses: List[List[int]],\n",
    "    num_vars: int\n",
    ") -> Tuple[Optional[bool], Optional[List[bool]]]:\n",
    "    \"\"\"\n",
    "    clauses: list of clauses, each a list of ints (e.g. [1, -2, 3])\n",
    "    num_vars: total number of variables\n",
    "    Returns (is_sat, model)\n",
    "    \"\"\"\n",
    "    # --- locate & verify the kissat binary ---\n",
    "    kissat = _kissat_path()\n",
    "\n",
    "    # DEBUG: make sure this is absolute & executable\n",
    "    print(f\"[debug] invoking Kissat at: {kissat}\")\n",
    "    assert os.path.isabs(kissat), \"Kissat path is not absolute!\"\n",
    "    assert os.access(kissat, os.X_OK), f\"Kissat not executable: {kissat}\"\n",
    "\n",
    "    # --- dump DIMACS ---\n",
    "    fd, path = tempfile.mkstemp(suffix=\".cnf\")\n",
    "    with os.fdopen(fd, \"w\") as f:\n",
    "        f.write(f\"p cnf {num_vars} {len(clauses)}\\n\")\n",
    "        for cl in clauses:\n",
    "            f.write(\" \".join(str(l) for l in cl) + \" 0\\n\")\n",
    "\n",
    "    # --- call Kissat ---\n",
    "    try:\n",
    "        completed = subprocess.run(\n",
    "            [kissat, \"--quiet\", path],\n",
    "            capture_output=True, text=True\n",
    "        )\n",
    "    finally:\n",
    "        try:\n",
    "            os.remove(path)\n",
    "        except OSError:\n",
    "            pass\n",
    "\n",
    "    # --- parse result ---\n",
    "    out = completed.stdout.splitlines()\n",
    "    if any(line.startswith(\"s SATISFIABLE\") for line in out):\n",
    "        model = [False] * num_vars\n",
    "        for line in out:\n",
    "            if line.startswith(\"v \"):\n",
    "                for tok in line.split()[1:]:\n",
    "                    lit = int(tok)\n",
    "                    if lit == 0: continue\n",
    "                    v = abs(lit)\n",
    "                    if 1 <= v <= num_vars:\n",
    "                        model[v-1] = (lit > 0)\n",
    "        return True, model\n",
    "\n",
    "    if any(line.startswith(\"s UNSATISFIABLE\") for line in out):\n",
    "        return False, None\n",
    "\n",
    "    # any other output is treated as an error\n",
    "    return None, None\n"
   ]
  },
  {
   "cell_type": "code",
   "execution_count": 10,
   "id": "ce35ca77-71cd-48c3-9cf8-119f73892fd6",
   "metadata": {},
   "outputs": [],
   "source": [
    "from solve_SAT import add_lex_decreasing, add_neq_Q, add_row_cardinality, add_U_constraint"
   ]
  },
  {
   "cell_type": "code",
   "execution_count": 11,
   "id": "e9e4edf3-04d5-4f6e-b0aa-aa33bae6b6c6",
   "metadata": {},
   "outputs": [
    {
     "name": "stdout",
     "output_type": "stream",
     "text": [
      "Q.shape = (50, 10)\n"
     ]
    }
   ],
   "source": [
    "import numpy as np\n",
    "\n",
    "Q = np.array([\n",
    "    [0,0,0,0,0,0,0,0,0,0],\n",
    "    [0,0,0,0,0,0,0,0,0,0],\n",
    "    [0,1,0,0,0,0,0,0,0,0],\n",
    "    [0,0,1,0,0,0,0,0,0,0],\n",
    "    [1,0,0,0,0,0,1,0,0,0],\n",
    "    [0,0,0,0,0,0,0,0,0,0],\n",
    "    [0,0,0,0,0,0,0,0,1,0],\n",
    "    [1,0,0,0,0,0,1,0,0,0],\n",
    "    [0,0,0,0,0,0,0,1,0,0],\n",
    "    [0,1,0,0,0,0,1,0,0,0],\n",
    "    [0,0,0,0,1,0,0,1,0,1],\n",
    "    [0,0,1,0,0,0,0,1,0,0],\n",
    "    [0,0,0,0,0,0,0,0,0,0],\n",
    "    [0,1,0,0,0,0,0,0,0,0],\n",
    "    [0,0,0,0,0,0,0,0,0,0],\n",
    "    [0,1,0,0,0,0,0,0,1,0],\n",
    "    [0,0,0,0,0,0,0,0,0,0],\n",
    "    [0,1,0,0,0,0,0,0,0,0],\n",
    "    [0,0,0,0,0,0,0,0,0,1],\n",
    "    [0,0,0,0,1,1,0,0,0,1],\n",
    "    [1,0,1,0,0,0,0,0,1,1],\n",
    "    [0,1,0,0,0,0,0,1,0,0],\n",
    "    [0,0,0,0,0,1,0,0,0,1],\n",
    "    [0,0,0,0,0,0,0,0,0,0],\n",
    "    [0,0,0,0,0,0,0,0,0,1],\n",
    "    [0,1,0,1,0,0,0,0,0,0],\n",
    "    [0,0,0,0,0,0,0,0,0,0],\n",
    "    [0,0,0,0,1,0,0,0,0,0],\n",
    "    [0,1,0,0,0,0,0,0,0,0],\n",
    "    [0,0,0,0,0,0,0,0,1,0],\n",
    "    [0,0,0,0,0,0,0,0,0,0],\n",
    "    [1,1,0,0,0,0,0,0,0,0],\n",
    "    [0,0,0,0,0,0,0,0,0,0],\n",
    "    [0,0,0,0,0,0,0,0,0,0],\n",
    "    [0,1,0,0,0,0,0,0,0,0],\n",
    "    [0,0,0,0,0,0,0,0,0,1],\n",
    "    [0,0,1,0,1,0,1,0,0,0],\n",
    "    [0,0,0,0,0,0,0,0,0,0],\n",
    "    [0,0,1,0,0,0,0,0,0,0],\n",
    "    [0,0,0,0,0,0,0,0,0,0],\n",
    "    [1,0,0,0,0,1,0,0,0,0],\n",
    "    [0,0,0,0,0,0,0,0,0,0],\n",
    "    [0,0,0,0,0,0,0,0,0,0],\n",
    "    [0,0,0,0,0,0,1,0,0,0],\n",
    "    [0,0,0,0,1,1,0,1,0,0],\n",
    "    [0,0,1,1,0,0,1,0,0,0],\n",
    "    [0,0,0,0,0,0,1,0,0,0],\n",
    "    [1,0,0,0,1,0,0,0,0,0],\n",
    "    [0,0,0,0,0,0,0,0,0,0],\n",
    "    [0,1,0,0,0,1,1,0,1,0],\n",
    "], dtype=int)\n",
    "\n",
    "print(\"Q.shape =\", Q.shape)  # should output (50, 10)\n"
   ]
  },
  {
   "cell_type": "code",
   "execution_count": 12,
   "id": "34ede181-0feb-41df-b69f-b53fb30bcfae",
   "metadata": {},
   "outputs": [],
   "source": [
    "(Q_basis, basis_to_original, orig_indices_for_basis,\n",
    "     Q_unique, unique_to_original, basis_to_unique) = get_basis(Q)\n",
    "Q_sorted, sorted_to_original = lex_sort_columns(Q_basis)"
   ]
  },
  {
   "cell_type": "code",
   "execution_count": 17,
   "id": "add9af29-517f-4d06-b6ab-b89aa3bd0a84",
   "metadata": {},
   "outputs": [],
   "source": [
    "def find_minimal_parent(supports, J):\n",
    "    \"\"\"\n",
    "    supports : list[ set[int] ]  (non‑trivial, unique)\n",
    "    J        : number of rows\n",
    "\n",
    "    returns  : list[ int | None ]\n",
    "               parent[i] is index of a 1‑row cover of supports[i],\n",
    "               or None if supports[i] is maximal.\n",
    "    \"\"\"\n",
    "    n        = len(supports)\n",
    "    masks    = [sum(1 << j for j in S) for S in supports]\n",
    "    size_tbl = {}                       # size -> {mask : idx}\n",
    "    for idx, m in enumerate(masks):\n",
    "        size_tbl.setdefault(len(supports[idx]), {})[m] = idx\n",
    "\n",
    "    parent = [None] * n\n",
    "    for idx, (m, size) in enumerate(zip(masks, map(len, supports))):\n",
    "        complement = (~m) & ((1 << J) - 1)\n",
    "        while complement:\n",
    "            bit = complement & -complement            # add one row\n",
    "            cand = m | bit\n",
    "            p = size_tbl.get(size + 1, {}).get(cand)\n",
    "            if p is not None:\n",
    "                parent[idx] = p\n",
    "                break\n",
    "            complement &= complement - 1\n",
    "    return parent\n"
   ]
  },
  {
   "cell_type": "code",
   "execution_count": 29,
   "id": "5b235b94-55ff-43ee-8cee-d2a97f88acc9",
   "metadata": {},
   "outputs": [],
   "source": [
    "def unique_pattern_supports2(Q):\n",
    "    \"\"\"\n",
    "    Returns all nontrivial supports S = {j | \\aaa ⪰ q_j}, for each representative \\aaa.\n",
    "    *excluding* the empty set and the full set {0,…,J-1}.\n",
    "    \"\"\"\n",
    "    J, K = Q.shape\n",
    "    R = {tuple([0]*K)}\n",
    "    for j in range(J):\n",
    "        row = Q[j]\n",
    "        new = []\n",
    "        for aaa in R:\n",
    "            merged = tuple(aaa[k] | row[k] for k in range(K))\n",
    "            if merged not in R:\n",
    "                new.append(merged)\n",
    "        R.update(new)\n",
    "    # Build and filter supports\n",
    "    full = frozenset(range(J))\n",
    "    supports = []\n",
    "    for aaa in R:\n",
    "        S = frozenset(j for j in range(J) if all(aaa[k] >= Q[j][k] for k in range(K)))\n",
    "        # if S and S is not full:\n",
    "        supports.append(set(S))\n",
    "    return supports"
   ]
  },
  {
   "cell_type": "code",
   "execution_count": 34,
   "id": "d9b57d74-fae2-4392-be68-6b9b0bbc28c7",
   "metadata": {},
   "outputs": [],
   "source": [
    "def minimal_size_parent(supports):\n",
    "    n      = len(supports)\n",
    "    sizes  = [len(S) for S in supports]\n",
    "    masks  = [sum(1 << j for j in S) for S in supports]\n",
    "\n",
    "    # bucket by size for quick lookup\n",
    "    by_size = {}\n",
    "    for idx, (m, s) in enumerate(zip(masks, sizes)):\n",
    "        by_size.setdefault(s, []).append((m, idx))\n",
    "\n",
    "    parent = [None] * n\n",
    "    J = max(max(S) for S in supports) + 1\n",
    "\n",
    "    for i, (m, sz) in enumerate(zip(masks, sizes)):\n",
    "        best = None\n",
    "        for s in range(sz + 1, J + 1):\n",
    "            for cand, idx_c in by_size.get(s, []):\n",
    "                if m & ~cand == 0:              # m ⊆ cand\n",
    "                    best = idx_c\n",
    "                    break\n",
    "            if best is not None:\n",
    "                parent[i] = best\n",
    "                break\n",
    "    return parent\n"
   ]
  },
  {
   "cell_type": "code",
   "execution_count": 35,
   "id": "6d85c558-fc2d-490b-a3a4-e57442371bc5",
   "metadata": {},
   "outputs": [],
   "source": [
    "supports = unique_pattern_supports2(Q)\n",
    "# parent   = find_minimal_parent(supports, J=Q.shape[0])\n",
    "parent   = minimal_size_parent(supports)"
   ]
  },
  {
   "cell_type": "code",
   "execution_count": 36,
   "id": "e9361d9a-ac1e-4c91-bbe6-ceb927ea2069",
   "metadata": {},
   "outputs": [
    {
     "data": {
      "text/plain": [
       "True"
      ]
     },
     "execution_count": 36,
     "metadata": {},
     "output_type": "execute_result"
    }
   ],
   "source": [
    "verify_parents(supports, parent, check_minimal=False)"
   ]
  },
  {
   "cell_type": "code",
   "execution_count": 37,
   "id": "66159031-9a6f-451c-bc68-c7997dc897b7",
   "metadata": {},
   "outputs": [
    {
     "data": {
      "text/plain": [
       "{0,\n",
       " 1,\n",
       " 5,\n",
       " 6,\n",
       " 12,\n",
       " 14,\n",
       " 16,\n",
       " 18,\n",
       " 23,\n",
       " 24,\n",
       " 26,\n",
       " 29,\n",
       " 30,\n",
       " 32,\n",
       " 33,\n",
       " 35,\n",
       " 37,\n",
       " 39,\n",
       " 41,\n",
       " 42,\n",
       " 43,\n",
       " 46,\n",
       " 48}"
      ]
     },
     "execution_count": 37,
     "metadata": {},
     "output_type": "execute_result"
    }
   ],
   "source": [
    "supports[9]"
   ]
  },
  {
   "cell_type": "code",
   "execution_count": 41,
   "id": "af608fe3-54fd-486d-aca3-95b768ae70ac",
   "metadata": {
    "tags": []
   },
   "outputs": [
    {
     "data": {
      "text/plain": [
       "{25}"
      ]
     },
     "execution_count": 41,
     "metadata": {},
     "output_type": "execute_result"
    }
   ],
   "source": [
    "supports[parent[0]] - supports[0]"
   ]
  },
  {
   "cell_type": "code",
   "execution_count": 19,
   "id": "9a1b23f9-0521-4bcd-ba53-2408d112bf5e",
   "metadata": {},
   "outputs": [],
   "source": [
    "def verify_parents(supports, parent, check_minimal=False):\n",
    "    \"\"\"\n",
    "    Verify that the `parent` list is a valid parent mapping for `supports`.\n",
    "\n",
    "    Parameters\n",
    "    ----------\n",
    "    supports : list[set[int]]\n",
    "        The list of (non‑trivial) supports S ⊂ {0,…,J‑1}.\n",
    "    parent   : list[int | None]\n",
    "        parent[i] is either\n",
    "          • an integer index p such that supports[p] ⊃ supports[i], or\n",
    "          • None, meaning supports[i] is maximal.\n",
    "        The list must have the same length as `supports`.\n",
    "    check_minimal : bool, default False\n",
    "        If True, also require that the parent is *minimal*:\n",
    "        | parent[i] \\ supports[i] | == 1  whenever parent[i] is not None.\n",
    "\n",
    "    Returns\n",
    "    -------\n",
    "    bool\n",
    "        True  – all checks passed.\n",
    "        False – some entry failed (details printed).\n",
    "\n",
    "    Examples\n",
    "    --------\n",
    "    >>> ok = verify_parents(supports, parent, check_minimal=True)\n",
    "    >>> if not ok:\n",
    "    ...     raise ValueError(\"Parent structure is invalid.\")\n",
    "    \"\"\"\n",
    "    n = len(supports)\n",
    "    if n != len(parent):\n",
    "        print(\"Length mismatch: supports has\", n, \"entries but parent has\", len(parent))\n",
    "        return False\n",
    "\n",
    "    for i, (S, p) in enumerate(zip(supports, parent)):\n",
    "        if p is None:\n",
    "            # S is declared maximal – nothing to verify\n",
    "            continue\n",
    "\n",
    "        if not (0 <= p < n):\n",
    "            print(f\"Entry {i}: parent index {p} out of range.\")\n",
    "            return False\n",
    "\n",
    "        P = supports[p]\n",
    "        if not S < P:                       # strict superset test\n",
    "            print(f\"Entry {i}: parent is not a strict superset.\\n\"\n",
    "                  f\"  S = {sorted(S)}\\n\"\n",
    "                  f\"  P = {sorted(P)}\")\n",
    "            return False\n",
    "\n",
    "        if check_minimal and len(P - S) != 1:\n",
    "            print(f\"Entry {i}: parent is not minimal (diff = {sorted(P - S)})\")\n",
    "            return False\n",
    "\n",
    "    return True\n"
   ]
  },
  {
   "cell_type": "code",
   "execution_count": null,
   "id": "34373d15-2edc-4e57-9eb8-5f60c0735039",
   "metadata": {},
   "outputs": [],
   "source": [
    "from ortools.sat.python import cp_model\n",
    "from itertools import product\n",
    "\n",
    "def solve_identifiability_Q_cpsat(Q, Xcand = None):\n",
    "    \"\"\"\n",
    "    CP-SAT feasibility check for Q-matrix identifiability.\n",
    "\n",
    "    Arguments:\n",
    "      Q:        A J×K binary matrix (list of lists or numpy array).\n",
    "      time_limit: maximum solve time in seconds (default 30).\n",
    "\n",
    "    Returns:\n",
    "      (identifiable, Qbar_candidate)\n",
    "      - identifiable = True  if no alternate Qbar exists (so Q IS identifiable),\n",
    "                       False if we find a Qbar ≉ Q that explains all patterns.\n",
    "      - Qbar_candidate = the found J×K matrix (list of lists) when identifiable=False,\n",
    "                         otherwise None.\n",
    "    \"\"\"\n",
    "    J, K = Q.shape\n",
    "\n",
    "    # 1) Compute unique response patterns Phi\n",
    "    supports = unique_pattern_supports(Q)\n",
    "    A = len(supports)\n",
    "\n",
    "    model = cp_model.CpModel()\n",
    "\n",
    "    # 2) Decision variables\n",
    "    x = [[model.NewBoolVar(f\"x_{j}_{k}\") for k in range(K)] for j in range(J)]\n",
    "    h = [[model.NewBoolVar(f\"h_{a}_{k}\") for k in range(K)] for a in range(A)]\n",
    "    # if Xcand is not None:\n",
    "    #     # Xcand is a J×K list (or array) with 0/1 entries\n",
    "    #     for j in range(J):\n",
    "    #         for k in range(K):\n",
    "    #             model.Add(x[j][k] == Xcand[j][k])\n",
    "\n",
    "\n",
    "    \n",
    "    # --- norm constraints ------------------------------\n",
    "    # compute dist[j] = d(q_j) from your existing distances(Q) function\n",
    "    dist = distances(Q)  # array of length J\n",
    "\n",
    "    for j in range(J):\n",
    "        # at least one skill per item\n",
    "        model.Add( sum(x[j][k] for k in range(K)) >= 1 )\n",
    "        # at most K - dist[j] skills per item\n",
    "        model.Add( sum(x[j][k] for k in range(K)) <= K - dist[j] )\n",
    "\n",
    "    \n",
    "    # 3) OR-constraint: for each pattern a and each skill k,\n",
    "    #    h[a][k] == OR_{j in S_a} x[j][k],  where S_a = { j | Phi[a][j] == 1 }\n",
    "    for a, S_a in enumerate(supports):\n",
    "        for k in range(K):\n",
    "            if S_a:\n",
    "                # If any x[j,k] is 1 for j∈S, then h[a][k] must be 1:\n",
    "                for j in S_a:\n",
    "                    model.AddImplication(x[j][k], h[a][k])\n",
    "                # If all x[j,k]==0 for j∈S, then h[a][k] must be 0:\n",
    "                #   (¬x[j1,k] ∧ ¬x[j2,k] ∧ …) ⇒ ¬h[a][k]\n",
    "                clause = [x[j][k].Not() for j in S_a] + [h[a][k].Not()]\n",
    "                model.AddBoolOr(clause)\n",
    "            else:\n",
    "                # If pattern a has no correct items at all, it can never have any skill:\n",
    "                model.Add(h[a][k] == 0)\n",
    "\n",
    "    # 4) Non-covering constraint: for each pattern a and each item j NOT in S_a,\n",
    "    #    ∃k s.t. x[j][k]==1 ∧ h[a][k]==0\n",
    "    for a, S_a in enumerate(supports):\n",
    "        for j in range(J):\n",
    "            if j not in S_a:\n",
    "                # Build a small auxiliary b_{a,j,k} for each k:\n",
    "                b_vars = []\n",
    "                for k in range(K):\n",
    "                    b = model.NewBoolVar(f\"b_{a}_{j}_{k}\")\n",
    "                    b_vars.append(b)\n",
    "                    # b=1 ⇒ x[j,k]=1\n",
    "                    model.AddImplication(b, x[j][k])\n",
    "                    # b=1 ⇒ h[a,k]=0\n",
    "                    model.AddImplication(b, h[a][k].Not())\n",
    "                # Now require at least one b[a,j,k] = 1\n",
    "                model.AddBoolOr(b_vars)\n",
    "\n",
    "    # 5) Forbid the trivial solution x==Q: enforce at least one entry differs\n",
    "    diff_clause = []\n",
    "    for j in range(J):\n",
    "        for k in range(K):\n",
    "            if Q[j][k] == 1:\n",
    "                diff_clause.append(x[j][k].Not())\n",
    "            else:\n",
    "                diff_clause.append(x[j][k])\n",
    "    if clause:          \n",
    "        model.AddBoolOr(diff_clause)\n",
    "    # 6) Lexicographic non-increasing ordering on columns of x:\n",
    "    #    For each adjacent pair k, k+1, introduce diff[k][i] for i=0..J\n",
    "    #    i in [0..J-1] means first difference at row i; i=J means no difference.\n",
    "    # for k in range(K-1):\n",
    "    #     diff = [model.NewBoolVar(f\"diff_{k}_{i}\") for i in range(J+1)]\n",
    "    #     # exactly one position\n",
    "    #     model.Add(sum(diff) == 1)\n",
    "    #     # if first diff at row i < J:\n",
    "    #     for i in range(J):\n",
    "    #         # equality above i\n",
    "    #         for t in range(i):\n",
    "    #             model.Add(x[t][k] == x[t][k+1]).OnlyEnforceIf(diff[i])\n",
    "    #         # at i: x[i,k]=1, x[i,k+1]=0\n",
    "    #         model.Add(x[i][k] == 1).OnlyEnforceIf(diff[i])\n",
    "    #         model.Add(x[i][k+1] == 0).OnlyEnforceIf(diff[i])\n",
    "    #     # if no difference at all (diff[J]):\n",
    "    #     for t in range(J):\n",
    "    #         model.Add(x[t][k] == x[t][k+1]).OnlyEnforceIf(diff[J])\n",
    "    \n",
    "    # 6) Lexicographic ordering via weight encoding\n",
    "    #    Assign descending powers of two (MSB at row 0).\n",
    "    weights = [2**(J - 1 - j) for j in range(J)]\n",
    "\n",
    "    for k in range(K-1):\n",
    "        # build the two IntExpr’s for column k and k+1\n",
    "        col_k   = sum(weights[j] * x[j][k]   for j in range(J))\n",
    "        col_k1  = sum(weights[j] * x[j][k+1] for j in range(J))\n",
    "        # enforce the numeric ≥ relation, which is exactly lex-order\n",
    "        model.Add(col_k >= col_k1)\n",
    "\n",
    "            \n",
    "    # 7) Solve\n",
    "    solver = cp_model.CpSolver()\n",
    "    # solver.parameters.max_time_in_seconds = time_limit\n",
    "    solver.parameters.log_search_progress = True\n",
    "    solver.parameters.num_search_workers = 8\n",
    "    status = solver.Solve(model)\n",
    "\n",
    "    if status in (cp_model.OPTIMAL, cp_model.FEASIBLE):\n",
    "        # Found an alternate Qbar ⇒ original Q is NOT identifiable\n",
    "        Qbar = [[solver.Value(x[j][k]) for k in range(K)] for j in range(J)]\n",
    "        return Qbar\n",
    "    else:\n",
    "        # No alternate found within time ⇒ Q is identifiable\n",
    "        return None\n"
   ]
  },
  {
   "cell_type": "code",
   "execution_count": null,
   "id": "95d0166e-9ebf-4ace-86a4-653f4f17432f",
   "metadata": {},
   "outputs": [],
   "source": [
    "def unique_pattern_supports(Q):\n",
    "    \"\"\"\n",
    "    Returns all nontrivial supports S = {j | \\aaa ⪰ q_j}, for each representative \\aaa.\n",
    "    *excluding* the empty set and the full set {0,…,J-1}.\n",
    "    \"\"\"\n",
    "    J, K = Q.shape\n",
    "    R = {tuple([0]*K)}\n",
    "    for j in range(J):\n",
    "        row = Q[j]\n",
    "        new = []\n",
    "        for aaa in R:\n",
    "            merged = tuple(aaa[k] | row[k] for k in range(K))\n",
    "            if merged not in R:\n",
    "                new.append(merged)\n",
    "        R.update(new)\n",
    "    # Build and filter supports\n",
    "    full = frozenset(range(J))\n",
    "    supports = []\n",
    "    for aaa in R:\n",
    "        S = frozenset(j for j in range(J) if all(aaa[k] >= Q[j][k] for k in range(K)))\n",
    "        if S and S is not full:\n",
    "            supports.append(set(S))\n",
    "    return supports"
   ]
  },
  {
   "cell_type": "code",
   "execution_count": null,
   "id": "e48c8f54-022c-460a-a21d-e7d259c035a5",
   "metadata": {},
   "outputs": [],
   "source": [
    "def solve_identifiability_Q_cpsat(Q):\n",
    "    from ortools.sat.python import cp_model\n",
    "\n",
    "    model = cp_model.CpModel()\n",
    "    J = len(Q)             # number of items (rows)\n",
    "    K = len(Q[0]) if J > 0 else 0  # number of attributes (columns)\n",
    "    # Compute dist[j] as the number of 1s in row j of original Q (assuming this interpretation)\n",
    "    dist = distances(Q)\n",
    "\n",
    "    # Get unique response patterns of Q. S_patterns[a] is the set of item indices that pattern a solved.\n",
    "    S_patterns = unique_pattern_supports(Q)  # assume this function is provided\n",
    "    A = len(S_patterns)  # number of unique response patterns\n",
    "\n",
    "    # Create decision variables x[j][k] and h[a][k]\n",
    "    x = [[model.NewBoolVar(f\"x[{j},{k}]\") for k in range(K)] for j in range(J)]\n",
    "    h = [[model.NewBoolVar(f\"h[{a},{k}]\") for k in range(K)] for a in range(A)]\n",
    "\n",
    "    # Norm constraints: 1 <= sum_k x[j,k] <= K - dist[j] for each item j\n",
    "    for j in range(J):\n",
    "        # At least one attribute per item\n",
    "        model.Add(sum(x[j][k] for k in range(K)) >= 1)\n",
    "        # At most K - dist[j] attributes for item j\n",
    "        model.Add(sum(x[j][k] for k in range(K)) <= K - dist[j])\n",
    "\n",
    "    # OR constraints: h[a,k] = OR_{j in S_a} x[j,k]\n",
    "    for a, S_a in enumerate(S_patterns):\n",
    "        for k in range(K):\n",
    "            # If any j in S_a requires k, then h[a,k] must be 1.\n",
    "            for j in S_a:\n",
    "                model.Add(x[j][k] <= h[a][k])\n",
    "            # If h[a,k] is 1, at least one j in S_a has x[j,k] = 1.\n",
    "            # (If S_a is empty, pattern a solved no items, then h[a,k] should be 0 for all k.)\n",
    "            if len(S_a) > 0:\n",
    "                model.Add(sum(x[j][k] for j in S_a) >= 1).OnlyEnforceIf(h[a][k])\n",
    "            else:\n",
    "                model.Add(h[a][k] == 0)\n",
    "\n",
    "    # Non-domination constraints: for each pattern a and item j not in S_a, \n",
    "    # there exists at least one k with x[j,k]=1 and h[a,k]=0.\n",
    "    # We introduce y_{j,a,k} variables to capture (x[j,k] AND NOT h[a,k]).\n",
    "    y = {}  # dictionary for y[(j,a,k)] variables\n",
    "    for a, S_a in enumerate(S_patterns):\n",
    "        for j in range(J):\n",
    "            if j in S_a:\n",
    "                continue  # skip items that pattern a already solves\n",
    "            for k in range(K):\n",
    "                y[(j,a,k)] = model.NewBoolVar(f\"y[{j},{a},{k}]\")\n",
    "                # y[j,a,k] -> x[j,k] and y[j,a,k] -> (NOT h[a,k])\n",
    "                model.Add(x[j][k] == 1).OnlyEnforceIf(y[(j,a,k)])\n",
    "                model.Add(h[a][k] == 0).OnlyEnforceIf(y[(j,a,k)])\n",
    "                # (x[j,k] and NOT h[a,k]) -> y[j,a,k]\n",
    "                model.AddBoolAnd([x[j][k], h[a][k].Not()]).OnlyEnforceIf(y[(j,a,k)])\n",
    "                # If x[j,k] and h[a,k] are such that x=1 and h=0, then y can be 1.\n",
    "                # (Note: AddBoolAnd with OnlyEnforceIf acts as implication: if y is true, then x=1 and h=0.\n",
    "                # We also need the reverse, which we handle by the OnlyEnforceIf above.)\n",
    "            # At least one y[j,a,k] must be true (>=1) for j not in S_a\n",
    "            # (i.e., item j has some required attr missing in pattern a)\n",
    "            model.Add(sum(y[(j,a,k)] for k in range(K)) >= 1)\n",
    "\n",
    "    # Lexicographic ordering constraints: ensure columns of x are sorted non-increasing lexicographically.\n",
    "    for k in range(K - 1):\n",
    "        # prefix_equal[i] is true iff x[0..i-1, k] == x[0..i-1, k+1].\n",
    "        prefix_equal = [model.NewBoolVar(f\"prefix_equal_{k}_{i}\") \n",
    "                        for i in range(J+1)]\n",
    "        model.Add(prefix_equal[0] == 1)  # empty prefix is equal\n",
    "\n",
    "        for i in range(J):\n",
    "            # eq = True iff x[i,k] == x[i,k+1].\n",
    "            eq = model.NewBoolVar(f\"eq_{k}_{i}\")\n",
    "            # Enforce eq ↔ (x[i,k] == x[i,k+1]):\n",
    "            model.Add(x[i][k] == x[i][k+1]).OnlyEnforceIf(eq)\n",
    "            model.Add(x[i][k] + x[i][k+1] == 1).OnlyEnforceIf(eq.Not())\n",
    "\n",
    "            # Compute prefix_equal[i+1] = prefix_equal[i] AND eq\n",
    "            # (Using linear reification for AND)\n",
    "            model.Add(prefix_equal[i+1] <= prefix_equal[i])\n",
    "            model.Add(prefix_equal[i+1] <= eq)\n",
    "            model.Add(prefix_equal[i+1] >= prefix_equal[i] + eq - 1)\n",
    "\n",
    "            # If prefix_equal[i] is true, enforce the lex-order at row i\n",
    "            # (i.e. x[i][k] >= x[i][k+1])\n",
    "            model.Add(x[i][k] >= x[i][k+1]).OnlyEnforceIf(prefix_equal[i])\n",
    " \n",
    "    # Non-equality constraint: ensure x (the new Q) differs from original Q in at least one position.\n",
    "    diff_literals = []\n",
    "    for j in range(J):\n",
    "        for k in range(K):\n",
    "            if Q[j][k] == 1:\n",
    "                # if original is 1, then requiring a difference means x[j][k] must be 0 for this clause to satisfy.\n",
    "                diff_literals.append(x[j][k].Not())\n",
    "            else:\n",
    "                # if original is 0, difference means x[j][k] = 1 for that entry.\n",
    "                diff_literals.append(x[j][k])\n",
    "    model.AddBoolOr(diff_literals)\n",
    "\n",
    "    # Solve the CP-SAT model\n",
    "    solver = cp_model.CpSolver()\n",
    "    solver.parameters.log_search_progress = True\n",
    "    # solver.parameters.num_search_workers = 8      # optional: parallel threads for solving\n",
    "\n",
    "    result_status = solver.Solve(model)\n",
    "    if result_status in (cp_model.OPTIMAL, cp_model.FEASIBLE):\n",
    "        # Extract solution for x\n",
    "        solution = [[int(solver.Value(x[j][k])) for k in range(K)] for j in range(J)]\n",
    "        return solution\n",
    "    else:\n",
    "        return None  # No alternative Q found (Q might be identifiable)\n"
   ]
  },
  {
   "cell_type": "code",
   "execution_count": null,
   "id": "4dea7a38-31ef-46fd-983e-14ef440bcfc9",
   "metadata": {},
   "outputs": [],
   "source": []
  },
  {
   "cell_type": "code",
   "execution_count": null,
   "id": "defa7a56-0a42-4bbd-91ff-82b1b7dc8c34",
   "metadata": {},
   "outputs": [],
   "source": [
    "def solve_identifiability_Q_pysat(Q):\n",
    "    from pysat.solvers import Solver\n",
    "    from pysat.formula import CNF\n",
    "    from pysat.card import CardEnc\n",
    "\n",
    "    J = len(Q)\n",
    "    K = len(Q[0]) if J > 0 else 0\n",
    "    dist = [sum(Q[j]) for j in range(J)]\n",
    "    S_patterns = unique_response_columns(Q)  # unique response patterns S_a for Q\n",
    "    A = len(S_patterns)\n",
    "\n",
    "    # Helper functions to map (j,k) or (a,k) to variable IDs\n",
    "    def x_var(j, k):\n",
    "        # x variables indexed 1..J*K\n",
    "        return j * K + k + 1  # +1 to make variables 1-indexed\n",
    "    def h_var(a, k):\n",
    "        # h variables indexed after x's\n",
    "        return J * K + a * K + k + 1\n",
    "\n",
    "    cnf = CNF()\n",
    "\n",
    "    # Norm constraints:\n",
    "    for j in range(J):\n",
    "        # At least one x in row j (clause of all x_jk)\n",
    "        clause = [x_var(j, k) for k in range(K)]\n",
    "        cnf.append(clause)\n",
    "        # At most K - dist[j] ones in row j (if K - dist[j] < K, otherwise no need)\n",
    "        m = K - dist[j]\n",
    "        if m < K:  # Only add if this actually restricts (i.e., dist[j] > 0)\n",
    "            # Use CardEnc to encode sum(x_jk) <= m\n",
    "            row_lits = [x_var(j, k) for k in range(K)]\n",
    "            cnf.extend(CardEnc.atmost(lits=row_lits, bound=m, encoding='seq').clauses)\n",
    "\n",
    "    # OR constraints for pattern attributes:\n",
    "    for a, S_a in enumerate(S_patterns):\n",
    "        for k in range(K):\n",
    "            # If any item in S_a has x=1 for attr k, then h[a,k] must be 1: (¬x OR h)\n",
    "            for j in S_a:\n",
    "                cnf.append([-x_var(j, k), h_var(a, k)])\n",
    "            # If h[a,k] is 1 then some j in S_a has x[j,k]=1: (¬h OR x_j1 OR x_j2 OR ...)\n",
    "            if len(S_a) > 0:\n",
    "                clause = [-h_var(a, k)] + [x_var(j, k) for j in S_a]\n",
    "                cnf.append(clause)\n",
    "            else:\n",
    "                # Pattern a solved no items, so h[a,k] must be false\n",
    "                cnf.append([-h_var(a, k)])\n",
    "\n",
    "    # Non-domination constraints:\n",
    "    # Introduce u_{j,a,k} for each j not in S_a and each k\n",
    "    # We need to create new variable IDs for all u's.\n",
    "    u_vars = {}  # map (j,a,k) to variable ID\n",
    "    next_var_id = J * K + A * K + 1  # start after all x and h variables\n",
    "    for a, S_a in enumerate(S_patterns):\n",
    "        for j in range(J):\n",
    "            if j in S_a:\n",
    "                continue\n",
    "            for k in range(K):\n",
    "                u_id = next_var_id\n",
    "                u_vars[(j, a, k)] = u_id\n",
    "                next_var_id += 1\n",
    "                # u -> x and u -> ¬h\n",
    "                cnf.append([-u_id, x_var(j, k)])        # if u then x_jk\n",
    "                cnf.append([-u_id, -h_var(a, k)])       # if u then ¬h[a,k]\n",
    "                # (x_jk and ¬h[a,k]) -> u \n",
    "                cnf.append([ -x_var(j, k), h_var(a, k), u_id ])\n",
    "            # At least one u for this (j,a) must be true:\n",
    "            clause = [u_vars[(j, a, k)] for k in range(K)]\n",
    "            cnf.append(clause)\n",
    "\n",
    "    # Lexicographic ordering constraints:\n",
    "    # Aux E_{i,k} variables to indicate prefix equality up to row i between col k and k+1.\n",
    "    E = {}  # map (i,k) to variable ID\n",
    "    for k in range(K-1):\n",
    "        # Define E_{0,k}\n",
    "        E[(0, k)] = next_var_id; e0 = E[(0, k)]\n",
    "        next_var_id += 1\n",
    "        # E_{0,k} <-> (x_{0,k} <-> x_{0,k+1})\n",
    "        # If E true then (x0k == x0,k+1):\n",
    "        cnf.append([-e0, -x_var(0, k),  x_var(0, k+1)])  # E -> (¬x0k or x0,k+1) (implies if E and x0k then x0,k+1)\n",
    "        cnf.append([-e0,  x_var(0, k), -x_var(0, k+1)])  # E -> (x0k or ¬x0,k+1)\n",
    "        # If (x0k == x0,k+1) then E must be true:\n",
    "        cnf.append([ x_var(0, k),  x_var(0, k+1), e0 ])   # if x0k=1 and x0,k+1=1 then E true\n",
    "        cnf.append([ -x_var(0, k), -x_var(0, k+1), e0 ])  # if x0k=0 and x0,k+1=0 then E true\n",
    "\n",
    "        # For i >= 1:\n",
    "        for i in range(1, J):\n",
    "            E[(i, k)] = next_var_id; ei = E[(i, k)]\n",
    "            prev_e = E[(i-1, k)]\n",
    "            next_var_id += 1\n",
    "            # E_{i,k} -> E_{i-1,k} (if prefix up to i is equal, then prefix up to i-1 must be equal)\n",
    "            cnf.append([-ei, prev_e])\n",
    "            # E_{i,k} -> (x_{i,k} == x_{i,k+1})\n",
    "            cnf.append([-ei, -x_var(i, k),  x_var(i, k+1)])  # if E_i then x_i_k -> x_i,k+1\n",
    "            cnf.append([-ei,  x_var(i, k), -x_var(i, k+1)])  # if E_i then x_i,k+1 -> x_i_k\n",
    "            # If previous prefix equal and current row equal, then E_i true:\n",
    "            cnf.append([ -prev_e,  ei ])  # if prev prefix not equal, we don't constrain E_i (could be false or true, but next clause will handle actually)\n",
    "            cnf.append([ -x_var(i, k),  x_var(i, k+1), -prev_e, ei ])   # if prev_e and x_i both 0\n",
    "            cnf.append([  x_var(i, k), -x_var(i, k+1), -prev_e, ei ])   # if prev_e and x_i both 1\n",
    "            # (Note: We ensure E_i can't be true unless prev_e is true and row i values equal. \n",
    "            # We also ensure if prev_e is true and row i values equal, then E_i becomes true.)\n",
    "\n",
    "            # Lexicographic constraint at row i (0-indexed means prefix condition is E_{i-1}):\n",
    "            # If prefix up to i-1 is equal, then x[i,k] >= x[i,k+1], i.e., not(x[i,k]=0 and x[i,k+1]=1).\n",
    "            # Clause: (¬E_{i-1,k} ∨ x_{i,k} ∨ ¬x_{i,k+1})\n",
    "            cnf.append([ -prev_e, x_var(i, k), -x_var(i, k+1) ])\n",
    "        # Also handle lexicographic constraint for first row (i=0):\n",
    "        # If prefix up to -1 (trivially true) then x[0,k] >= x[0,k+1]: clause (x_{0,k} ∨ ¬x_{0,k+1})\n",
    "        cnf.append([ x_var(0, k), -x_var(0, k+1) ])\n",
    "\n",
    "    # Non-equality constraint: at least one (j,k) where x differs from Q\n",
    "    diff_clause = []\n",
    "    for j in range(J):\n",
    "        for k in range(K):\n",
    "            if Q[j][k] == 1:\n",
    "                diff_clause.append(-x_var(j, k))\n",
    "            else:\n",
    "                diff_clause.append(x_var(j, k))\n",
    "    cnf.append(diff_clause)\n",
    "\n",
    "    # Use a SAT solver to find a satisfying assignment\n",
    "    solver = Solver(name='glucose4')  # e.g., Glucose4 SAT solver\n",
    "    solver.append_formula(cnf)\n",
    "    if solver.solve():\n",
    "        model = solver.get_model()  # satisfying assignment (list of literals)\n",
    "        # Construct the solution matrix from the model (positive literals indicate True variables)\n",
    "        sol_matrix = [[0]*K for _ in range(J)]\n",
    "        for j in range(J):\n",
    "            for k in range(K):\n",
    "                var = x_var(j, k)\n",
    "                if var in model:\n",
    "                    sol_matrix[j][k] = 1  # x[j,k] is True\n",
    "                else:\n",
    "                    sol_matrix[j][k] = 0  # either var is false or var's negation is in model\n",
    "        return sol_matrix\n",
    "    else:\n",
    "        return None\n"
   ]
  },
  {
   "cell_type": "code",
   "execution_count": null,
   "id": "8b9cf21a-7acc-413b-81f4-5e47006db5f4",
   "metadata": {},
   "outputs": [],
   "source": [
    "pysat.solvers"
   ]
  },
  {
   "cell_type": "code",
   "execution_count": null,
   "id": "0cac7216-89d8-403d-b4b2-a07122e9e886",
   "metadata": {},
   "outputs": [],
   "source": [
    "Qbb = solve_identifiability_Q_pysat(Q_sorted)"
   ]
  },
  {
   "cell_type": "code",
   "execution_count": null,
   "id": "92b5553a-b997-4315-8dc8-f0d3ae1f673a",
   "metadata": {},
   "outputs": [],
   "source": [
    "solve_identifiability_Q_cpsat(Q_basis)"
   ]
  },
  {
   "cell_type": "code",
   "execution_count": null,
   "id": "933908ee-cad4-4fc7-9803-c70ef5cdf08e",
   "metadata": {},
   "outputs": [],
   "source": [
    "solve_identifiability_Q_cpsat(Q_basis)"
   ]
  },
  {
   "cell_type": "code",
   "execution_count": null,
   "id": "67caa1df-c93b-40c7-b862-dd9cb4c59db2",
   "metadata": {},
   "outputs": [],
   "source": [
    "Qb = solve_identifiability_Q_cpsat(Q_sorted)"
   ]
  },
  {
   "cell_type": "code",
   "execution_count": null,
   "id": "7d85932d-b595-4237-9a45-f2a78335dc0f",
   "metadata": {},
   "outputs": [],
   "source": [
    "Qb"
   ]
  },
  {
   "cell_type": "code",
   "execution_count": null,
   "id": "92177132-65c5-4de3-9d57-6e7eed73cf52",
   "metadata": {},
   "outputs": [],
   "source": [
    "Qstart = lex_sort_columns(np.array(Qb))[0]"
   ]
  },
  {
   "cell_type": "code",
   "execution_count": null,
   "id": "c79d3626-42f7-44ac-817d-08c5432333f9",
   "metadata": {},
   "outputs": [],
   "source": []
  },
  {
   "cell_type": "code",
   "execution_count": null,
   "id": "52763dbc-bec5-4d32-bfc8-0f81555db912",
   "metadata": {},
   "outputs": [],
   "source": [
    "Qstart-Q_sorted"
   ]
  },
  {
   "cell_type": "code",
   "execution_count": null,
   "id": "14aec03d-3c3f-4186-b54d-0ccce1a675be",
   "metadata": {},
   "outputs": [],
   "source": [
    "Q_sorted"
   ]
  },
  {
   "cell_type": "code",
   "execution_count": null,
   "id": "ba43ecd8-6d84-46b3-b442-dbd6a15385d1",
   "metadata": {},
   "outputs": [],
   "source": [
    "lex_sort_columns(Q_sorted)"
   ]
  },
  {
   "cell_type": "code",
   "execution_count": null,
   "id": "06ee869b-6968-4aac-b938-6c0986153ae7",
   "metadata": {},
   "outputs": [],
   "source": [
    "thm_check(Q_sorted, lex_sort_columns(np.array(Qb))[0])"
   ]
  },
  {
   "cell_type": "code",
   "execution_count": null,
   "id": "9f99beca-a9e3-490c-9a6f-f167da2be538",
   "metadata": {},
   "outputs": [],
   "source": [
    "solve_Q_identifiability_IPfast_debug(Q_sorted, Qstart)"
   ]
  },
  {
   "cell_type": "code",
   "execution_count": null,
   "id": "4b78035d-c209-4b14-8395-ee26b224277f",
   "metadata": {},
   "outputs": [],
   "source": []
  },
  {
   "cell_type": "code",
   "execution_count": null,
   "id": "0aff6446-75db-4c48-97df-9a5de5682de3",
   "metadata": {},
   "outputs": [],
   "source": [
    "from solve_Q_identifiability import solve_Q_identifiability_IPfast"
   ]
  },
  {
   "cell_type": "code",
   "execution_count": null,
   "id": "7bd1a9d5-d096-44a9-a493-8af059f25bf9",
   "metadata": {},
   "outputs": [],
   "source": [
    "def solve_Q_identifiability_IPfast_debug(Q, startQ):\n",
    "    J, K = Q.shape\n",
    "\n",
    "    # Step 1: Generate constraints Phi_a based on Q\n",
    "    supports = unique_pattern_supports(Q)\n",
    "    A = len(supports)\n",
    "\n",
    "\n",
    "    # Step 2: Set up the integer program\n",
    "    model = gp.Model('Q_identifiability')\n",
    "    model.setParam('SolutionLimit', 1)\n",
    "    model.setParam('OutputFlag', 1)\n",
    "\n",
    "    # Decision variables\n",
    "    x = model.addVars(J, K, vtype=GRB.BINARY, name=\"x\")     # for \\bQQ\n",
    "    h = model.addVars(A, K, vtype=GRB.BINARY, name=\"h\")     # for h(a)\n",
    "\n",
    "    # start with x = Q (feasible for C1 but violates C2) – useful branching guide\n",
    "    if startQ is not None:\n",
    "        for j,k in np.ndindex(Q.shape):\n",
    "            x[j,k].Start = startQ[j,k]\n",
    "            \n",
    "    # Feasibility constraints (Unproved: \\bqq_j \\preceq \\qq_j)\n",
    "    for j in range(J):\n",
    "        for k in range(K):\n",
    "            model.addConstr(x[j, k] <= Q[j, k], name=f\"\\bq_{j}_{k} <= q_{j}_{k}\")\n",
    "\n",
    "    # Non-equality constraint to ensure \\bQQ ≠ \\QQ\n",
    "    model.addConstr(\n",
    "        gp.quicksum(Q[j, k] - x[j, k] for j in range(J) for k in range(K)) >= 1,\n",
    "        name=\"Q != Q_bar\"\n",
    "    )\n",
    "\n",
    "    # Constraints to define h[a,k] = ⋁_{j in S_a} x[j,k]\n",
    "    for a, S_a in enumerate(supports):\n",
    "        for k in range(K):\n",
    "            for j in S_a:\n",
    "                model.addConstr(h[a, k] >= x[j, k], name=f\"h_lb_a{a}_j{j}_k{k}\")\n",
    "            model.addConstr(h[a, k] <= gp.quicksum(x[j, k] for j in S_a), name=f\"h_ub_a{a}_k{k}\")\n",
    "\n",
    "    # Non-domination constraint: h(a) ≰ \\bqq_j for all j not in S_a\n",
    "    for a, S_a in enumerate(supports):\n",
    "        for j in range(J):\n",
    "            if j not in S_a:\n",
    "                model.addConstr(\n",
    "                    gp.quicksum((1 - h[a, k]) * x[j, k] for k in range(K)) >= 1,\n",
    "                    name=f\"non_dom_a{a}_j{j}\"\n",
    "                )\n",
    "\n",
    "    # Solve the integer program\n",
    "    model.optimize()\n",
    "    status = model.Status\n",
    "\n",
    "    if status == GRB.INFEASIBLE:\n",
    "        return None                         # Q identifiable\n",
    "    elif status in (GRB.OPTIMAL, GRB.SOLUTION_LIMIT):\n",
    "        solution = np.array([[int(x[j, k].X) for k in range(K)] for j in range(J)])\n",
    "        return solution  # Q is not identifiable\n",
    "    elif status == GRB.SUBOPTIMAL:\n",
    "        if model.SolCount > 0:\n",
    "            solution = np.array([[int(x[j, k].X) for k in range(K)] for j in range(J)])\n",
    "            return solution\n",
    "        else:\n",
    "            return None  # inconclusive — could trigger Phase B\n",
    "    else:\n",
    "        return None      # early termination (time limit, etc.)\n",
    "\n",
    "    "
   ]
  },
  {
   "cell_type": "code",
   "execution_count": null,
   "id": "10e9b22b-8111-4f1f-b02e-4da029359642",
   "metadata": {},
   "outputs": [],
   "source": [
    "solve_Q_identifiability_IP_debug(Q_sorted, Qstart)"
   ]
  },
  {
   "cell_type": "code",
   "execution_count": null,
   "id": "e62943e3-6b76-4841-b225-49807d81c464",
   "metadata": {},
   "outputs": [],
   "source": [
    "Q_sorted.shape"
   ]
  },
  {
   "cell_type": "code",
   "execution_count": null,
   "id": "6fb6042b-8116-4433-aaaa-aafcfc33b198",
   "metadata": {},
   "outputs": [],
   "source": [
    "Q_sorted, Qstart"
   ]
  },
  {
   "cell_type": "code",
   "execution_count": null,
   "id": "3cd31ef1-64a5-4b73-9949-6ec0fcc45415",
   "metadata": {},
   "outputs": [],
   "source": [
    "thm_check(Q_sorted, Qstart)"
   ]
  },
  {
   "cell_type": "code",
   "execution_count": null,
   "id": "2492d7cf-1b9f-4430-8ee5-7ec15f4d522c",
   "metadata": {},
   "outputs": [],
   "source": [
    "from solve_Q_identifiability import solve_identifiability_Q_cpsat"
   ]
  },
  {
   "cell_type": "code",
   "execution_count": null,
   "id": "e311ea4a-e9c5-4632-9fdc-9bf62c5f42c6",
   "metadata": {},
   "outputs": [],
   "source": [
    "def solve_Q_identifiability_IP_debug(Q, Qstart = None):\n",
    "    J, K = Q.shape\n",
    "\n",
    "    # Step 1: Generate constraints Phi_a based on Q\n",
    "    supports = unique_pattern_supports(Q)\n",
    "    A = len(supports)\n",
    "\n",
    "    # Step 2: Set up the integer program\n",
    "    model = gp.Model('Q_identifiability')\n",
    "    model.setParam('SolutionLimit', 1)\n",
    "    model.setParam('OutputFlag', 1)\n",
    "\n",
    "    # Decision variables\n",
    "    x = model.addVars(J, K, vtype=GRB.BINARY, name=\"x\")     # for \\bQQ\n",
    "    h = model.addVars(A, K, vtype=GRB.BINARY, name=\"h\")     # for h(a)\n",
    "\n",
    "    # start with x = Q (feasible for C1 but violates C2) – useful branching guide\n",
    "    if Qstart is not None:\n",
    "        for j,k in np.ndindex(Q.shape):\n",
    "            x[j,k].Start = Qstart[j,k]\n",
    "            \n",
    "    # Norm constraints, together with the column ordering constraint. Slower than the unproved version \"\\bqq_j \\preceq \\qq_j\".\n",
    "        \n",
    "    # --- norm constraints ------------------------------\n",
    "    dist = distances(Q)\n",
    "    for j in range(J):\n",
    "        model.addConstr(gp.quicksum(x[j, k] for k in range(K)) <= K - dist[j])\n",
    "        model.addConstr(1 <= gp.quicksum(x[j, k] for k in range(K)))\n",
    "        \n",
    "    # --- column lex‑ordering constraints ------------------------------\n",
    "    pow2 = [1 << (J - 1 - j) for j in range(J)]   # 2^{J-j-1}\n",
    "    def column_code(k):\n",
    "        return gp.quicksum(pow2[j] * x[j, k] for j in range(J))\n",
    "    for k in range(K - 1):\n",
    "        model.addConstr(column_code(k) >= column_code(k + 1),\n",
    "                        name=f\"lex_col_{k}\") \n",
    "    # add_lexico_constraints(model, x, J, K)\n",
    "        \n",
    "    # Non-equality constraint to ensure \\bQQ ≠ \\QQ\n",
    "    model.addConstr(\n",
    "        gp.quicksum(\n",
    "            (1 - Q[j, k]) * x[j, k]         # q=0  →  uses x\n",
    "            + Q[j, k]    * (1 - x[j, k])    # q=1  →  uses 1-x\n",
    "            for j in range(J)\n",
    "            for k in range(K)\n",
    "        ) >= 1,name=\"Q != Q_bar\")\n",
    "\n",
    "    # Constraints to define h[a,k] = ⋁_{j in S_a} x[j,k]\n",
    "    for a, S_a in enumerate(supports):\n",
    "        for k in range(K):\n",
    "            for j in S_a:\n",
    "                model.addConstr(h[a, k] >= x[j, k], name=f\"h_lb_a{a}_j{j}_k{k}\")\n",
    "            model.addConstr(h[a, k] <= gp.quicksum(x[j, k] for j in S_a), name=f\"h_ub_a{a}_k{k}\")\n",
    "\n",
    "    # Non-domination constraint: h(a) ≰ \\bqq_j for all j not in S_a\n",
    "    for a, S_a in enumerate(supports):\n",
    "        for j in range(J):\n",
    "            if j not in S_a:\n",
    "                model.addConstr(\n",
    "                    gp.quicksum((1 - h[a, k]) * x[j, k] for k in range(K)) >= 1,\n",
    "                    name=f\"non_dom_a{a}_j{j}\"\n",
    "                )\n",
    "\n",
    "\n",
    "    # Pairwise constraints (each pair of columns must have both (0,1) and (1,0))\n",
    "    for p, q in itertools.combinations(range(K), 2):\n",
    "        model.addConstr(gp.quicksum(x[j, p] * (1 - x[j, q]) for j in range(J)) >= 1)\n",
    "        model.addConstr(gp.quicksum((1 - x[j, p]) * x[j, q] for j in range(J)) >= 1)\n",
    "        \n",
    "    # Solve the integer program\n",
    "    model.optimize()\n",
    "    status = model.Status\n",
    "\n",
    "    if status == GRB.INFEASIBLE:\n",
    "        return None                         # Q identifiable\n",
    "    elif status in (GRB.OPTIMAL, GRB.SOLUTION_LIMIT):\n",
    "        solution = np.array([[int(x[j, k].X) for k in range(K)] for j in range(J)])\n",
    "        return solution  # Q is not identifiable\n",
    "    elif status == GRB.SUBOPTIMAL:\n",
    "        if model.SolCount > 0:\n",
    "            solution = np.array([[int(x[j, k].X) for k in range(K)] for j in range(J)])\n",
    "            return solution\n",
    "        else:\n",
    "            return None  # inconclusive — could trigger Phase B\n",
    "    else:\n",
    "        return None      # early termination (time limit, etc.)\n"
   ]
  },
  {
   "cell_type": "code",
   "execution_count": null,
   "id": "a86cc5ee-e639-442c-9b56-5660cc74bb3c",
   "metadata": {},
   "outputs": [],
   "source": [
    "### This function checks if Q is identifiable, if not, it returns one possible Q_bar.\n",
    "def identifiability_debug(Q, startQ = None):\n",
    "    \"\"\"\n",
    "    Check if Q is identifiable. If not, return one possible candidate Q_bar.\n",
    "    \n",
    "    The function proceeds as follows:\n",
    "      1. Remove zero and identical rows from Q, yielding Q_unique and mapping_zero_identical.\n",
    "      2. Remove rows that are generated by others from Q_unique, yielding Q_basis and mapping_generated.\n",
    "      3. Perform trivial column checks and two-/three-column submatrix checks on Q_basis.\n",
    "      4. Directly check identifiability of Q_basis using direct_check_id.\n",
    "      5. If direct_check_id returns False, use brute_check_id on Q_basis.\n",
    "      6. If a candidate Q_basis_bar is found, lift it back to a candidate Q_bar for the original Q.\n",
    "    \n",
    "    Returns:\n",
    "        (status, Q_bar) where status == 1 indicates Q is identifiable,\n",
    "        and status == 0 indicates Q is not identifiable and Q_bar is a candidate.\n",
    "    \"\"\"\n",
    "    Q = Q.copy()\n",
    "    \n",
    "    # Step 1: get Q_basis\n",
    "    (Q_basis, basis_to_original, orig_indices_for_basis,\n",
    "         Q_unique, unique_to_original, basis_to_unique) = get_basis(Q)\n",
    "    \n",
    "    J_basis, K = Q_basis.shape\n",
    "    \n",
    "    if J_basis < K:\n",
    "        Q_basis_bar = np.eye(K, dtype=int)[:J_basis]\n",
    "        Q_bar = get_Q_from_Qbasis(Q_basis_bar, basis_to_original)\n",
    "        print(\"Q_basis with dimensions J < K, thus not identifiable.\")\n",
    "        return 0, Q_bar\n",
    "    # All subsequent candidate generation is performed on Q_basis.\n",
    "    # Step 3: Check for trivial non-identifiability on Q_basis.\n",
    "    for k in range(K):\n",
    "        if np.all(Q_basis[:, k] == 0):\n",
    "            Q_basis_bar = Q_basis.copy()\n",
    "            Q_basis_bar[:, k] = 1\n",
    "            print(\"Q is trivially not identifiable (all zero column).\")\n",
    "            Q_bar = get_Q_from_Qbasis(Q_basis_bar, basis_to_original)\n",
    "            return 0, Q_bar\n",
    "        if np.all(Q_basis[:, k] == 1):\n",
    "            Q_basis_bar = Q_basis.copy()\n",
    "            Q_basis_bar[:, k] = 0\n",
    "            print(\"Q is trivially not identifiable (all one column).\")\n",
    "            Q_bar = get_Q_from_Qbasis(Q_basis_bar, basis_to_original)\n",
    "            return 0, Q_bar\n",
    "\n",
    "    candidate = check_two_column_submatrices(Q_basis)\n",
    "    if candidate is not None:\n",
    "        print(\"Q is not identifiable (two-column submatrix not identifiable).\")\n",
    "        Q_basis_bar = candidate\n",
    "        Q_bar = get_Q_from_Qbasis(Q_basis_bar, basis_to_original)\n",
    "        return 0, Q_bar\n",
    "\n",
    "    candidate = check_three_column_submatrices(Q_basis)\n",
    "    if candidate is not None:\n",
    "        print(\"Q is not identifiable (three-column submatrix not identifiable).\")\n",
    "        Q_basis_bar = candidate\n",
    "        Q_bar = get_Q_from_Qbasis(Q_basis_bar, basis_to_original)\n",
    "        return 0, Q_bar\n",
    "\n",
    "    \n",
    "    # Step 4: Determine identifiability of Q_basis.\n",
    "    if direct_check_id(Q_basis):\n",
    "        print(\"Q is identifiable (direct_check).\")\n",
    "        return 1, None\n",
    "    else:\n",
    "        Q_sorted, sorted_to_original = lex_sort_columns(Q_basis)\n",
    "        solution = solve_identifiability_SAT(Q_sorted)\n",
    "        if solution is not None:\n",
    "            Q_basis_bar = solution[:, sorted_to_original]\n",
    "            Q_bar = get_Q_from_Qbasis(Q_basis_bar, basis_to_original)\n",
    "            return 0, Q_bar\n",
    "        else:\n",
    "            return True, None  # No solution exists\n",
    "        \n",
    "        \n",
    "    "
   ]
  },
  {
   "cell_type": "code",
   "execution_count": null,
   "id": "f8d4e701-44d2-45a9-9fa1-25be84aea3a3",
   "metadata": {},
   "outputs": [],
   "source": [
    "### This function checks if Q is identifiable, if not, it returns one possible Q_bar.\n",
    "def identifiability2(Q, startQ = None):\n",
    "    Q = Q.copy()\n",
    "    \n",
    "    # Step 1: get Q_basis\n",
    "    (Q_basis, basis_to_original, orig_indices_for_basis,\n",
    "         Q_unique, unique_to_original, basis_to_unique) = get_basis(Q)\n",
    "    \n",
    "    J_basis, K = Q_basis.shape\n",
    "    \n",
    "    if J_basis < K:\n",
    "        Q_basis_bar = np.eye(K, dtype=int)[:J_basis]\n",
    "        Q_bar = get_Q_from_Qbasis(Q_basis_bar, basis_to_original)\n",
    "        print(\"Q_basis with dimensions J < K, thus not identifiable.\")\n",
    "        return 0, Q_bar\n",
    "    # All subsequent candidate generation is performed on Q_basis.\n",
    "    # Step 3: Check for trivial non-identifiability on Q_basis.\n",
    "    for k in range(K):\n",
    "        if np.all(Q_basis[:, k] == 0):\n",
    "            Q_basis_bar = Q_basis.copy()\n",
    "            Q_basis_bar[:, k] = 1\n",
    "            print(\"Q is trivially not identifiable (all zero column).\")\n",
    "            Q_bar = get_Q_from_Qbasis(Q_basis_bar, basis_to_original)\n",
    "            return 0, Q_bar\n",
    "        if np.all(Q_basis[:, k] == 1):\n",
    "            Q_basis_bar = Q_basis.copy()\n",
    "            Q_basis_bar[:, k] = 0\n",
    "            print(\"Q is trivially not identifiable (all one column).\")\n",
    "            Q_bar = get_Q_from_Qbasis(Q_basis_bar, basis_to_original)\n",
    "            return 0, Q_bar\n",
    "\n",
    "    candidate = check_two_column_submatrices(Q_basis)\n",
    "    if candidate is not None:\n",
    "        print(\"Q is not identifiable (two-column submatrix not identifiable).\")\n",
    "        Q_basis_bar = candidate\n",
    "        Q_bar = get_Q_from_Qbasis(Q_basis_bar, basis_to_original)\n",
    "        return 0, Q_bar\n",
    "\n",
    "    candidate = check_three_column_submatrices(Q_basis)\n",
    "    if candidate is not None:\n",
    "        print(\"Q is not identifiable (three-column submatrix not identifiable).\")\n",
    "        Q_basis_bar = candidate\n",
    "        Q_bar = get_Q_from_Qbasis(Q_basis_bar, basis_to_original)\n",
    "        return 0, Q_bar\n",
    "\n",
    "    \n",
    "    # Step 4: Determine identifiability of Q_basis.\n",
    "    if direct_check_id(Q_basis):\n",
    "        print(\"Q is identifiable (direct_check).\")\n",
    "        return 1, None\n",
    "    else:\n",
    "        Q_sorted, sorted_to_original = lex_sort_columns(Q_basis)\n",
    "        solution = solve_Q_identifiability_IP_debug(Q_sorted)\n",
    "        if solution is not None:\n",
    "            Q_basis_bar = solution[:, sorted_to_original]\n",
    "            Q_bar = get_Q_from_Qbasis(Q_basis_bar, basis_to_original)\n",
    "            return 0, Q_bar\n",
    "        else:\n",
    "            return True, None  # No solution exists\n",
    "        \n",
    "        \n",
    "    "
   ]
  },
  {
   "cell_type": "code",
   "execution_count": null,
   "id": "9e4e1997-03ed-457b-99cb-ae6a5b2fbe01",
   "metadata": {
    "tags": []
   },
   "outputs": [],
   "source": [
    "bugn = 0\n",
    "for Q in id_Q54_withoutI:\n",
    "    iddd, Q_bar = identifiability_debug(Q)\n",
    "    if not iddd:\n",
    "        print(\"bug\")\n",
    "        bugn += 1\n",
    "        bugQ = Q\n",
    "        bugQbar = Q_bar"
   ]
  },
  {
   "cell_type": "code",
   "execution_count": null,
   "id": "6f8520a7-876d-4c31-93ee-f7d8010f361f",
   "metadata": {},
   "outputs": [],
   "source": [
    "len(id_Q54_withoutI)"
   ]
  },
  {
   "cell_type": "code",
   "execution_count": null,
   "id": "dd913b05-01b0-465a-8b20-ce1ff426a617",
   "metadata": {},
   "outputs": [],
   "source": [
    "bugQ"
   ]
  },
  {
   "cell_type": "code",
   "execution_count": null,
   "id": "f4f20be6-6e73-46fd-9dde-06932ec19c8b",
   "metadata": {},
   "outputs": [],
   "source": [
    "bugQbar"
   ]
  },
  {
   "cell_type": "code",
   "execution_count": null,
   "id": "a7c4973a-440d-4978-9d3d-1770e511ae6b",
   "metadata": {},
   "outputs": [],
   "source": [
    "lex_sort_columns(bugQ)"
   ]
  },
  {
   "cell_type": "code",
   "execution_count": null,
   "id": "bca383db-2a02-4d28-830b-0b0f7e755f28",
   "metadata": {},
   "outputs": [],
   "source": [
    "lex_sort_columns(bugQbar)"
   ]
  },
  {
   "cell_type": "code",
   "execution_count": null,
   "id": "42360dda-f510-4909-a669-38ba1762b402",
   "metadata": {},
   "outputs": [],
   "source": [
    "thm_check(bugQ,bugQbar)"
   ]
  },
  {
   "cell_type": "code",
   "execution_count": null,
   "id": "f0cd5b4f-5d51-4d1e-a975-e7936e0afac9",
   "metadata": {},
   "outputs": [],
   "source": [
    "from solve_Q_identifiability import solve_Q_identifiability_IPfast\n",
    "from solve_Q_identifiability import solve_Q_identifiability_IP"
   ]
  },
  {
   "cell_type": "code",
   "execution_count": null,
   "id": "af3a8c53-0389-465a-acbd-ddc771791f83",
   "metadata": {},
   "outputs": [],
   "source": [
    "bugQ"
   ]
  },
  {
   "cell_type": "code",
   "execution_count": null,
   "id": "7da38e15-a83e-4f33-9e9c-fc90801022c7",
   "metadata": {
    "tags": []
   },
   "outputs": [],
   "source": [
    "solve_identifiability_SAT(bugQ)"
   ]
  },
  {
   "cell_type": "code",
   "execution_count": null,
   "id": "bde34f33-c57f-41f9-8905-9e2bfd741cc8",
   "metadata": {},
   "outputs": [],
   "source": [
    "draw_G_K4(bugQ)"
   ]
  },
  {
   "cell_type": "code",
   "execution_count": null,
   "id": "cf5d1136-4e23-481b-8517-83c69ab21ca2",
   "metadata": {},
   "outputs": [],
   "source": [
    "draw_G_K4(bugQbar)"
   ]
  },
  {
   "cell_type": "code",
   "execution_count": null,
   "id": "0ef7064f-1ffc-49bb-bc52-c1ead1c9db3b",
   "metadata": {},
   "outputs": [],
   "source": [
    "Q_basis"
   ]
  },
  {
   "cell_type": "code",
   "execution_count": null,
   "id": "397d738e-2381-498a-b9c1-2503950e2512",
   "metadata": {},
   "outputs": [],
   "source": [
    "solve_identifiability_Q_cpsat(Q_basis, Q_sorted)"
   ]
  },
  {
   "cell_type": "code",
   "execution_count": null,
   "id": "284b40ef-fb51-4729-9c33-f1d332532896",
   "metadata": {},
   "outputs": [],
   "source": [
    "Q_sorted"
   ]
  },
  {
   "cell_type": "code",
   "execution_count": null,
   "id": "205a3a0e-f1d6-494a-888f-355358659cda",
   "metadata": {},
   "outputs": [],
   "source": [
    "solve_Q_identifiability_debug(Q_sorted)"
   ]
  },
  {
   "cell_type": "code",
   "execution_count": null,
   "id": "74c47a07-3ac5-471f-b70b-96cabf03fd1f",
   "metadata": {},
   "outputs": [],
   "source": [
    "Q_basis"
   ]
  },
  {
   "cell_type": "code",
   "execution_count": null,
   "id": "8ee1e2aa-c47e-47b0-b32d-2024e5424542",
   "metadata": {},
   "outputs": [],
   "source": [
    "def add_lexico_constraints(model, x, J, K):\n",
    "    \"\"\"\n",
    "    Enforce x[:,0] >=_lex x[:,1] >=_lex … >=_lex x[:,K-1]\n",
    "    via first-difference indicators diff[k,i], i=0..J (i=J means 'no difference').\n",
    "    \n",
    "    - model : a Gurobi Model\n",
    "    - x     : dict or 2D list of x[j,k] binary variables\n",
    "    - J     : number of rows (items)\n",
    "    - K     : number of columns (attributes)\n",
    "    \"\"\"\n",
    "    # diff[k,i] = 1 if the *first* row where col k and k+1 differ is row i.\n",
    "    # i in [0..J-1] covers each item; i=J means 'they never differ' (fully equal).\n",
    "    diff = model.addVars(K-1, J+1, vtype=GRB.BINARY, name=\"diff\")\n",
    "    \n",
    "    for k in range(K-1):\n",
    "        # exactly one first-difference position\n",
    "        model.addConstr(gp.quicksum(diff[k,i] for i in range(J+1)) == 1,\n",
    "                        name=f\"lex_sumdiff_{k}\")\n",
    "        \n",
    "        # if they first differ at row i < J:\n",
    "        for i in range(J):\n",
    "            # all rows t < i must be equal:\n",
    "            for t in range(i):\n",
    "                model.addConstr(x[t,k] - x[t,k+1] <= 1 - diff[k,i],\n",
    "                                name=f\"lex_eq_above_{k}_{i}_{t}\")\n",
    "                model.addConstr(x[t,k+1] - x[t,k] <= 1 - diff[k,i],\n",
    "                                name=f\"lex_eq_above_rev_{k}_{i}_{t}\")\n",
    "            # at row i, enforce x[i,k]=1 and x[i,k+1]=0\n",
    "            model.addConstr(x[i,k]     >= diff[k,i],\n",
    "                            name=f\"lex_diff1_{k}_{i}\")\n",
    "            model.addConstr(x[i,k+1] <= 1 - diff[k,i],\n",
    "                            name=f\"lex_diff2_{k}_{i}\")\n",
    "        \n",
    "        # if no difference (i = J), all rows must be equal\n",
    "        for t in range(J):\n",
    "            model.addConstr(x[t,k] - x[t,k+1] <= 1 - diff[k,J],\n",
    "                            name=f\"lex_eq_nodiff_{k}_{t}\")\n",
    "            model.addConstr(x[t,k+1] - x[t,k] <= 1 - diff[k,J],\n",
    "                            name=f\"lex_eq_nodiff_rev_{k}_{t}\")"
   ]
  },
  {
   "cell_type": "code",
   "execution_count": null,
   "id": "4517ba69-3b5d-4fd0-9e0a-958cffa68e59",
   "metadata": {},
   "outputs": [],
   "source": [
    "def solve_Q_identifiability_debug(Q, startQ = None):\n",
    "    J, K = Q.shape\n",
    "\n",
    "    # Step 1: Generate constraints Phi_a based on Q\n",
    "    Phi = list(unique_response_columns(Q))\n",
    "    A = len(Phi)  # number of unique response vectors\n",
    "\n",
    "    # Step 2: Set up the integer program\n",
    "    model = gp.Model('Q_identifiability')\n",
    "    model.setParam('SolutionLimit', 1)\n",
    "    model.setParam('OutputFlag', 1)\n",
    "\n",
    "    # Decision variables\n",
    "    x = model.addVars(J, K, vtype=GRB.BINARY, name=\"x\")     # for \\bQQ\n",
    "    h = model.addVars(A, K, vtype=GRB.BINARY, name=\"h\")     # for h(a)\n",
    "    # start with x = Q (feasible for C1 but violates C2) – useful branching guide\n",
    "    if startQ is not None:\n",
    "        for j,k in np.ndindex(Q.shape):\n",
    "            x[j,k].Start = startQ[j,k]\n",
    "    # Norm constraints, together with the column ordering constraint. Slower than the unproved version \"\\bqq_j \\preceq \\qq_j\".\n",
    "    \n",
    "    # --- norm constraints ------------------------------\n",
    "    dist = distances(Q)\n",
    "    for j in range(J):\n",
    "        model.addConstr(gp.quicksum(x[j, k] for k in range(K)) <= K - dist[j])\n",
    "        model.addConstr(1 <= gp.quicksum(x[j, k] for k in range(K)))\n",
    "        \n",
    "    # --- column lex‑ordering constraints ------------------------------\n",
    "    # pow2 = [1 << (J - 1 - j) for j in range(J)]   # 2^{J-j-1}\n",
    "    # def column_code(k):\n",
    "    #     return gp.quicksum(pow2[j] * x[j, k] for j in range(J))\n",
    "    # for k in range(K - 1):\n",
    "    #     model.addConstr(column_code(k) >= column_code(k + 1),\n",
    "    #                     name=f\"lex_col_{k}\") \n",
    "    # add_lexico_constraints(model, x, J, K)\n",
    "        \n",
    "    # Non-equality constraint to ensure \\bQQ ≠ \\QQ\n",
    "    model.addConstr(\n",
    "        gp.quicksum(\n",
    "            (1 - Q[j, k]) * x[j, k]         # q=0  →  uses x\n",
    "            + Q[j, k]    * (1 - x[j, k])    # q=1  →  uses 1-x\n",
    "            for j in range(J)\n",
    "            for k in range(K)\n",
    "        ) >= 1,name=\"Q != Q_bar\")\n",
    "\n",
    "    # Constraints to define h[a,k] = ⋁_{j in S_a} x[j,k]\n",
    "    for a, phi_a in enumerate(Phi):\n",
    "        S_a = [j for j in range(J) if phi_a[j] == 1]\n",
    "        for k in range(K):\n",
    "            for j in S_a:\n",
    "                model.addConstr(h[a, k] >= x[j, k], name=f\"h_lb_a{a}_j{j}_k{k}\")\n",
    "            model.addConstr(h[a, k] <= gp.quicksum(x[j, k] for j in S_a), name=f\"h_ub_a{a}_k{k}\")\n",
    "\n",
    "    # Non-domination constraint: h(a) ≰ \\bqq_j for all j not in S_a\n",
    "    for a, phi_a in enumerate(Phi):\n",
    "        not_S_a = [j for j in range(J) if phi_a[j] == 0]\n",
    "        for j in not_S_a:\n",
    "            model.addConstr(\n",
    "                gp.quicksum((1 - h[a, k]) * x[j, k] for k in range(K)) >= 1,\n",
    "                name=f\"non_dom_a{a}_j{j}\"\n",
    "            )\n",
    "\n",
    "        \n",
    "    # Solve the integer program\n",
    "    model.optimize()\n",
    "    status = model.Status\n",
    "\n",
    "    if status == GRB.INFEASIBLE:\n",
    "        return None                         # Q identifiable\n",
    "    elif status in (GRB.OPTIMAL, GRB.SOLUTION_LIMIT):\n",
    "        solution = np.array([[int(x[j, k].X) for k in range(K)] for j in range(J)])\n",
    "        return solution  # Q is not identifiable\n",
    "    elif status == GRB.SUBOPTIMAL:\n",
    "        if model.SolCount > 0:\n",
    "            solution = np.array([[int(x[j, k].X) for k in range(K)] for j in range(J)])\n",
    "            return solution\n",
    "        else:\n",
    "            return None  # inconclusive — could trigger Phase B\n",
    "    else:\n",
    "        return None      # early termination (time limit, etc.)\n"
   ]
  },
  {
   "cell_type": "code",
   "execution_count": null,
   "id": "b63dd0a2-62e5-44b3-9117-b671a280973f",
   "metadata": {},
   "outputs": [],
   "source": [
    "solve_Q_identifiability_debug(Q_sorted)"
   ]
  },
  {
   "cell_type": "code",
   "execution_count": null,
   "id": "9603f963-7ed1-4b8e-843a-70e4fe18d300",
   "metadata": {},
   "outputs": [],
   "source": [
    "solve_Q_identifiability_debug(Q_sorted)"
   ]
  },
  {
   "cell_type": "code",
   "execution_count": null,
   "id": "ea64314a-07d4-4ec6-a07b-7be33b054d81",
   "metadata": {},
   "outputs": [],
   "source": [
    "solve_Q_identifiability_debug(Q_sorted)"
   ]
  },
  {
   "cell_type": "code",
   "execution_count": null,
   "id": "ad7400ca-f869-4d39-81a2-f525d8d49107",
   "metadata": {},
   "outputs": [],
   "source": [
    "unique_response_columns(Q_sorted)"
   ]
  },
  {
   "cell_type": "code",
   "execution_count": null,
   "id": "f27c272f-feb9-452b-a99d-dfb4b29c34b0",
   "metadata": {},
   "outputs": [],
   "source": [
    "unique_response_columns(Q_sorted).issubset(unique_response_columns(Qstart))"
   ]
  },
  {
   "cell_type": "code",
   "execution_count": null,
   "id": "c33d8b71-2403-4bbe-b90d-e915cb0210fe",
   "metadata": {},
   "outputs": [],
   "source": []
  },
  {
   "cell_type": "code",
   "execution_count": null,
   "id": "0a098a1c-d28d-42b3-a2f1-8e2cd173a25f",
   "metadata": {},
   "outputs": [],
   "source": [
    "thm_check(Q,Q_bar)"
   ]
  },
  {
   "cell_type": "code",
   "execution_count": null,
   "id": "97dcca40",
   "metadata": {},
   "outputs": [],
   "source": [
    "J = 6\n",
    "K = 5"
   ]
  },
  {
   "cell_type": "code",
   "execution_count": null,
   "id": "7f587ee6",
   "metadata": {
    "scrolled": true
   },
   "outputs": [],
   "source": [
    "all_matrices = generate_canonical_matrices(J = J, K = K)\n",
    "len(all_matrices)"
   ]
  },
  {
   "cell_type": "markdown",
   "id": "d0d639d9",
   "metadata": {},
   "source": [
    "<!-- ###  A topological sort is a nonunique permutation of the nodes such that an edge from u to v implies that u appears before v in the topological sort order. -->"
   ]
  },
  {
   "cell_type": "code",
   "execution_count": null,
   "id": "f588f5dc",
   "metadata": {
    "scrolled": true
   },
   "outputs": [],
   "source": [
    "len(generate_canonical_matrices(5, 4))"
   ]
  },
  {
   "cell_type": "code",
   "execution_count": null,
   "id": "bc2f51dc",
   "metadata": {},
   "outputs": [],
   "source": [
    "len(generate_canonical_matrices(6, 4))"
   ]
  },
  {
   "cell_type": "code",
   "execution_count": null,
   "id": "e3e21479",
   "metadata": {},
   "outputs": [],
   "source": [
    "len(generate_canonical_matrices(7, 4))"
   ]
  },
  {
   "cell_type": "code",
   "execution_count": null,
   "id": "9f0d8714",
   "metadata": {
    "tags": []
   },
   "outputs": [],
   "source": [
    "id_Q65 = []\n",
    "id_Q65_withoutI = []\n",
    "nid_Q65_id2 = []\n",
    "nid_Q65_id3 = []\n",
    "nid_Q65_ncol = []\n",
    "for Q in all_matrices[:1000]:\n",
    "    idd, Q_bar = identifiability_debug(Q = Q)\n",
    "    if idd:\n",
    "        id_Q65.append(Q)\n",
    "        if not contains_identity_submatrix(Q):\n",
    "            id_Q65_withoutI.append(Q)\n",
    "            draw_G_K5(Q)"
   ]
  },
  {
   "cell_type": "code",
   "execution_count": null,
   "id": "a8267839-87ed-43cb-8522-f655fe5e52d1",
   "metadata": {},
   "outputs": [],
   "source": [
    "len(id_Q65)"
   ]
  },
  {
   "cell_type": "code",
   "execution_count": null,
   "id": "d0d8b280-e8ab-4ca9-8200-1036e255de38",
   "metadata": {},
   "outputs": [],
   "source": [
    "len(id_Q65_withoutI)"
   ]
  },
  {
   "cell_type": "code",
   "execution_count": null,
   "id": "118da2f5-2632-4042-ba88-9bef4c5b218f",
   "metadata": {
    "tags": []
   },
   "outputs": [],
   "source": [
    "id_Q65 = []\n",
    "id_Q65_withoutI = []\n",
    "nid_Q65_id2 = []\n",
    "nid_Q65_id3 = []\n",
    "nid_Q65_ncol = []\n",
    "for Q in all_matrices[:1000]:\n",
    "    idd, Q_bar = identifiability2(Q = Q)\n",
    "    if idd:\n",
    "        id_Q65.append(Q)\n",
    "        if not contains_identity_submatrix(Q):\n",
    "            id_Q65_withoutI.append(Q)\n",
    "            draw_G_K5(Q)"
   ]
  },
  {
   "cell_type": "code",
   "execution_count": null,
   "id": "6bf854b9-d9e2-4351-8df0-47a52712c7d4",
   "metadata": {},
   "outputs": [],
   "source": [
    "len(id_Q65)"
   ]
  },
  {
   "cell_type": "code",
   "execution_count": null,
   "id": "44bf0425",
   "metadata": {
    "tags": []
   },
   "outputs": [],
   "source": [
    "idx = 0\n",
    "for Q in id_Q65_withoutI:\n",
    "    idx += 1\n",
    "    print(idx)\n",
    "    draw_G_K5(Q)\n",
    "    "
   ]
  },
  {
   "cell_type": "code",
   "execution_count": null,
   "id": "8ee2e0d5",
   "metadata": {},
   "outputs": [],
   "source": []
  },
  {
   "cell_type": "code",
   "execution_count": null,
   "id": "ee7285e7",
   "metadata": {
    "tags": []
   },
   "outputs": [],
   "source": [
    "import numpy as np\n",
    "\n",
    "result = []\n",
    "for Q in id_Q65_withoutI:\n",
    "    # Get the set of representative node rows and the set of current item node rows\n",
    "    R_Q = representative_node_set(Q)\n",
    "    I_Q = item_node_set(Q)\n",
    "    # Determine which representative rows are not already present in Q\n",
    "    new_rows = R_Q - I_Q\n",
    "    for q in new_rows:\n",
    "        # Create a new Q by appending q to Q.\n",
    "        # We first convert each row of Q to a list of integers (binary values)\n",
    "        newQ_list = [list(map(int, row)) for row in Q]\n",
    "        # Convert the candidate row q to a list of integers\n",
    "        new_row = list(map(int, q))\n",
    "        newQ_list.append(new_row)\n",
    "        # Convert newQ_list to a NumPy array with integer type to ensure it's a binary matrix\n",
    "        newQ = np.array(newQ_list, dtype=int)\n",
    "        # Check if newQ is non-identifiable\n",
    "        if not identifiability(newQ):\n",
    "            # Optionally, you might want to store the original Q as a binary matrix too\n",
    "            result.append((np.array(Q, dtype=int), newQ))\n"
   ]
  },
  {
   "cell_type": "code",
   "execution_count": null,
   "id": "e98a9c12",
   "metadata": {},
   "outputs": [],
   "source": [
    "result"
   ]
  },
  {
   "cell_type": "markdown",
   "id": "c8720fb3",
   "metadata": {},
   "source": [
    "# Generate all identifiable Q that does not contain an identity."
   ]
  },
  {
   "cell_type": "markdown",
   "id": "e8a848c8",
   "metadata": {},
   "source": [
    "## id_Q54_withoutI: identifiable Q without Identity matrix.\n",
    "## nid_Q54_id2: Not identifiable Q that satisfies: any two columns contain an I."
   ]
  },
  {
   "cell_type": "code",
   "execution_count": null,
   "id": "2ec5716c",
   "metadata": {
    "scrolled": true,
    "tags": []
   },
   "outputs": [],
   "source": [
    "id_Q54 = []\n",
    "id_Q54_withoutI = []\n",
    "nid_Q54_id2 = []\n",
    "nid_Q54_id3 = []\n",
    "nid_Q54_ncol = []\n",
    "for Q in generate_canonical_matrices(5, 4):\n",
    "    idd, Q_bar = identifiability_debug(Q)\n",
    "    if idd:\n",
    "        id_Q54.append(Q)\n",
    "        if not contains_identity_submatrix(Q):\n",
    "            id_Q54_withoutI.append(Q)\n",
    "            draw_G_K4(Q)\n",
    "    else:\n",
    "        if check_three_column_submatrices(Q) is None:\n",
    "            nid_Q54_id3.append(Q)"
   ]
  },
  {
   "cell_type": "code",
   "execution_count": null,
   "id": "f18e011e-048d-4b0d-8bb9-5de4f83b54e2",
   "metadata": {},
   "outputs": [],
   "source": [
    "len(id_Q54_withoutI)"
   ]
  },
  {
   "cell_type": "code",
   "execution_count": null,
   "id": "260e17e1-5bc5-4e61-8355-15cb40ba0140",
   "metadata": {},
   "outputs": [],
   "source": []
  },
  {
   "cell_type": "code",
   "execution_count": null,
   "id": "833f34da-c41a-4976-a3fe-6d0343c3ad10",
   "metadata": {},
   "outputs": [],
   "source": []
  },
  {
   "cell_type": "code",
   "execution_count": null,
   "id": "4b0e7ce7-ea98-4715-b10e-8ba334da456d",
   "metadata": {
    "tags": []
   },
   "outputs": [],
   "source": [
    "id_Q54 = []\n",
    "id_Q54_withoutI2 = []\n",
    "nid_Q54_id2 = []\n",
    "nid_Q54_id3 = []\n",
    "nid_Q54_ncol = []\n",
    "for Q in generate_canonical_matrices(5, 4):\n",
    "    idd, Q_bar = identifiability2(Q = Q)\n",
    "    if idd:\n",
    "        id_Q54.append(Q)\n",
    "        if not contains_identity_submatrix(Q):\n",
    "            id_Q54_withoutI2.append(Q)\n",
    "            draw_G_K4(Q)\n",
    "    else:\n",
    "        if check_three_column_submatrices(Q) is None:\n",
    "            nid_Q54_id3.append(Q)"
   ]
  },
  {
   "cell_type": "code",
   "execution_count": null,
   "id": "a3ac1442-445a-4c2a-ae03-05cebd2a2eb8",
   "metadata": {},
   "outputs": [],
   "source": [
    "len(id_Q54_withoutI2)"
   ]
  },
  {
   "cell_type": "code",
   "execution_count": null,
   "id": "0096d42c-28b9-4d3b-9204-6e474926b13a",
   "metadata": {},
   "outputs": [],
   "source": []
  },
  {
   "cell_type": "code",
   "execution_count": null,
   "id": "6eb88077-322e-4867-9c17-4faace92dcc7",
   "metadata": {},
   "outputs": [],
   "source": [
    "identifiability2(M)"
   ]
  },
  {
   "cell_type": "code",
   "execution_count": null,
   "id": "e92f40c6-7a84-445d-87d2-4b4312c5033a",
   "metadata": {
    "tags": []
   },
   "outputs": [],
   "source": [
    "identifiability2(Q_test)"
   ]
  },
  {
   "cell_type": "code",
   "execution_count": null,
   "id": "c19e9a8d-af7c-4a77-a928-907597e481c6",
   "metadata": {},
   "outputs": [],
   "source": []
  },
  {
   "cell_type": "code",
   "execution_count": null,
   "id": "b0725f54-15b8-4a6f-9f57-4bd92fdd4438",
   "metadata": {},
   "outputs": [],
   "source": []
  },
  {
   "cell_type": "code",
   "execution_count": null,
   "id": "188c7a71-f9e8-48b1-bcbb-b71d4129b145",
   "metadata": {},
   "outputs": [],
   "source": [
    "# Step 1: get Q_basis\n",
    "(Q_basis, basis_to_original, orig_indices_for_basis,\n",
    "     Q_unique, unique_to_original, basis_to_unique) = get_basis(Q_test)"
   ]
  },
  {
   "cell_type": "code",
   "execution_count": null,
   "id": "06bd27d4-691e-4aa4-9825-46ec0a9be000",
   "metadata": {},
   "outputs": [],
   "source": [
    "print(sum(Q_basis[j, k] - Q_test_bar[j, k] for j in range(J_basis) for k in range(K)) >= 1)\n"
   ]
  },
  {
   "cell_type": "code",
   "execution_count": null,
   "id": "bff55ac6-e929-4f6b-9191-32adc8ba10c2",
   "metadata": {},
   "outputs": [],
   "source": [
    "lex_sort_columns(M)"
   ]
  },
  {
   "cell_type": "code",
   "execution_count": null,
   "id": "e8de36b5-355c-45a5-9542-aac6916dc4bf",
   "metadata": {},
   "outputs": [],
   "source": [
    "Q_test_bar"
   ]
  },
  {
   "cell_type": "code",
   "execution_count": null,
   "id": "3d870a4f-9291-4a0c-b378-c5926fb8a251",
   "metadata": {},
   "outputs": [],
   "source": [
    "identifiability2(Q_test)"
   ]
  },
  {
   "cell_type": "code",
   "execution_count": null,
   "id": "a7db87bc-8580-45aa-9d6a-f5b726beab85",
   "metadata": {},
   "outputs": [],
   "source": [
    "identifiability2(Q_test)"
   ]
  },
  {
   "cell_type": "code",
   "execution_count": null,
   "id": "7449a611-2507-47e5-8002-3ec1632e2c06",
   "metadata": {},
   "outputs": [],
   "source": [
    "import numpy as np\n",
    "import itertools\n",
    "\n",
    "# A = 1×1 identity\n",
    "A = np.array([[1]], dtype=int)\n",
    "\n",
    "# B = 1×4 zero matrix\n",
    "B = np.zeros((1, 4), dtype=int)\n",
    "\n",
    "# C = 6×1 zero matrix\n",
    "C = np.zeros((6, 1), dtype=int)\n",
    "\n",
    "# D = all 6 binary vectors of length 4 with exactly two 1’s\n",
    "D = np.array(\n",
    "    [list(vec) for vec in itertools.product([0, 1], repeat=4) if sum(vec) == 2],\n",
    "    dtype=int\n",
    ")\n",
    "\n",
    "# Assemble the 7×5 block matrix\n",
    "M = np.block([\n",
    "    [A, B],\n",
    "    [C, D]\n",
    "])\n",
    "\n",
    "print(\"Block matrix M (7×5):\")\n",
    "print(M)\n"
   ]
  },
  {
   "cell_type": "code",
   "execution_count": null,
   "id": "f56d6c26-26db-474e-8920-f1ba9a111d70",
   "metadata": {},
   "outputs": [],
   "source": [
    "identifiability2(M)"
   ]
  },
  {
   "cell_type": "code",
   "execution_count": null,
   "id": "ec6dbd4e-980d-4151-86dd-49d6cb5f5f79",
   "metadata": {},
   "outputs": [],
   "source": [
    "import numpy as np\n",
    "\n",
    "def generate_random_Q(J, K, density=0.5, random_seed=None):\n",
    "    \"\"\"\n",
    "    Generate a random binary matrix Q of size J x K.\n",
    "\n",
    "    Parameters:\n",
    "    - J: Number of rows\n",
    "    - K: Number of columns\n",
    "    - density: Proportion of entries expected to be 1 (default 0.5)\n",
    "    - random_seed: Random seed for reproducibility\n",
    "\n",
    "    Returns:\n",
    "    - Q: Random binary matrix\n",
    "    \"\"\"\n",
    "    if random_seed is not None:\n",
    "        np.random.seed(random_seed)\n",
    "\n",
    "    Q = np.random.choice([0, 1], size=(J, K), p=[1-density, density])\n",
    "    return Q\n",
    "\n",
    "# Example Usage:\n",
    "if __name__ == \"__main__\":\n",
    "    J, K = 50, 15  # moderate-sized example\n",
    "    Q_test = generate_random_Q(J, K, density=0.3, random_seed=42)\n",
    "    print(\"Generated Q matrix:\")\n",
    "    print(Q_test)\n"
   ]
  },
  {
   "cell_type": "code",
   "execution_count": null,
   "id": "603e74bb-e6a6-4b3f-ba1f-bd2d70df5dcd",
   "metadata": {
    "tags": []
   },
   "outputs": [],
   "source": [
    "cProfile.run('identifiability(Q_test)')"
   ]
  },
  {
   "cell_type": "code",
   "execution_count": null,
   "id": "0ce5c90e-c698-4175-8cd3-15aeb70611b8",
   "metadata": {},
   "outputs": [],
   "source": [
    "model.setParam('SolutionLimit', 1)\n",
    "model.setParam('MIPFocus', 1)      # heuristics first\n",
    "model.setParam('TimeLimit', 60)    # cut off long searches\n",
    "model.optimize()\n",
    "if model.SolCount > 0:\n",
    "    return False, ...              # witness found\n",
    "# else reset limits and try to prove infeasibility\n"
   ]
  },
  {
   "cell_type": "code",
   "execution_count": null,
   "id": "a317c9fb-c89d-4439-bea5-bf9cca11ae02",
   "metadata": {},
   "outputs": [],
   "source": [
    "# Step 1: Generate constraints Phi_a based on Q\n",
    "Phi = list(unique_response_columns(Q))\n"
   ]
  },
  {
   "cell_type": "code",
   "execution_count": null,
   "id": "9fe6e053-b1af-44bf-afc8-f62d20c0f794",
   "metadata": {},
   "outputs": [],
   "source": []
  },
  {
   "cell_type": "code",
   "execution_count": null,
   "id": "10079dd0-29a0-4f24-8453-dba003641d92",
   "metadata": {},
   "outputs": [],
   "source": [
    "thmCheck2(Q, Q_bar, tol=1e-8)"
   ]
  },
  {
   "cell_type": "code",
   "execution_count": null,
   "id": "a2f06379-3ff2-45aa-a004-22996eb8727b",
   "metadata": {},
   "outputs": [],
   "source": []
  },
  {
   "cell_type": "code",
   "execution_count": null,
   "id": "7c14803a-593c-4677-a750-fdfc04ba746b",
   "metadata": {
    "tags": []
   },
   "outputs": [],
   "source": [
    "cProfile.run('identifiability2(M)')"
   ]
  },
  {
   "cell_type": "code",
   "execution_count": null,
   "id": "70f05d6a-24bb-40c5-9d44-5f6eb89a2af3",
   "metadata": {},
   "outputs": [],
   "source": [
    "import numpy as np\n",
    "import itertools\n",
    "\n",
    "def generate_all_Q_basis(J, K):\n",
    "    \"\"\"\n",
    "    Generate all possible binary matrices of size J x K.\n",
    "    \n",
    "    This function returns a generator that yields each binary matrix (as a NumPy array)\n",
    "    in {0,1}^{JxK}.\n",
    "    \n",
    "    WARNING: The total number of matrices is 2^(J*K). This can quickly become intractable.\n",
    "    \n",
    "    Parameters:\n",
    "      J (int): Number of rows.\n",
    "      K (int): Number of columns.\n",
    "      \n",
    "    Yields:\n",
    "      np.ndarray: A J x K binary matrix.\n",
    "    \"\"\"\n",
    "    total = 2 ** (J * K)\n",
    "    print(f\"Warning: There are {total} matrices; ensure that J and K are small enough!\")\n",
    "    # Generate each matrix by creating a tuple of J*K binary digits and reshaping into (J, K).\n",
    "    for bits in itertools.product([0, 1], repeat=J*K):\n",
    "        yield np.array(bits, dtype=int).reshape(J, K)\n",
    "\n",
    "# Example usage:\n",
    "if __name__ == \"__main__\":\n",
    "    # For a small test, say J=2, K=3, yielding 2^6=64 matrices.\n",
    "    J, K = 2, 3\n",
    "    gen = generate_all_Q_basis(J, K)\n",
    "    \n",
    "    # Print the first 5 matrices:\n",
    "    for i, Q in enumerate(gen):\n",
    "        if i >= 5:\n",
    "            break\n",
    "        print(f\"Matrix {i+1}:\")\n",
    "        print(Q)\n",
    "        print()\n"
   ]
  },
  {
   "cell_type": "markdown",
   "id": "38610d82-d549-46e5-9345-9c41bd78cf3e",
   "metadata": {},
   "source": [
    "# generate_all_Q_basis"
   ]
  },
  {
   "cell_type": "code",
   "execution_count": null,
   "id": "88e94fad-b32e-4925-9221-c131fdbb752b",
   "metadata": {},
   "outputs": [],
   "source": [
    "import numpy as np\n",
    "import itertools\n",
    "\n",
    "def generate_all_Q_basis(J, K):\n",
    "    \"\"\"\n",
    "    Generate all possible binary matrices of size J x K.\n",
    "    \n",
    "    This function returns a generator that yields each binary matrix (as a NumPy array)\n",
    "    in {0,1}^{JxK}.\n",
    "    \n",
    "    WARNING: The total number of matrices is 2^(J*K). This can quickly become intractable.\n",
    "    \n",
    "    Parameters:\n",
    "      J (int): Number of rows.\n",
    "      K (int): Number of columns.\n",
    "      \n",
    "    Yields:\n",
    "      np.ndarray: A J x K binary matrix.\n",
    "    \"\"\"\n",
    "    total = 2 ** (J * K)\n",
    "    print(f\"Warning: There are {total} matrices; ensure that J and K are small enough!\")\n",
    "    # Generate each matrix by creating a tuple of J*K binary digits and reshaping into (J, K).\n",
    "    for bits in itertools.product([0, 1], repeat=J*K):\n",
    "        yield np.array(bits, dtype=int).reshape(J, K)\n",
    "\n",
    "# Example usage:\n",
    "if __name__ == \"__main__\":\n",
    "    # For a small test, say J=2, K=3, yielding 2^6=64 matrices.\n",
    "    J, K = 2, 3\n",
    "    gen = generate_all_Q_basis(J, K)\n",
    "    \n",
    "    # Print the first 5 matrices:\n",
    "    for i, Q in enumerate(gen):\n",
    "        if i >= 5:\n",
    "            break\n",
    "        print(f\"Matrix {i+1}:\")\n",
    "        print(Q)\n",
    "        print()\n"
   ]
  },
  {
   "cell_type": "code",
   "execution_count": null,
   "id": "c7105995-e117-4f8b-bfe1-96ea76f627d3",
   "metadata": {
    "tags": []
   },
   "outputs": [],
   "source": [
    "cProfile.run('identifiability1(M)')\n",
    "cProfile.run('identifiability2(M)')"
   ]
  },
  {
   "cell_type": "code",
   "execution_count": null,
   "id": "a01411ef-ea6e-4ead-8803-ffddf487c923",
   "metadata": {
    "tags": []
   },
   "outputs": [],
   "source": [
    "def brute_check_id1(Q_basis):\n",
    "    \"\"\"\n",
    "    Perform candidate generation on the basis matrix Q_basis to check the identifiability.\n",
    "    \n",
    "    Q_basis is the matrix obtained after removing all-zero, duplicate, and generated rows.\n",
    "    \n",
    "    The function generates candidate Q_basis_bar matrices by modifying the replaceable rows of Q_basis.\n",
    "    It returns a tuple (status, Q_basis_bar) where:\n",
    "      - status == 0 indicates that Q_basis is not identifiable and Q_basis_bar is a candidate,\n",
    "      - status == 1 indicates that Q_basis is identifiable (and no candidate is found).\n",
    "    \n",
    "    Note: Lifting Q_basis_bar back to the full Q will be handled in the main function.\n",
    "    \"\"\"\n",
    "    J_basis, K = Q_basis.shape\n",
    "    distances = distances2U(Q_basis)\n",
    "    irreplaceable_rows = np.where(np.array(distances) == K - 1)[0]\n",
    "    replaceable_rows = set(range(J_basis)) - set(irreplaceable_rows)\n",
    "    \n",
    "    replacement_indices = list(replaceable_rows)\n",
    "    subQ_bars = []\n",
    "    for i in range(len(replacement_indices)):\n",
    "        index = replacement_indices[i]\n",
    "        q_bars = []\n",
    "        for p in range(1, K - distances[index] + 1):\n",
    "            q_bars.extend(generate_binary_vectors(K, p))\n",
    "        valid_q_bars = []\n",
    "        Q_temp = Q_basis.copy()\n",
    "        for q_bar in q_bars:\n",
    "            Q_temp[index, :] = q_bar\n",
    "            if preserve_partial_order(Q_basis, Q_temp, set(irreplaceable_rows), [index]):\n",
    "                valid_q_bars.append(q_bar)\n",
    "        subQ_bars.append(valid_q_bars)\n",
    "    \n",
    "    # Generate Cartesian product of candidate replacements.\n",
    "    subQ_bars = itertools.product(*subQ_bars)\n",
    "    Q_bar_gen = generate_unique_Q_bars(subQ_bars, Q_basis, replacement_indices)\n",
    "\n",
    "\n",
    "    cols_phiQ = unique_response_columns(Q_basis)\n",
    "    for Q_basis_bar in Q_bar_gen:\n",
    "        candidate_valid = True  \n",
    "        for S in cols_phiQ:\n",
    "            S_arr = np.array(S, dtype=int)\n",
    "            idx_active = [j for j in range(J_basis) if S_arr[j] == 1]\n",
    "\n",
    "            # Compute h_a: the logical OR of the rows of Q_basis_bar indexed by idx_active.\n",
    "            if idx_active:\n",
    "                h_a = Q_basis_bar[idx_active[0]].copy()\n",
    "                for j in idx_active[1:]:\n",
    "                    h_a = np.logical_or(h_a, Q_basis_bar[j]).astype(int)\n",
    "            else:\n",
    "                h_a = np.zeros(K, dtype=int)\n",
    "\n",
    "            # Now check if there is any row j not in idx_active such that Q_basis_bar[j] <= h_a.\n",
    "            # If so, then the response computed from h_a would have an extra 1, differing from S.\n",
    "            for j in range(J_basis):\n",
    "                if j in idx_active:\n",
    "                    continue  # These rows are by construction \"covered\"\n",
    "                if np.all(Q_basis_bar[j] <= h_a):\n",
    "                    # Found an extra match not corresponding to S.\n",
    "                    candidate_valid = False\n",
    "                    break  # No need to check further S for this candidate.\n",
    "\n",
    "            if not candidate_valid:\n",
    "                # One S failed, so break out immediately to try the next Q_basis_bar.\n",
    "                break\n",
    "\n",
    "        if candidate_valid:\n",
    "            return 0, Q_basis_bar\n",
    "    return 1, None \n",
    "\n",
    "### This function checks if Q is identifiable, if not, it returns one possible Q_bar.\n",
    "def identifiability1(Q):\n",
    "    Q = Q.copy()\n",
    "    \n",
    "    # Step 1: get Q_basis\n",
    "    (Q_basis, basis_to_original, orig_indices_for_basis,\n",
    "         Q_unique, unique_to_original, basis_to_unique) = get_basis(Q)\n",
    "    \n",
    "    J_basis, K = Q_basis.shape\n",
    "    \n",
    "    if J_basis < K:\n",
    "        Q_basis_bar = np.eye(K, dtype=int)[:J_basis]\n",
    "        Q_bar = get_Q_from_Qbasis(Q_basis_bar, basis_to_original)\n",
    "        print(\"Q_basis with dimensions J < K, thus not identifiable.\")\n",
    "        return 0, Q_bar\n",
    "    # All subsequent candidate generation is performed on Q_basis.\n",
    "    # Step 3: Check for trivial non-identifiability on Q_basis.\n",
    "    for k in range(K):\n",
    "        if np.all(Q_basis[:, k] == 0):\n",
    "            Q_basis_bar = Q_basis.copy()\n",
    "            Q_basis_bar[:, k] = 1\n",
    "            print(\"Q is trivially not identifiable (all zero column).\")\n",
    "            Q_bar = get_Q_from_Qbasis(Q_basis_bar, basis_to_original)\n",
    "            return 0, Q_bar\n",
    "        if np.all(Q_basis[:, k] == 1):\n",
    "            Q_basis_bar = Q_basis.copy()\n",
    "            Q_basis_bar[:, k] = 0\n",
    "            print(\"Q is trivially not identifiable (all one column).\")\n",
    "            Q_bar = get_Q_from_Qbasis(Q_basis_bar, basis_to_original)\n",
    "            return 0, Q_bar\n",
    "\n",
    "    candidate = check_two_column_submatrices(Q_basis)\n",
    "    if candidate is not None:\n",
    "        print(\"Q is not identifiable (two-column submatrix not identifiable).\")\n",
    "        Q_basis_bar = candidate\n",
    "        Q_bar = get_Q_from_Qbasis(Q_basis_bar, basis_to_original)\n",
    "        return 0, Q_bar\n",
    "\n",
    "    candidate = check_three_column_submatrices(Q_basis)\n",
    "    if candidate is not None:\n",
    "        print(\"Q is not identifiable (three-column submatrix not identifiable).\")\n",
    "        Q_basis_bar = candidate\n",
    "        Q_bar = get_Q_from_Qbasis(Q_basis_bar, basis_to_original)\n",
    "        return 0, Q_bar\n",
    "\n",
    "    # Step 4: Determine identifiability of Q_basis.\n",
    "    if direct_check_id(Q_basis):\n",
    "        print(\"Q is identifiable (direct_check).\")\n",
    "        return 1, None\n",
    "    else:\n",
    "        status, Q_basis_bar = brute_check_id1(Q_basis)\n",
    "        if status == 0:\n",
    "            print(\"Q is not identifiable (brute_check_id).\")\n",
    "            Q_bar = get_Q_from_Qbasis(Q_basis_bar, basis_to_original)\n",
    "            return 0, Q_bar\n",
    "        else:\n",
    "            print(\"Q is identifiable (brute_check).\")\n",
    "            return 1, None\n",
    "        \n",
    "def brute_check_id2(Q_basis):\n",
    "    J_basis, K = Q_basis.shape\n",
    "    distances = distances2U(Q_basis)\n",
    "    irreplaceable_rows = np.where(np.array(distances) == K - 1)[0]\n",
    "    replaceable_rows = set(range(J_basis)) - set(irreplaceable_rows)\n",
    "    \n",
    "    replacement_indices = list(replaceable_rows)\n",
    "    subQ_bars = []\n",
    "    for i in range(len(replacement_indices)):\n",
    "        index = replacement_indices[i]\n",
    "        q_bars = []\n",
    "        for p in range(1, K - distances[index] + 1):\n",
    "            q_bars.extend(generate_binary_vectors(K, p))\n",
    "        valid_q_bars = []\n",
    "        Q_temp = Q_basis.copy()\n",
    "        for q_bar in q_bars:\n",
    "            Q_temp[index, :] = q_bar\n",
    "            if preserve_partial_order(Q_basis, Q_temp, set(irreplaceable_rows), [index]):\n",
    "                valid_q_bars.append(q_bar)\n",
    "        subQ_bars.append(valid_q_bars)\n",
    "    \n",
    "    # Generate Cartesian product of candidate replacements.\n",
    "    subQ_bars = itertools.product(*subQ_bars)\n",
    "    Q_bar_gen = generate_unique_Q_bars2(subQ_bars, Q_basis, replacement_indices)\n",
    "\n",
    "\n",
    "    cols_phiQ = unique_response_columns(Q_basis)\n",
    "    for Q_basis_bar in Q_bar_gen:\n",
    "        candidate_valid = True  \n",
    "        for S in cols_phiQ:\n",
    "            S_arr = np.array(S, dtype=int)\n",
    "            idx_active = [j for j in range(J_basis) if S_arr[j] == 1]\n",
    "\n",
    "            # Compute h_a: the logical OR of the rows of Q_basis_bar indexed by idx_active.\n",
    "            if idx_active:\n",
    "                h_a = Q_basis_bar[idx_active[0]].copy()\n",
    "                for j in idx_active[1:]:\n",
    "                    h_a = np.logical_or(h_a, Q_basis_bar[j]).astype(int)\n",
    "            else:\n",
    "                h_a = np.zeros(K, dtype=int)\n",
    "\n",
    "            # Now check if there is any row j not in idx_active such that Q_basis_bar[j] <= h_a.\n",
    "            # If so, then the response computed from h_a would have an extra 1, differing from S.\n",
    "            for j in range(J_basis):\n",
    "                if j in idx_active:\n",
    "                    continue  # These rows are by construction \"covered\"\n",
    "                if np.all(Q_basis_bar[j] <= h_a):\n",
    "                    # Found an extra match not corresponding to S.\n",
    "                    candidate_valid = False\n",
    "                    break  # No need to check further S for this candidate.\n",
    "\n",
    "            if not candidate_valid:\n",
    "                # One S failed, so break out immediately to try the next Q_basis_bar.\n",
    "                break\n",
    "\n",
    "        if candidate_valid:\n",
    "            return 0, Q_basis_bar\n",
    "    return 1, None \n",
    "\n",
    "### This function checks if Q is identifiable, if not, it returns one possible Q_bar.\n",
    "def identifiability2(Q):\n",
    "    Q = Q.copy()\n",
    "    \n",
    "    # Step 1: get Q_basis\n",
    "    (Q_basis, basis_to_original, orig_indices_for_basis,\n",
    "         Q_unique, unique_to_original, basis_to_unique) = get_basis(Q)\n",
    "    \n",
    "    J_basis, K = Q_basis.shape\n",
    "    \n",
    "    if J_basis < K:\n",
    "        Q_basis_bar = np.eye(K, dtype=int)[:J_basis]\n",
    "        Q_bar = get_Q_from_Qbasis(Q_basis_bar, basis_to_original)\n",
    "        print(\"Q_basis with dimensions J < K, thus not identifiable.\")\n",
    "        return 0, Q_bar\n",
    "    # All subsequent candidate generation is performed on Q_basis.\n",
    "    # Step 3: Check for trivial non-identifiability on Q_basis.\n",
    "    for k in range(K):\n",
    "        if np.all(Q_basis[:, k] == 0):\n",
    "            Q_basis_bar = Q_basis.copy()\n",
    "            Q_basis_bar[:, k] = 1\n",
    "            print(\"Q is trivially not identifiable (all zero column).\")\n",
    "            Q_bar = get_Q_from_Qbasis(Q_basis_bar, basis_to_original)\n",
    "            return 0, Q_bar\n",
    "        if np.all(Q_basis[:, k] == 1):\n",
    "            Q_basis_bar = Q_basis.copy()\n",
    "            Q_basis_bar[:, k] = 0\n",
    "            print(\"Q is trivially not identifiable (all one column).\")\n",
    "            Q_bar = get_Q_from_Qbasis(Q_basis_bar, basis_to_original)\n",
    "            return 0, Q_bar\n",
    "\n",
    "    candidate = check_two_column_submatrices(Q_basis)\n",
    "    if candidate is not None:\n",
    "        print(\"Q is not identifiable (two-column submatrix not identifiable).\")\n",
    "        Q_basis_bar = candidate\n",
    "        Q_bar = get_Q_from_Qbasis(Q_basis_bar, basis_to_original)\n",
    "        return 0, Q_bar\n",
    "\n",
    "    candidate = check_three_column_submatrices(Q_basis)\n",
    "    if candidate is not None:\n",
    "        print(\"Q is not identifiable (three-column submatrix not identifiable).\")\n",
    "        Q_basis_bar = candidate\n",
    "        Q_bar = get_Q_from_Qbasis(Q_basis_bar, basis_to_original)\n",
    "        return 0, Q_bar\n",
    "\n",
    "    # Step 4: Determine identifiability of Q_basis.\n",
    "    if direct_check_id(Q_basis):\n",
    "        print(\"Q is identifiable (direct_check).\")\n",
    "        return 1, None\n",
    "    else:\n",
    "        status, Q_basis_bar = brute_check_id2(Q_basis)\n",
    "        if status == 0:\n",
    "            print(\"Q is not identifiable (brute_check_id).\")\n",
    "            Q_bar = get_Q_from_Qbasis(Q_basis_bar, basis_to_original)\n",
    "            return 0, Q_bar\n",
    "        else:\n",
    "            print(\"Q is identifiable (brute_check).\")\n",
    "            return 1, None\n",
    "    "
   ]
  },
  {
   "cell_type": "code",
   "execution_count": null,
   "id": "a0a9e4f2",
   "metadata": {
    "tags": []
   },
   "outputs": [],
   "source": [
    "id_Q54 = []\n",
    "id_Q54_withoutI = []\n",
    "nid_Q54_id2 = []\n",
    "nid_Q54_id3 = []\n",
    "nid_Q54_ncol = []\n",
    "for Q in generate_canonical_matrices(5, 4):\n",
    "    idd, Q_bar = identifiability(Q = Q)\n",
    "    if idd:\n",
    "        id_Q54.append(Q)\n",
    "        if not contains_identity_submatrix(Q):\n",
    "            id_Q54_withoutI.append(Q)\n",
    "    else:\n",
    "        if check_three_column_submatrices(Q) is None:\n",
    "            nid_Q54_id3.append(Q)\n",
    "            draw_G_K4(Q)\n",
    "            print(Q)"
   ]
  },
  {
   "cell_type": "code",
   "execution_count": null,
   "id": "4d0c1c2a-084a-4c36-a6a5-6483f4fe3727",
   "metadata": {},
   "outputs": [],
   "source": [
    "len(id_Q54_withoutI)"
   ]
  },
  {
   "cell_type": "code",
   "execution_count": null,
   "id": "d546607c",
   "metadata": {},
   "outputs": [],
   "source": [
    "from idQ import thmCheck"
   ]
  },
  {
   "cell_type": "code",
   "execution_count": null,
   "id": "31fbe56e",
   "metadata": {
    "tags": []
   },
   "outputs": [],
   "source": [
    "for Q in nid_Q54_id3:\n",
    "    idd, Q_bar = identifiability(Q = Q)\n",
    "    PhiQ = Phi_mat(Q)\n",
    "    PhiB = Phi_mat(Q_bar)\n",
    "    checks = thmCheck(PhiQ, PhiB, tol=1e-8)\n",
    "    print(checks)\n",
    "    print(Q)\n",
    "    print(Q_bar)"
   ]
  },
  {
   "cell_type": "code",
   "execution_count": null,
   "id": "553741f0",
   "metadata": {},
   "outputs": [],
   "source": []
  },
  {
   "cell_type": "code",
   "execution_count": null,
   "id": "39ba68d6",
   "metadata": {},
   "outputs": [],
   "source": []
  },
  {
   "cell_type": "code",
   "execution_count": null,
   "id": "99326378",
   "metadata": {
    "tags": []
   },
   "outputs": [],
   "source": [
    "id_Q54 = []\n",
    "id_Q54_withoutI = []\n",
    "nid_Q54_id2 = []\n",
    "nid_Q54_id3 = []\n",
    "nid_Q54_ncol = []\n",
    "for Q in generate_canonical_matrices(5, 4):\n",
    "    idd, Q_bar = identifiability(Q = Q)\n",
    "    if idd:\n",
    "        id_Q54.append(Q)\n",
    "        if not contains_identity_submatrix(Q):\n",
    "            id_Q54_withoutI.append(Q)\n",
    "            draw_G_K4(Q)\n",
    "    else:\n",
    "        if check_three_column_submatrices(Q) is None:\n",
    "            nid_Q54_id3.append(Q)"
   ]
  },
  {
   "cell_type": "code",
   "execution_count": null,
   "id": "6dd139fc",
   "metadata": {},
   "outputs": [],
   "source": [
    "len(id_Q65_withoutI)"
   ]
  },
  {
   "cell_type": "code",
   "execution_count": null,
   "id": "4b74138c",
   "metadata": {
    "tags": []
   },
   "outputs": [],
   "source": [
    "QQ = id_Q65_withoutI[27]\n",
    "draw_G_K5(QQ)"
   ]
  },
  {
   "cell_type": "code",
   "execution_count": null,
   "id": "f0891055",
   "metadata": {
    "scrolled": true
   },
   "outputs": [],
   "source": [
    "QQ"
   ]
  },
  {
   "cell_type": "code",
   "execution_count": null,
   "id": "f7ed19fa",
   "metadata": {
    "tags": []
   },
   "outputs": [],
   "source": [
    "QQ1= np.array([[0, 0, 0, 0, 1],\n",
    "       [0, 0, 0, 1, 0],\n",
    "       [0, 0, 1, 0, 0],\n",
    "       [0, 1, 0, 1, 1],\n",
    "       [1, 0, 0, 1, 1],\n",
    "       [1, 1, 1, 0, 0],\n",
    "       [0, 0, 1, 1, 0]\n",
    "         ])\n",
    "draw_G_K5(QQ1)\n",
    "identifiability(QQ1)"
   ]
  },
  {
   "cell_type": "code",
   "execution_count": null,
   "id": "e0c02f72",
   "metadata": {
    "tags": []
   },
   "outputs": [],
   "source": [
    "bQQ1 = np.array([[0, 0, 0, 0, 1],\n",
    "       [0, 0, 0, 1, 0],\n",
    "       [0, 0, 1, 0, 0],\n",
    "       [0, 1, 0, 1, 1],\n",
    "       [1, 0, 0, 1, 1],\n",
    "       [1, 1, 1, 0, 0],\n",
    "       [1, 0, 1, 1, 0]])\n",
    "draw_G_K5(bQQ1)\n",
    "identifiability(bQQ1)"
   ]
  },
  {
   "cell_type": "code",
   "execution_count": null,
   "id": "2cd3fef8",
   "metadata": {
    "tags": []
   },
   "outputs": [],
   "source": [
    "Phi_mat_analysis(QQ1)"
   ]
  },
  {
   "cell_type": "code",
   "execution_count": null,
   "id": "e13a0490",
   "metadata": {},
   "outputs": [],
   "source": []
  },
  {
   "cell_type": "code",
   "execution_count": null,
   "id": "69076111",
   "metadata": {},
   "outputs": [],
   "source": [
    "# This function checks whether row1 is less than or equal to row2.\n",
    "def is_less_equal_than(row1, row2):\n",
    "    return np.all(row1 <= row2)"
   ]
  },
  {
   "cell_type": "code",
   "execution_count": null,
   "id": "650e015d",
   "metadata": {},
   "outputs": [],
   "source": [
    "import itertools\n",
    "import numpy as np\n",
    "\n",
    "def Phi_mat_analysis(Q):\n",
    "    \"\"\"\n",
    "    Analyzes the Phi matrix of Q.\n",
    "    \n",
    "    For each latent vector a in {0,1}^K (K = number of columns in Q),\n",
    "    it computes the response vector:\n",
    "    \n",
    "        [ is_less_equal_than(Q[j], a) for j in range(J) ]\n",
    "    \n",
    "    where is_less_equal_than returns a Boolean (converted to int).\n",
    "    \n",
    "    It then groups latent vectors that produce the same response pattern.\n",
    "    Using representative_node_set(Q), it identifies the representative latent\n",
    "    vector for each group, and prints:\n",
    "    \n",
    "        - The representative latent vector\n",
    "        - All latent vectors that share the same responses\n",
    "        - Their shared response pattern (as a tuple of 0's and 1's)\n",
    "    \n",
    "    Parameters:\n",
    "        Q (np.ndarray): A J×K binary matrix.\n",
    "    \"\"\"\n",
    "    J, K = Q.shape\n",
    "    # Generate all latent vectors in {0,1}^K\n",
    "    AA = [tuple(seq) for seq in itertools.product([0, 1], repeat=K)]\n",
    "    \n",
    "    # Compute a mapping from each latent vector to its response pattern.\n",
    "    # Each response pattern is a tuple of length J.\n",
    "    latent_to_response = {}\n",
    "    for a in AA:\n",
    "        response = tuple(int(is_less_equal_than(Q[j], a)) for j in range(J))\n",
    "        latent_to_response[a] = response\n",
    "    \n",
    "    # Invert the mapping: group latent vectors by their response pattern.\n",
    "    response_to_latents = {}\n",
    "    for a, response in latent_to_response.items():\n",
    "        response_to_latents.setdefault(response, []).append(a)\n",
    "    \n",
    "    # Get the representative node set for Q.\n",
    "    reps = representative_node_set(Q)  # This is a set of tuples (latent vectors)\n",
    "    \n",
    "    # For each group (each distinct response pattern), select the representative latent vector.\n",
    "    for response, latent_vectors in response_to_latents.items():\n",
    "        rep = None\n",
    "        # Choose the representative as the first latent vector in the group that is in reps.\n",
    "        for a in latent_vectors:\n",
    "            if a in reps:\n",
    "                rep = a\n",
    "                break\n",
    "        # If none of the latent vectors is in reps (unlikely), choose the first one.\n",
    "        if rep is None:\n",
    "            rep = latent_vectors[0]\n",
    "        # Print the analysis for this group.\n",
    "        print(\"Representative latent vector:\", rep)\n",
    "        print(\"Latent vectors with the same responses:\", latent_vectors)\n",
    "        print(\"Shared responses:\", response)\n",
    "        print(\"-\" * 40)\n"
   ]
  },
  {
   "cell_type": "code",
   "execution_count": null,
   "id": "f8e04c3b",
   "metadata": {},
   "outputs": [],
   "source": []
  },
  {
   "cell_type": "code",
   "execution_count": null,
   "id": "c745cee0",
   "metadata": {},
   "outputs": [],
   "source": []
  },
  {
   "cell_type": "code",
   "execution_count": null,
   "id": "fb385a61",
   "metadata": {},
   "outputs": [],
   "source": []
  },
  {
   "cell_type": "code",
   "execution_count": null,
   "id": "0aa4b08d",
   "metadata": {},
   "outputs": [],
   "source": []
  },
  {
   "cell_type": "code",
   "execution_count": null,
   "id": "f820c91a",
   "metadata": {},
   "outputs": [],
   "source": []
  },
  {
   "cell_type": "code",
   "execution_count": null,
   "id": "899a311f",
   "metadata": {
    "scrolled": true
   },
   "outputs": [],
   "source": [
    "len(id_Q54_withoutI)"
   ]
  },
  {
   "cell_type": "code",
   "execution_count": null,
   "id": "426afce3",
   "metadata": {},
   "outputs": [],
   "source": [
    "from idQ import canonicalize\n",
    "def generate_unique_Q_bars2(subQ_bars, Q, replacement_indices):\n",
    "    \n",
    "    \"\"\"\n",
    "    Generate candidate Q_bar matrices from the Cartesian product subQ_bars,\n",
    "    yielding only one representative per permutation equivalence class.\n",
    "    The canonical form of Q is added to the 'seen' set so that any candidate\n",
    "    equivalent to Q is automatically filtered out.\n",
    "    \n",
    "    Parameters:\n",
    "        subQ_bars (iterable): Cartesian product of candidate replacement rows.\n",
    "        Q (np.ndarray): The input Q-matrix.\n",
    "        replacement_indices (list): Indices of rows in Q to be replaced.\n",
    "    \n",
    "    Yields:\n",
    "        np.ndarray: A candidate Q_bar that is not permutation equivalent to Q.\n",
    "    \"\"\"\n",
    "    \n",
    "    seen = set()\n",
    "    canonical_Q = canonicalize(Q)\n",
    "    seen.add(canonical_Q.tostring())\n",
    "    \n",
    "    for subQ_bar_replacements in subQ_bars:\n",
    "        # Check if the candidate for replacements is empty:\n",
    "        if len(subQ_bar_replacements) == 0:\n",
    "            continue  # skip this candidate\n",
    "        \n",
    "        Q_bar = Q.copy()\n",
    "        candidate = np.array(subQ_bar_replacements)\n",
    "        # Ensure candidate has the correct shape. If candidate.ndim == 1, reshape it.\n",
    "        if candidate.ndim == 1:\n",
    "            candidate = candidate.reshape(1, -1)\n",
    "        \n",
    "        Q_bar[replacement_indices, :] = candidate\n",
    "        can_form = canonicalize(Q_bar)\n",
    "        key = can_form.tostring()\n",
    "        if key not in seen:\n",
    "            seen.add(key)\n",
    "            yield Q_bar"
   ]
  },
  {
   "cell_type": "code",
   "execution_count": null,
   "id": "70b52eff",
   "metadata": {
    "tags": []
   },
   "outputs": [],
   "source": [
    "id_Q64 = []\n",
    "id_Q64_withoutI = []\n",
    "nid_Q64_id2 = []\n",
    "nid_Q64_id3 = []\n",
    "nid_Q64_ncol = []\n",
    "for Q in generate_canonical_matrices(6, 4):\n",
    "    idd, Q_bar = identifiability(Q = Q)\n",
    "    if idd:\n",
    "        id_Q64.append(Q)\n",
    "        if not contains_identity_submatrix(Q):\n",
    "            id_Q64_withoutI.append(Q)"
   ]
  },
  {
   "cell_type": "code",
   "execution_count": null,
   "id": "8b178378",
   "metadata": {},
   "outputs": [],
   "source": [
    "import csv\n",
    "csv_filename = \"identifiable_Q/identifiable_Q_K4_J6.csv\"\n",
    "\n",
    "with open(csv_filename, \"w\", newline=\"\") as csvfile:\n",
    "    writer = csv.writer(csvfile)\n",
    "    for idx, matrix in enumerate(id_Q64_withoutI):\n",
    "        # Write a header for each matrix.\n",
    "        writer.writerow([f\"Matrix {idx}\"])\n",
    "        # Write each row of the matrix.\n",
    "        for row in matrix:\n",
    "            writer.writerow(row.tolist())\n",
    "        # Write a blank row as a separator.\n",
    "        writer.writerow([])\n"
   ]
  },
  {
   "cell_type": "code",
   "execution_count": null,
   "id": "72bc09bf",
   "metadata": {
    "tags": []
   },
   "outputs": [],
   "source": [
    "id_Q64 = []\n",
    "id_Q64_withoutI = []\n",
    "nid_Q64_id2 = []\n",
    "nid_Q64_id3 = []\n",
    "nid_Q64_ncol = []\n",
    "for Q in generate_canonical_matrices(6, 4):\n",
    "    idd, Q_bar = identifiability(Q = Q)\n",
    "    if idd:\n",
    "        id_Q64.append(Q)\n",
    "        if not contains_identity_submatrix(Q):\n",
    "            id_Q64_withoutI.append(Q)\n",
    "            draw_G_K4(Q)"
   ]
  },
  {
   "cell_type": "code",
   "execution_count": null,
   "id": "7d0f01dd",
   "metadata": {},
   "outputs": [],
   "source": [
    "len(id_Q64_withoutI)"
   ]
  },
  {
   "cell_type": "code",
   "execution_count": null,
   "id": "dc939c45",
   "metadata": {},
   "outputs": [],
   "source": [
    "len(id_Q64)"
   ]
  },
  {
   "cell_type": "code",
   "execution_count": null,
   "id": "08ebc824",
   "metadata": {},
   "outputs": [],
   "source": [
    "len(generate_canonical_matrices(6, 4))"
   ]
  },
  {
   "cell_type": "code",
   "execution_count": null,
   "id": "fc657a90",
   "metadata": {
    "scrolled": true,
    "tags": []
   },
   "outputs": [],
   "source": [
    "id_Q64 = []\n",
    "id_Q64_withoutI = []\n",
    "nid_Q64_id2 = []\n",
    "nid_Q64_id3 = []\n",
    "nid_Q64_ncol = []\n",
    "for Q in generate_canonical_matrices(6, 4):\n",
    "    idd, Q_bar = identifiability(Q = Q)\n",
    "    if idd:\n",
    "        id_Q64.append(Q)\n",
    "        if not contains_identity_submatrix(Q):\n",
    "            id_Q64_withoutI.append(Q)\n",
    "            draw_G_K4(Q)"
   ]
  },
  {
   "cell_type": "code",
   "execution_count": null,
   "id": "25c6e629",
   "metadata": {
    "scrolled": true
   },
   "outputs": [],
   "source": [
    "import numpy as np\n",
    "\n",
    "result = []\n",
    "for Q in id_Q54_withoutI:\n",
    "    # Get the set of representative node rows and the set of current item node rows\n",
    "    R_Q = representative_node_set(Q)\n",
    "    I_Q = item_node_set(Q)\n",
    "    # Determine which representative rows are not already present in Q\n",
    "    new_rows = R_Q - I_Q\n",
    "    for q in new_rows:\n",
    "        # Create a new Q by appending q to Q.\n",
    "        # We first convert each row of Q to a list of integers (binary values)\n",
    "        newQ_list = [list(map(int, row)) for row in Q]\n",
    "        # Convert the candidate row q to a list of integers\n",
    "        new_row = list(map(int, q))\n",
    "        newQ_list.append(new_row)\n",
    "        # Convert newQ_list to a NumPy array with integer type to ensure it's a binary matrix\n",
    "        newQ = np.array(newQ_list, dtype=int)\n",
    "        # Check if newQ is non-identifiable\n",
    "        if not identifiability(newQ):\n",
    "            # Optionally, you might want to store the original Q as a binary matrix too\n",
    "            result.append((np.array(Q, dtype=int), newQ))\n"
   ]
  },
  {
   "cell_type": "code",
   "execution_count": null,
   "id": "c821bac2",
   "metadata": {
    "scrolled": true
   },
   "outputs": [],
   "source": [
    "result"
   ]
  },
  {
   "cell_type": "code",
   "execution_count": null,
   "id": "5ded9f8e",
   "metadata": {},
   "outputs": [],
   "source": [
    "import numpy as np\n",
    "\n",
    "result = []\n",
    "for Q in id_Q54_withoutI:\n",
    "    # Get the set of representative node rows and the set of current item node rows\n",
    "    R_Q = representative_node_set(Q)\n",
    "    I_Q = item_node_set(Q)\n",
    "    # Determine which representative rows are not already present in Q\n",
    "    new_rows = R_Q - I_Q\n",
    "    for q in new_rows:\n",
    "        # Create a new Q by appending q to Q.\n",
    "        # We first convert each row of Q to a list of integers (binary values)\n",
    "        newQ_list = [list(map(int, row)) for row in Q]\n",
    "        # Convert the candidate row q to a list of integers\n",
    "        new_row = list(map(int, q))\n",
    "        newQ_list.append(new_row)\n",
    "        # Convert newQ_list to a NumPy array with integer type to ensure it's a binary matrix\n",
    "        newQ = np.array(newQ_list, dtype=int)\n",
    "        # Check if newQ is non-identifiable\n",
    "        if not identifiability(newQ):\n",
    "            # Optionally, you might want to store the original Q as a binary matrix too\n",
    "            result.append((np.array(Q, dtype=int), newQ))\n"
   ]
  },
  {
   "cell_type": "code",
   "execution_count": null,
   "id": "4ad50e97",
   "metadata": {},
   "outputs": [],
   "source": []
  },
  {
   "cell_type": "code",
   "execution_count": null,
   "id": "41842073",
   "metadata": {
    "scrolled": true
   },
   "outputs": [],
   "source": [
    "len(id_Q54_withoutI)"
   ]
  },
  {
   "cell_type": "code",
   "execution_count": null,
   "id": "07de581f",
   "metadata": {
    "scrolled": true
   },
   "outputs": [],
   "source": [
    "len(id_Q54)"
   ]
  },
  {
   "cell_type": "code",
   "execution_count": null,
   "id": "cde39187",
   "metadata": {},
   "outputs": [],
   "source": [
    "difference = [Q for Q in id_Q54 if not any(np.array_equal(Q, Q_without) for Q_without in id_Q54_withoutI)]\n",
    "difference"
   ]
  },
  {
   "cell_type": "code",
   "execution_count": null,
   "id": "f696de4f",
   "metadata": {},
   "outputs": [],
   "source": [
    "id_Q54_withoutI[0]"
   ]
  },
  {
   "cell_type": "code",
   "execution_count": null,
   "id": "76ee52d1",
   "metadata": {},
   "outputs": [],
   "source": [
    "Q = id_Q54_withoutI[0]\n",
    "Q"
   ]
  },
  {
   "cell_type": "code",
   "execution_count": null,
   "id": "621983f3",
   "metadata": {},
   "outputs": [],
   "source": [
    "# Compute G_matrix of Q\n",
    "def G_mat(Q, unique = True):\n",
    "    J, K = Q.shape\n",
    "    pp = [seq for seq in itertools.product([0, 1], repeat=K)]\n",
    "    GG = []\n",
    "    for j in range(J):\n",
    "        GG.append((list(is_less_equal_than(Q[j,:], p) for p in pp)))\n",
    "    GG = np.array(GG)*1\n",
    "    if unique:\n",
    "        return(np.unique(GG, axis = 1))\n",
    "    return GG"
   ]
  },
  {
   "cell_type": "code",
   "execution_count": null,
   "id": "12781d3a",
   "metadata": {},
   "outputs": [],
   "source": [
    "Q1 = Q"
   ]
  },
  {
   "cell_type": "code",
   "execution_count": null,
   "id": "5c2e41a8",
   "metadata": {},
   "outputs": [],
   "source": [
    "Q2 = Q.copy"
   ]
  },
  {
   "cell_type": "code",
   "execution_count": null,
   "id": "dbf0ceb3",
   "metadata": {
    "scrolled": true
   },
   "outputs": [],
   "source": [
    "Q2[2,3] = 0"
   ]
  },
  {
   "cell_type": "code",
   "execution_count": null,
   "id": "69b2d7b4",
   "metadata": {
    "scrolled": true
   },
   "outputs": [],
   "source": [
    "Q2"
   ]
  },
  {
   "cell_type": "code",
   "execution_count": null,
   "id": "171a6663",
   "metadata": {},
   "outputs": [],
   "source": [
    "Q"
   ]
  },
  {
   "cell_type": "code",
   "execution_count": null,
   "id": "09d1c613",
   "metadata": {
    "scrolled": true
   },
   "outputs": [],
   "source": [
    "G_mat(Q)"
   ]
  },
  {
   "cell_type": "code",
   "execution_count": null,
   "id": "3ddc2693",
   "metadata": {},
   "outputs": [],
   "source": [
    "G_mat(Q)"
   ]
  },
  {
   "cell_type": "code",
   "execution_count": null,
   "id": "00349777",
   "metadata": {
    "scrolled": true
   },
   "outputs": [],
   "source": [
    "G_mat(Q)"
   ]
  },
  {
   "cell_type": "code",
   "execution_count": null,
   "id": "dbecc1d5",
   "metadata": {
    "scrolled": true
   },
   "outputs": [],
   "source": [
    "np.unique(GG, axis = 1).T"
   ]
  },
  {
   "cell_type": "code",
   "execution_count": null,
   "id": "08771721",
   "metadata": {
    "scrolled": true
   },
   "outputs": [],
   "source": [
    "for Q in id_Q54_withoutI:\n",
    "    print(G_mat(Q))"
   ]
  },
  {
   "cell_type": "markdown",
   "id": "4f0de75b",
   "metadata": {},
   "source": [
    "## There are 20 number of Q that are identifiable without containing an identity matrix."
   ]
  },
  {
   "cell_type": "code",
   "execution_count": null,
   "id": "1981ca8c",
   "metadata": {
    "scrolled": true
   },
   "outputs": [],
   "source": [
    "len(nid_Q54_id2)"
   ]
  },
  {
   "cell_type": "code",
   "execution_count": null,
   "id": "cbfe6326",
   "metadata": {},
   "outputs": [],
   "source": []
  },
  {
   "cell_type": "markdown",
   "id": "83f9c00b",
   "metadata": {},
   "source": [
    "## There are 17 of not identifiable Q that satisfies necc(2)."
   ]
  },
  {
   "cell_type": "code",
   "execution_count": null,
   "id": "c230f7f0",
   "metadata": {
    "scrolled": true
   },
   "outputs": [],
   "source": [
    "len(nid_Q54_id3)"
   ]
  },
  {
   "cell_type": "code",
   "execution_count": null,
   "id": "246637d1",
   "metadata": {},
   "outputs": [],
   "source": [
    "nid_Q54_ncol"
   ]
  },
  {
   "cell_type": "markdown",
   "id": "d210127d",
   "metadata": {},
   "source": [
    "## There are no not identifiable Q s.t. the column space condition violates."
   ]
  },
  {
   "cell_type": "markdown",
   "id": "0d0c2de6",
   "metadata": {},
   "source": [
    "## There are 6 of not identifiable Q that satisfies necc(2)."
   ]
  },
  {
   "cell_type": "code",
   "execution_count": null,
   "id": "890655a4",
   "metadata": {},
   "outputs": [],
   "source": [
    "for Q in nid_Q54_id2:\n",
    "    print(Any_two_columns_contain_I(Q))"
   ]
  },
  {
   "cell_type": "code",
   "execution_count": null,
   "id": "89dcc9ad",
   "metadata": {},
   "outputs": [],
   "source": [
    "Q = nid_Q54_id3[0]\n",
    "Q"
   ]
  },
  {
   "cell_type": "code",
   "execution_count": null,
   "id": "748acd0f",
   "metadata": {},
   "outputs": [],
   "source": [
    "_, Q_bar = identifiability(Q = Q)\n",
    "Q_bar = Q_bar[0]"
   ]
  },
  {
   "cell_type": "code",
   "execution_count": null,
   "id": "56435827",
   "metadata": {
    "scrolled": true
   },
   "outputs": [],
   "source": [
    "nid_Q54_id3 = []\n",
    "for Q in nid_Q54_ncol:\n",
    "    if any_3_columns_id(Q):\n",
    "        nid_Q54_id3.append(Q)"
   ]
  },
  {
   "cell_type": "code",
   "execution_count": null,
   "id": "08f7b229",
   "metadata": {},
   "outputs": [],
   "source": []
  },
  {
   "cell_type": "code",
   "execution_count": null,
   "id": "42c2fa45",
   "metadata": {},
   "outputs": [],
   "source": []
  },
  {
   "cell_type": "code",
   "execution_count": null,
   "id": "6304a865",
   "metadata": {},
   "outputs": [],
   "source": []
  },
  {
   "cell_type": "markdown",
   "id": "c9116ad8",
   "metadata": {},
   "source": [
    "# Fraction Data"
   ]
  },
  {
   "cell_type": "code",
   "execution_count": null,
   "id": "93d30265",
   "metadata": {},
   "outputs": [],
   "source": [
    "Q = np.array([\n",
    "    [0, 0, 0, 1, 0, 1, 1, 0],\n",
    "    [0, 0, 0, 1, 0, 0, 1, 0],\n",
    "    [0, 0, 0, 1, 0, 0, 1, 0],\n",
    "    [0, 1, 1, 0, 1, 0, 1, 0],\n",
    "    [0, 1, 0, 1, 0, 0, 1, 1],\n",
    "    [0, 0, 0, 0, 0, 0, 1, 0],\n",
    "    [1, 1, 0, 0, 0, 0, 1, 0],\n",
    "    [0, 0, 0, 0, 0, 0, 1, 0],\n",
    "    [0, 1, 0, 0, 0, 0, 0, 0],\n",
    "    [0, 1, 0, 0, 1, 0, 1, 1],\n",
    "    [0, 1, 0, 0, 1, 0, 1, 0],\n",
    "    [0, 0, 0, 0, 0, 0, 1, 1],\n",
    "    [0, 1, 0, 1, 1, 0, 1, 0],\n",
    "    [0, 1, 0, 0, 0, 0, 1, 0],\n",
    "    [1, 0, 0, 0, 0, 0, 1, 0],\n",
    "    [0, 1, 0, 0, 0, 0, 1, 0],\n",
    "    [0, 1, 0, 0, 1, 0, 1, 0],\n",
    "    [0, 1, 0, 0, 1, 1, 1, 0],\n",
    "    [1, 1, 1, 0, 1, 0, 1, 0],\n",
    "    [0, 1, 1, 0, 1, 0, 1, 0]\n",
    "])"
   ]
  },
  {
   "cell_type": "code",
   "execution_count": null,
   "id": "2f3eadb7",
   "metadata": {},
   "outputs": [],
   "source": [
    "# Find unique rows and their indices\n",
    "unique_rows, indices = np.unique(Q, axis=0, return_index=True)\n",
    "\n",
    "# Find duplicate rows\n",
    "duplicate_rows = np.delete(np.arange(Q.shape[0]), indices)\n",
    "\n",
    "print(\"Duplicate rows:\", duplicate_rows)\n",
    "\n",
    "Q.shape\n",
    "\n",
    "Q_unique = np.unique(Q, axis=0)\n",
    "Q_unique.shape\n",
    "\n",
    "Q_unique"
   ]
  },
  {
   "cell_type": "code",
   "execution_count": null,
   "id": "458a8bf6-6a6b-4855-994f-52effb078f38",
   "metadata": {},
   "outputs": [],
   "source": []
  },
  {
   "cell_type": "code",
   "execution_count": null,
   "id": "07c6c1e6-0d95-447f-acc9-f5684bf6dd0b",
   "metadata": {},
   "outputs": [],
   "source": []
  }
 ],
 "metadata": {
  "kernelspec": {
   "display_name": "Python 3 (ipykernel)",
   "language": "python",
   "name": "python3"
  },
  "language_info": {
   "codemirror_mode": {
    "name": "ipython",
    "version": 3
   },
   "file_extension": ".py",
   "mimetype": "text/x-python",
   "name": "python",
   "nbconvert_exporter": "python",
   "pygments_lexer": "ipython3",
   "version": "3.10.9"
  }
 },
 "nbformat": 4,
 "nbformat_minor": 5
}
