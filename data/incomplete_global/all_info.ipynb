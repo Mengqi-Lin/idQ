{
 "cells": [
  {
   "cell_type": "code",
   "execution_count": 22,
   "id": "597d0c89",
   "metadata": {},
   "outputs": [],
   "source": [
    "import pandas as pd\n",
    "import numpy as np\n",
    "import matplotlib.pyplot as plt"
   ]
  },
  {
   "cell_type": "code",
   "execution_count": 3,
   "id": "de24d584",
   "metadata": {},
   "outputs": [],
   "source": [
    "J = 8\n",
    "K = 4\n",
    "C = 3"
   ]
  },
  {
   "cell_type": "code",
   "execution_count": 12,
   "id": "c9dd18a1",
   "metadata": {},
   "outputs": [],
   "source": [
    "# Load the CSV file\n",
    "df = pd.read_csv(f'all_J{J}_K{K}_C{C}.csv', header=None)\n",
    "\n",
    "# Extract the Q matrices, identifiability indicators, and runtimes\n",
    "Q_matrices = df[0].str.strip('[]').str.split(' ').apply(lambda x: [int(i) for i in x])\n",
    "iden = df[1]\n",
    "runtimes = df[2]\n",
    "\n",
    "# If you want to reshape the Q matrices into J x K form:\n",
    "Q_matrices = Q_matrices.apply(lambda x: np.array(x).reshape(J, K))"
   ]
  },
  {
   "cell_type": "code",
   "execution_count": 24,
   "id": "e88f9142",
   "metadata": {},
   "outputs": [],
   "source": [
    "def info_all(J, K, C):\n",
    "    # Load the CSV file\n",
    "    df = pd.read_csv(f'all_J{J}_K{K}_C{C}.csv', header=None)\n",
    "\n",
    "    # Extract the Q matrices, identifiability indicators, and runtimes\n",
    "    Q_matrices = df[0].str.strip('[]').str.split(' ').apply(lambda x: [int(i) for i in x])\n",
    "    \n",
    "    # Id results.\n",
    "    iden = df[1]\n",
    "    iden == -1\n",
    "    iden_cons = iden.copy()\n",
    "    iden_cons[iden == -1] = 0\n",
    "    print(f'The proportion of identifiable Q: {np.mean(iden_cons)}')\n",
    "    \n",
    "    # Runtime plots.\n",
    "    run_times = df[2]\n",
    "\n",
    "    # Create a histogram\n",
    "    plt.hist(run_times, bins=30, edgecolor='black')\n",
    "\n",
    "    # Set the title and labels\n",
    "    plt.title(f'Distribution of Run Times (J={J}, K={K}, C={C})')\n",
    "    plt.xlabel('Run Time')\n",
    "    plt.ylabel('Frequency')\n",
    "\n",
    "    # Display the plot\n",
    "    plt.show()"
   ]
  },
  {
   "cell_type": "code",
   "execution_count": 25,
   "id": "bc691c97",
   "metadata": {},
   "outputs": [
    {
     "name": "stdout",
     "output_type": "stream",
     "text": [
      "The proportion of identifiable Q: 0.582089552238806\n"
     ]
    },
    {
     "data": {
      "image/png": "[encoded data removed]",
      "text/plain": [
       "<Figure size 432x288 with 1 Axes>"
      ]
     },
     "metadata": {
      "needs_background": "light"
     },
     "output_type": "display_data"
    }
   ],
   "source": [
    "info_all(J, K, C)"
   ]
  },
  {
   "cell_type": "code",
   "execution_count": 14,
   "id": "226a47d5",
   "metadata": {},
   "outputs": [],
   "source": [
    "info_all(J, K, C)"
   ]
  }
 ],
 "metadata": {
  "kernelspec": {
   "display_name": "Python 3",
   "language": "python",
   "name": "python3"
  },
  "language_info": {
   "codemirror_mode": {
    "name": "ipython",
    "version": 3
   },
   "file_extension": ".py",
   "mimetype": "text/x-python",
   "name": "python",
   "nbconvert_exporter": "python",
   "pygments_lexer": "ipython3",
   "version": "3.10.4"
  }
 },
 "nbformat": 4,
 "nbformat_minor": 5
}
