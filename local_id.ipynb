{
 "cells": [
  {
   "cell_type": "code",
   "execution_count": 30,
   "metadata": {},
   "outputs": [],
   "source": [
    "import numpy as np\n",
    "import itertools\n",
    "from itertools import combinations\n",
    "from itertools import combinations, product\n",
    "from itertools import permutations\n",
    "import warnings\n",
    "import time\n",
    "from idQ import local_identifiability\n",
    "\n",
    "from idQ import is_parallel\n",
    "from idQ import is_strictly_less_than\n",
    "from idQ import is_less_equal_than\n",
    "from idQ import generate_binary_vectors\n",
    "from idQ import generate_permutations\n",
    "from idQ import get_D_l\n",
    "from idQ import height_of_Q\n",
    "from idQ import distances2U\n",
    "from idQ import preserve_partial_order\n",
    "import random\n",
    "from expr_function import test_local_identifiability\n"
   ]
  },
  {
   "cell_type": "code",
   "execution_count": 31,
   "metadata": {
    "scrolled": true
   },
   "outputs": [],
   "source": [
    "Q = np.array([\n",
    "    [0, 0, 0, 0, 0, 1],\n",
    "    [0, 0, 0, 0, 1, 0],\n",
    "    [0, 0, 0, 0, 1, 1],\n",
    "    [0, 0, 0, 1, 0, 0],\n",
    "    [0, 0, 1, 0, 0, 0],\n",
    "    [0, 0, 1, 0, 1, 0],\n",
    "    [0, 0, 1, 0, 1, 1],\n",
    "    [0, 0, 1, 1, 1, 0],\n",
    "    [0, 1, 0, 0, 0, 0],\n",
    "    [0, 1, 0, 1, 1, 0],\n",
    "    [0, 1, 0, 1, 1, 1],\n",
    "    [0, 1, 1, 0, 0, 0],\n",
    "    [0, 1, 1, 1, 1, 0],\n",
    "    [1, 0, 0, 0, 1, 0],\n",
    "    [1, 0, 1, 1, 0, 0],\n",
    "    [1, 0, 1, 1, 0, 1],\n",
    "    [1, 1, 0, 0, 0, 0],\n",
    "    [1, 1, 0, 1, 0, 0],\n",
    "    [1, 1, 1, 0, 0, 0],\n",
    "    [1, 1, 1, 1, 1, 0]\n",
    "], dtype=np.int8)"
   ]
  },
  {
   "cell_type": "code",
   "execution_count": 32,
   "metadata": {
    "scrolled": true
   },
   "outputs": [
    {
     "data": {
      "text/plain": [
       "('Q is 6-locally identifiable.', [])"
      ]
     },
     "execution_count": 32,
     "metadata": {},
     "output_type": "execute_result"
    }
   ],
   "source": [
    "local_identifiability(Q, kappa = 6, uniout=True, check_level=5)"
   ]
  },
  {
   "cell_type": "code",
   "execution_count": null,
   "metadata": {},
   "outputs": [],
   "source": []
  },
  {
   "cell_type": "code",
   "execution_count": null,
   "metadata": {},
   "outputs": [],
   "source": [
    "def generate_Q(J, K):\n",
    "    # Generate all possible binary sequences of length K\n",
    "    all_sequences = list(itertools.product([0, 1], repeat=K))\n",
    "\n",
    "    # Remove the sequence of all zeros if it's present\n",
    "    all_sequences = [seq for seq in all_sequences if any(seq)]\n",
    "\n",
    "    # Randomly select J unique sequences\n",
    "    selected_sequences = random.sample(all_sequences, J)\n",
    "\n",
    "    # Convert the selected sequences into a NumPy array\n",
    "    Q = np.array(selected_sequences)\n",
    "    \n",
    "    # Sort rows of Q\n",
    "    Q = Q[np.lexsort(Q.T[::-1])]\n",
    "\n",
    "    return Q"
   ]
  },
  {
   "cell_type": "code",
   "execution_count": 23,
   "metadata": {
    "scrolled": true
   },
   "outputs": [
    {
     "name": "stdout",
     "output_type": "stream",
     "text": [
      "J: 7, K: 4\n",
      "Q:\n",
      "[[0 0 1 0]\n",
      " [0 1 0 0]\n",
      " [0 1 0 1]\n",
      " [0 1 1 0]\n",
      " [0 1 1 1]\n",
      " [1 0 0 1]\n",
      " [1 1 1 1]]\n",
      "kappa: 6, check_level: 5\n",
      "Q is kappa-locally identifiable because you can't replace kappa many of the rows.\n",
      "Q is kappa-locally identifiable because you can't replace kappa many of the rows.\n",
      "Runtime: 0.00022125244140625 seconds\n",
      "---------------------------\n",
      "kappa: 6, check_level: 6\n",
      "Q is kappa-locally identifiable because you can't replace kappa many of the rows.\n",
      "Q is kappa-locally identifiable because you can't replace kappa many of the rows.\n",
      "Runtime: 0.000225067138671875 seconds\n",
      "---------------------------\n"
     ]
    }
   ],
   "source": [
    "test_local_identifiability(7, 4, [6], [5, 6])"
   ]
  },
  {
   "cell_type": "code",
   "execution_count": 3,
   "metadata": {
    "scrolled": false
   },
   "outputs": [
    {
     "data": {
      "text/plain": [
       "[3, 3, 3, 3]"
      ]
     },
     "execution_count": 3,
     "metadata": {},
     "output_type": "execute_result"
    }
   ],
   "source": [
    "Q = np.array([[1, 0, 0, 0, 1],\n",
    "     [0, 1, 0, 0, 1],\n",
    "     [0, 0, 1, 0, 1],\n",
    "     [0, 0, 0, 1, 1]])\n",
    "distances2U(Q)"
   ]
  },
  {
   "cell_type": "code",
   "execution_count": 4,
   "metadata": {
    "scrolled": true
   },
   "outputs": [
    {
     "data": {
      "text/plain": [
       "[2, 2, 2]"
      ]
     },
     "execution_count": 4,
     "metadata": {},
     "output_type": "execute_result"
    }
   ],
   "source": [
    "Q = np.array([[1, 0, 0, 1],\n",
    "     [0, 1, 0, 1],\n",
    "     [0, 0, 1, 1]])\n",
    "distances2U(Q)"
   ]
  },
  {
   "cell_type": "code",
   "execution_count": 165,
   "metadata": {
    "scrolled": true
   },
   "outputs": [
    {
     "data": {
      "text/plain": [
       "array([[1, 0, 0, 1],\n",
       "       [0, 1, 0, 1],\n",
       "       [0, 0, 1, 1]])"
      ]
     },
     "execution_count": 165,
     "metadata": {},
     "output_type": "execute_result"
    }
   ],
   "source": [
    "Q"
   ]
  },
  {
   "cell_type": "code",
   "execution_count": 5,
   "metadata": {},
   "outputs": [],
   "source": [
    "Q = np.array([[1, 0, 0, 1],\n",
    "       [0, 1, 0, 1],\n",
    "       [0, 0, 1, 1]])"
   ]
  },
  {
   "cell_type": "code",
   "execution_count": 487,
   "metadata": {},
   "outputs": [],
   "source": [
    "def local_identifiability(Q, kappa, uniout=False, check_level=1):\n",
    "    # Check if Q is valid\n",
    "    if not isinstance(Q, np.ndarray) or not np.all((Q == 0) | (Q == 1)):\n",
    "        raise Exception(\"Q must be a binary matrix.\")\n",
    "    \n",
    "    result, message, Q_bar = check_necessary(Q)\n",
    "\n",
    "    \n",
    "    if not result:\n",
    "        print(message)\n",
    "        return Q_bar\n",
    "    \n",
    "    # Get the number of rows (J) and columns (K) of Q\n",
    "    J, K = Q.shape\n",
    "    \n",
    "    # Find out which rows are irreplaceable (having exactly one 1 or all 1)\n",
    "    irreplaceable_rows = np.where(np.sum(Q, axis=1) == 1)[0]\n",
    "    \n",
    "    # Find out which rows are replaceable\n",
    "    replaceable_rows = set(range(J)) - set(irreplaceable_rows)\n",
    "    \n",
    "    if kappa > len(replaceable_rows):\n",
    "        print(\"Q is kappa-locally identifiable because you can't replace kappa many of the rows.\")\n",
    "        return True\n",
    "    \n",
    "    # Calculate the distance to the universal set (d(Q[j,])) for each replaceable row\n",
    "    distances = distances2U(Q)\n",
    "    \n",
    "    # Prepare the list to hold all possible Q_bar matrices\n",
    "    Q_bars = []\n",
    "    \n",
    "    # Iterate through all possible replacements of exactly kappa rows\n",
    "    for replacement_indices in combinations(replaceable_rows, kappa):\n",
    "        subQ_bars = []\n",
    "        for i in range(kappa):\n",
    "            index = replacement_indices[i]\n",
    "            # Generate all possible replacements for the current set of rows,\n",
    "            # binary vectors with at most K - distances[index] ones\n",
    "            q_bars = []\n",
    "            for p in range(1, K - distances[index] + 1):\n",
    "                q_bars.extend(generate_binary_vectors(K, p))\n",
    "\n",
    "            # Filter out the original row from q_bars\n",
    "            q_bars = [q_bar for q_bar in q_bars if not np.array_equal(q_bar, Q[index])]\n",
    "\n",
    "            # Filter out the rows that do not preserve the partial order\n",
    "            Q_temp = Q.copy()\n",
    "            valid_q_bars = []  # We will store the valid q_bars here\n",
    "\n",
    "            # Iterate over all q_bars\n",
    "            for q_bar in q_bars:\n",
    "                Q_temp[index, :] = q_bar  # Replace the row in Q_temp\n",
    "                \n",
    "                fixed_rows = (set(replaceable_rows) - set(replacement_indices)) | set(irreplaceable_rows)\n",
    "                # Check if the order is preserved after replacement\n",
    "                if preserve_partial_order(Q, Q_temp, fixed_rows, [index]):\n",
    "                    valid_q_bars.append(q_bar)  # If the order is preserved, keep this q_bar\n",
    "\n",
    "            q_bars = valid_q_bars  # Replace the original q_bars with the valid ones\n",
    "\n",
    "            subQ_bars.append(q_bars)\n",
    "\n",
    "        # Generate Cartesian product of subQ_bars\n",
    "        subQ_bars = list(product(*subQ_bars))\n",
    "\n",
    "        # After obtaining subQ_bars from the cartesian product\n",
    "        for subQ_bar_replacements in subQ_bars:\n",
    "            Q_bar = Q.copy()\n",
    "            Q_bar[replacement_indices, :] = np.array(subQ_bar_replacements)  # Replace the rows in Q with subQ_bar_replacements\n",
    "\n",
    "            # Check for preservation of partial order exactly among the rows specified by replacement_indices\n",
    "            if preserve_partial_order(Q, Q_bar, replacement_indices, replacement_indices):\n",
    "                Q_bars.append(Q_bar)  # If the partial order is preserved, add this Q_bar to the list\n",
    "\n",
    "    # Now, Q_bars is a list of all possible Q_bar matrices that satisfy the conditions\n",
    "    \n",
    "    # Generate all permutations of Q\n",
    "    Q_perms = generate_permutations(Q)\n",
    "\n",
    "    \n",
    "    # Filter out Q_bars that match a permutation of Q\n",
    "    Q_bars = [Q_bar for Q_bar in Q_bars if not any(np.array_equal(Q_perm, Q_bar) for Q_perm in Q_perms)]\n",
    " \n",
    "    if uniout:\n",
    "        Q_bars_uniq = []\n",
    "        seen = set()\n",
    "\n",
    "        for Q_bar in Q_bars:\n",
    "            # Generate all unique column permutations for each Q_bar\n",
    "            perms_indices = list(itertools.permutations(range(Q_bar.shape[1])))\n",
    "\n",
    "            # Rearrange columns according to the permutations, then convert to bytes\n",
    "            perms_bytes = [Q_bar[:, p].tobytes() for p in perms_indices]\n",
    "\n",
    "            # Check if the permutation has been seen before\n",
    "            found = False\n",
    "            for perm in perms_bytes:\n",
    "                if perm in seen:\n",
    "                    found = True\n",
    "                    break\n",
    "                seen.add(perm)\n",
    "            if not found:\n",
    "                Q_bars_uniq.append(Q_bar)\n",
    "\n",
    "        Q_bars = Q_bars_uniq\n",
    "\n",
    "    \n",
    "    # Check if Q_bars is empty\n",
    "    if not Q_bars:\n",
    "        return f\"Q is {kappa}-locally identifiable.\"\n",
    "    \n",
    "    if check_level == 1:\n",
    "        return Q_bars\n",
    "    \n",
    "    if check_level > 1:\n",
    "        if check_level >= J:\n",
    "            warnings.warn(\"Check level is larger than J.\")\n",
    "        filtered_Q_bars = []\n",
    "        for Q_bar in Q_bars:\n",
    "            preserve_order = True\n",
    "            for l in range(2, check_level + 1):\n",
    "                D_l_Q = get_D_l(Q, l)\n",
    "                D_l_Q_bar = get_D_l(Q_bar, l)\n",
    "\n",
    "                JJ = D_l_Q.shape[0]\n",
    "                if not preserve_partial_order(D_l_Q, D_l_Q_bar, range(JJ), range(JJ)):\n",
    "                    preserve_order = False\n",
    "                    break\n",
    "            if preserve_order:\n",
    "                filtered_Q_bars.append(Q_bar)\n",
    "                \n",
    "    return filtered_Q_bars\n"
   ]
  },
  {
   "cell_type": "code",
   "execution_count": 476,
   "metadata": {
    "scrolled": true
   },
   "outputs": [
    {
     "name": "stdout",
     "output_type": "stream",
     "text": [
      "Q is not identifiable. Q contains a zero column.\n"
     ]
    },
    {
     "data": {
      "text/plain": [
       "array([[1, 1, 0],\n",
       "       [0, 1, 1],\n",
       "       [1, 1, 1]])"
      ]
     },
     "execution_count": 476,
     "metadata": {},
     "output_type": "execute_result"
    }
   ],
   "source": [
    "Q1 = np.array([[1, 0, 0], [0, 0, 1], [1, 0, 1]])\n",
    "result, message, Q_bar = check_necessary(Q1)\n",
    "local_identifiability(Q1, 3, uniout=True)"
   ]
  },
  {
   "cell_type": "code",
   "execution_count": 488,
   "metadata": {
    "scrolled": false
   },
   "outputs": [
    {
     "data": {
      "text/plain": [
       "[array([[1, 0, 0],\n",
       "        [0, 1, 0],\n",
       "        [0, 0, 1]])]"
      ]
     },
     "execution_count": 488,
     "metadata": {},
     "output_type": "execute_result"
    }
   ],
   "source": [
    "Q4 = np.array([[1, 1, 0], [0, 1, 1], [1, 0, 1]])\n",
    "local_identifiability(Q4, 3, uniout=True, check_level = 1)"
   ]
  },
  {
   "cell_type": "code",
   "execution_count": 477,
   "metadata": {
    "scrolled": false
   },
   "outputs": [
    {
     "name": "stdout",
     "output_type": "stream",
     "text": [
      "Q is kappa-locally identifiable because you can't replace kappa many of the rows.\n",
      "True\n"
     ]
    }
   ],
   "source": [
    "Q1 = np.array([[1, 0, 0], [0, 1, 0], [0, 0, 1]])\n",
    "print(local_identifiability(Q1, 1))"
   ]
  },
  {
   "cell_type": "code",
   "execution_count": 465,
   "metadata": {
    "scrolled": true
   },
   "outputs": [
    {
     "data": {
      "text/plain": [
       "'Q is 2-locally identifiable.'"
      ]
     },
     "execution_count": 465,
     "metadata": {},
     "output_type": "execute_result"
    }
   ],
   "source": [
    "Q2 = np.array([[1, 1, 0], [1, 0, 1], [0, 1, 1]])\n",
    "local_identifiability(Q2, 2)"
   ]
  },
  {
   "cell_type": "code",
   "execution_count": 23,
   "metadata": {
    "scrolled": true
   },
   "outputs": [
    {
     "data": {
      "text/plain": [
       "array([[1, 1, 0],\n",
       "       [1, 0, 1],\n",
       "       [0, 1, 1]])"
      ]
     },
     "execution_count": 23,
     "metadata": {},
     "output_type": "execute_result"
    }
   ],
   "source": [
    "Q2"
   ]
  },
  {
   "cell_type": "code",
   "execution_count": 330,
   "metadata": {},
   "outputs": [
    {
     "name": "stdout",
     "output_type": "stream",
     "text": [
      "[1, 1, 1]\n"
     ]
    }
   ],
   "source": [
    "Q3 = np.array([[1, 0, 0], [0, 1, 0], [0, 0, 1], [1, 1, 1]])\n",
    "print(distances2U(Q2))  # Expected output: [1, 1, 1, 1]"
   ]
  },
  {
   "cell_type": "code",
   "execution_count": 331,
   "metadata": {
    "scrolled": true
   },
   "outputs": [
    {
     "name": "stdout",
     "output_type": "stream",
     "text": [
      "[2, 2, 2]\n"
     ]
    }
   ],
   "source": [
    "Q1 = np.array([[1, 0, 0], [0, 1, 0], [0, 0, 1]])\n",
    "print(distances2U(Q1))  # Expected output: [2, 2, 2]\n"
   ]
  },
  {
   "cell_type": "code",
   "execution_count": 332,
   "metadata": {
    "scrolled": true
   },
   "outputs": [
    {
     "data": {
      "text/plain": [
       "array([[1, 1, 0, 0, 0],\n",
       "       [1, 0, 1, 0, 0],\n",
       "       [1, 0, 0, 1, 0],\n",
       "       [1, 0, 0, 0, 1],\n",
       "       [0, 1, 1, 0, 0],\n",
       "       [0, 1, 0, 1, 0],\n",
       "       [0, 1, 0, 0, 1],\n",
       "       [0, 0, 1, 1, 0],\n",
       "       [0, 0, 1, 0, 1],\n",
       "       [0, 0, 0, 1, 1]])"
      ]
     },
     "execution_count": 332,
     "metadata": {},
     "output_type": "execute_result"
    }
   ],
   "source": [
    "Q52 = np.array(generate_binary_vectors(5,2))\n",
    "Q52"
   ]
  },
  {
   "cell_type": "code",
   "execution_count": null,
   "metadata": {
    "scrolled": true
   },
   "outputs": [],
   "source": []
  },
  {
   "cell_type": "code",
   "execution_count": 490,
   "metadata": {},
   "outputs": [
    {
     "name": "stdout",
     "output_type": "stream",
     "text": [
      "Q is kappa-locally identifiable because you can't replace kappa many of the rows.\n"
     ]
    },
    {
     "data": {
      "text/plain": [
       "True"
      ]
     },
     "execution_count": 490,
     "metadata": {},
     "output_type": "execute_result"
    }
   ],
   "source": [
    "local_identifiability(np.eye(4), 4)"
   ]
  },
  {
   "cell_type": "code",
   "execution_count": 493,
   "metadata": {
    "scrolled": true
   },
   "outputs": [
    {
     "data": {
      "text/plain": [
       "('Q is 1-locally identifiable.', 'Q is 2-locally identifiable.')"
      ]
     },
     "execution_count": 493,
     "metadata": {},
     "output_type": "execute_result"
    }
   ],
   "source": [
    "def prop_check(K):\n",
    "    I_K = np.array(generate_binary_vectors(K, 1))\n",
    "    Q = I_K.copy()\n",
    "    Q[K-1, :] = I_K[K-1, :] + I_K[K-2, :]\n",
    "    Q = np.concatenate((Q, I_K[K-1, :][None, :] + I_K[K-3, :][None, :]), axis=0)\n",
    "    return local_identifiability(Q, 1), local_identifiability(Q, 2)\n"
   ]
  },
  {
   "cell_type": "code",
   "execution_count": null,
   "metadata": {},
   "outputs": [],
   "source": [
    "prop_check(9)"
   ]
  },
  {
   "cell_type": "code",
   "execution_count": 279,
   "metadata": {},
   "outputs": [],
   "source": [
    "def generate_Q(J, K):\n",
    "    # Generate all possible binary sequences of length K\n",
    "    all_sequences = list(itertools.product([0, 1], repeat=K))\n",
    "\n",
    "    # Remove the sequence of all zeros if it's present\n",
    "    all_sequences = [seq for seq in all_sequences if any(seq)]\n",
    "\n",
    "    # Randomly select J unique sequences\n",
    "    selected_sequences = random.sample(all_sequences, J)\n",
    "\n",
    "    # Convert the selected sequences into a NumPy array\n",
    "    Q = np.array(selected_sequences)\n",
    "\n",
    "    return Q"
   ]
  },
  {
   "cell_type": "code",
   "execution_count": 499,
   "metadata": {},
   "outputs": [],
   "source": [
    "J = 12\n",
    "K = 7"
   ]
  },
  {
   "cell_type": "code",
   "execution_count": 400,
   "metadata": {},
   "outputs": [],
   "source": [
    "def compare_height_functions(J, K):\n",
    "    Q = generate_Q(J, K)\n",
    "\n",
    "    start_time = time.time()\n",
    "    height1 = height_of_Q(Q)\n",
    "    end_time = time.time()\n",
    "    runtime1 = end_time - start_time\n",
    "\n",
    "    start_time = time.time()\n",
    "    height2 = height_v2(Q)\n",
    "    end_time = time.time()\n",
    "    runtime2 = end_time - start_time\n",
    "\n",
    "    return height1 == height2, runtime1 - runtime2"
   ]
  },
  {
   "cell_type": "code",
   "execution_count": 500,
   "metadata": {
    "scrolled": true
   },
   "outputs": [
    {
     "data": {
      "text/plain": [
       "array([[1, 0, 1, 1, 1, 1, 1],\n",
       "       [0, 0, 1, 0, 1, 0, 1],\n",
       "       [1, 1, 1, 1, 1, 1, 0],\n",
       "       [0, 0, 1, 0, 1, 0, 0],\n",
       "       [1, 1, 0, 1, 1, 1, 1],\n",
       "       [0, 0, 0, 1, 0, 1, 1],\n",
       "       [1, 0, 1, 0, 1, 1, 1],\n",
       "       [1, 1, 1, 0, 1, 1, 0],\n",
       "       [0, 0, 1, 0, 0, 1, 0],\n",
       "       [0, 1, 1, 0, 0, 1, 0],\n",
       "       [0, 0, 0, 0, 1, 0, 0],\n",
       "       [1, 1, 1, 0, 0, 1, 0]])"
      ]
     },
     "execution_count": 500,
     "metadata": {},
     "output_type": "execute_result"
    }
   ],
   "source": [
    "QQ1 = generate_Q(J, K)\n",
    "QQ1"
   ]
  },
  {
   "cell_type": "code",
   "execution_count": 502,
   "metadata": {},
   "outputs": [
    {
     "data": {
      "text/plain": [
       "[array([[1, 0, 1, 1, 1, 0, 1],\n",
       "        [0, 0, 1, 0, 1, 0, 1],\n",
       "        [1, 1, 1, 1, 1, 1, 0],\n",
       "        [0, 0, 1, 0, 1, 0, 0],\n",
       "        [1, 1, 0, 1, 1, 1, 1],\n",
       "        [0, 0, 0, 1, 0, 1, 1],\n",
       "        [1, 0, 1, 0, 1, 1, 1],\n",
       "        [1, 1, 1, 0, 1, 1, 0],\n",
       "        [0, 0, 1, 0, 0, 1, 0],\n",
       "        [0, 1, 1, 0, 0, 1, 0],\n",
       "        [0, 0, 0, 0, 1, 0, 0],\n",
       "        [1, 1, 1, 0, 0, 1, 0]]),\n",
       " array([[1, 0, 1, 1, 1, 1, 1],\n",
       "        [0, 0, 1, 0, 1, 0, 1],\n",
       "        [0, 1, 1, 1, 1, 0, 0],\n",
       "        [0, 0, 1, 0, 1, 0, 0],\n",
       "        [1, 1, 0, 1, 1, 1, 1],\n",
       "        [0, 0, 0, 1, 0, 1, 1],\n",
       "        [1, 0, 1, 0, 1, 1, 1],\n",
       "        [1, 1, 1, 0, 1, 1, 0],\n",
       "        [0, 0, 1, 0, 0, 1, 0],\n",
       "        [0, 1, 1, 0, 0, 1, 0],\n",
       "        [0, 0, 0, 0, 1, 0, 0],\n",
       "        [1, 1, 1, 0, 0, 1, 0]]),\n",
       " array([[1, 0, 1, 1, 1, 1, 1],\n",
       "        [0, 0, 1, 0, 1, 0, 1],\n",
       "        [1, 1, 1, 1, 1, 0, 0],\n",
       "        [0, 0, 1, 0, 1, 0, 0],\n",
       "        [1, 1, 0, 1, 1, 1, 1],\n",
       "        [0, 0, 0, 1, 0, 1, 1],\n",
       "        [1, 0, 1, 0, 1, 1, 1],\n",
       "        [1, 1, 1, 0, 1, 1, 0],\n",
       "        [0, 0, 1, 0, 0, 1, 0],\n",
       "        [0, 1, 1, 0, 0, 1, 0],\n",
       "        [0, 0, 0, 0, 1, 0, 0],\n",
       "        [1, 1, 1, 0, 0, 1, 0]]),\n",
       " array([[1, 0, 1, 1, 1, 1, 1],\n",
       "        [0, 0, 1, 0, 1, 0, 1],\n",
       "        [0, 1, 1, 1, 1, 1, 0],\n",
       "        [0, 0, 1, 0, 1, 0, 0],\n",
       "        [1, 1, 0, 1, 1, 1, 1],\n",
       "        [0, 0, 0, 1, 0, 1, 1],\n",
       "        [1, 0, 1, 0, 1, 1, 1],\n",
       "        [1, 1, 1, 0, 1, 1, 0],\n",
       "        [0, 0, 1, 0, 0, 1, 0],\n",
       "        [0, 1, 1, 0, 0, 1, 0],\n",
       "        [0, 0, 0, 0, 1, 0, 0],\n",
       "        [1, 1, 1, 0, 0, 1, 0]]),\n",
       " array([[1, 0, 1, 1, 1, 1, 1],\n",
       "        [0, 0, 1, 0, 1, 0, 1],\n",
       "        [1, 1, 1, 1, 1, 1, 0],\n",
       "        [0, 0, 1, 0, 1, 0, 0],\n",
       "        [0, 1, 0, 1, 1, 0, 1],\n",
       "        [0, 0, 0, 1, 0, 1, 1],\n",
       "        [1, 0, 1, 0, 1, 1, 1],\n",
       "        [1, 1, 1, 0, 1, 1, 0],\n",
       "        [0, 0, 1, 0, 0, 1, 0],\n",
       "        [0, 1, 1, 0, 0, 1, 0],\n",
       "        [0, 0, 0, 0, 1, 0, 0],\n",
       "        [1, 1, 1, 0, 0, 1, 0]]),\n",
       " array([[1, 0, 1, 1, 1, 1, 1],\n",
       "        [0, 0, 1, 0, 1, 0, 1],\n",
       "        [1, 1, 1, 1, 1, 1, 0],\n",
       "        [0, 0, 1, 0, 1, 0, 0],\n",
       "        [1, 1, 0, 1, 1, 0, 1],\n",
       "        [0, 0, 0, 1, 0, 1, 1],\n",
       "        [1, 0, 1, 0, 1, 1, 1],\n",
       "        [1, 1, 1, 0, 1, 1, 0],\n",
       "        [0, 0, 1, 0, 0, 1, 0],\n",
       "        [0, 1, 1, 0, 0, 1, 0],\n",
       "        [0, 0, 0, 0, 1, 0, 0],\n",
       "        [1, 1, 1, 0, 0, 1, 0]]),\n",
       " array([[1, 0, 1, 1, 1, 1, 1],\n",
       "        [0, 0, 1, 0, 1, 0, 1],\n",
       "        [1, 1, 1, 1, 1, 1, 0],\n",
       "        [0, 0, 1, 0, 1, 0, 0],\n",
       "        [0, 1, 0, 1, 1, 1, 1],\n",
       "        [0, 0, 0, 1, 0, 1, 1],\n",
       "        [1, 0, 1, 0, 1, 1, 1],\n",
       "        [1, 1, 1, 0, 1, 1, 0],\n",
       "        [0, 0, 1, 0, 0, 1, 0],\n",
       "        [0, 1, 1, 0, 0, 1, 0],\n",
       "        [0, 0, 0, 0, 1, 0, 0],\n",
       "        [1, 1, 1, 0, 0, 1, 0]]),\n",
       " array([[1, 0, 1, 1, 1, 1, 1],\n",
       "        [0, 0, 1, 0, 1, 0, 1],\n",
       "        [1, 1, 1, 1, 1, 1, 0],\n",
       "        [0, 0, 1, 0, 1, 0, 0],\n",
       "        [1, 1, 0, 1, 1, 1, 1],\n",
       "        [0, 0, 0, 1, 0, 0, 1],\n",
       "        [1, 0, 1, 0, 1, 1, 1],\n",
       "        [1, 1, 1, 0, 1, 1, 0],\n",
       "        [0, 0, 1, 0, 0, 1, 0],\n",
       "        [0, 1, 1, 0, 0, 1, 0],\n",
       "        [0, 0, 0, 0, 1, 0, 0],\n",
       "        [1, 1, 1, 0, 0, 1, 0]]),\n",
       " array([[1, 0, 1, 1, 1, 1, 1],\n",
       "        [0, 0, 1, 0, 1, 0, 1],\n",
       "        [1, 1, 1, 1, 1, 1, 0],\n",
       "        [0, 0, 1, 0, 1, 0, 0],\n",
       "        [1, 1, 0, 1, 1, 1, 1],\n",
       "        [0, 0, 0, 1, 0, 1, 1],\n",
       "        [1, 0, 1, 0, 1, 0, 1],\n",
       "        [1, 1, 1, 0, 1, 1, 0],\n",
       "        [0, 0, 1, 0, 0, 1, 0],\n",
       "        [0, 1, 1, 0, 0, 1, 0],\n",
       "        [0, 0, 0, 0, 1, 0, 0],\n",
       "        [1, 1, 1, 0, 0, 1, 0]]),\n",
       " array([[1, 0, 1, 1, 1, 1, 1],\n",
       "        [0, 0, 1, 0, 1, 0, 1],\n",
       "        [1, 1, 1, 1, 1, 1, 0],\n",
       "        [0, 0, 1, 0, 1, 0, 0],\n",
       "        [1, 1, 0, 1, 1, 1, 1],\n",
       "        [0, 0, 0, 1, 0, 1, 1],\n",
       "        [1, 0, 1, 0, 1, 1, 1],\n",
       "        [1, 1, 1, 0, 1, 0, 0],\n",
       "        [0, 0, 1, 0, 0, 1, 0],\n",
       "        [0, 1, 1, 0, 0, 1, 0],\n",
       "        [0, 0, 0, 0, 1, 0, 0],\n",
       "        [1, 1, 1, 0, 0, 1, 0]]),\n",
       " array([[1, 0, 1, 1, 1, 1, 1],\n",
       "        [0, 0, 1, 0, 1, 0, 1],\n",
       "        [1, 1, 1, 1, 1, 1, 0],\n",
       "        [0, 0, 1, 0, 1, 0, 0],\n",
       "        [1, 1, 0, 1, 1, 1, 1],\n",
       "        [0, 0, 0, 1, 0, 1, 1],\n",
       "        [1, 0, 1, 0, 1, 1, 1],\n",
       "        [1, 1, 1, 0, 1, 1, 0],\n",
       "        [0, 0, 1, 0, 0, 1, 0],\n",
       "        [0, 1, 1, 0, 0, 1, 0],\n",
       "        [0, 0, 0, 0, 1, 0, 0],\n",
       "        [1, 1, 1, 0, 0, 0, 0]])]"
      ]
     },
     "execution_count": 502,
     "metadata": {},
     "output_type": "execute_result"
    }
   ],
   "source": [
    "local_identifiability(QQ1, 1, check_level = 2)"
   ]
  },
  {
   "cell_type": "code",
   "execution_count": 503,
   "metadata": {
    "scrolled": true
   },
   "outputs": [
    {
     "data": {
      "text/plain": [
       "[array([[1, 0, 1, 1, 1, 0, 1],\n",
       "        [0, 0, 1, 0, 1, 0, 1],\n",
       "        [1, 1, 1, 1, 1, 1, 0],\n",
       "        [0, 0, 1, 0, 1, 0, 0],\n",
       "        [1, 1, 0, 1, 1, 1, 1],\n",
       "        [0, 0, 0, 1, 0, 1, 1],\n",
       "        [1, 0, 1, 0, 1, 1, 1],\n",
       "        [1, 1, 1, 0, 1, 1, 0],\n",
       "        [0, 0, 1, 0, 0, 1, 0],\n",
       "        [0, 1, 1, 0, 0, 1, 0],\n",
       "        [0, 0, 0, 0, 1, 0, 0],\n",
       "        [1, 1, 1, 0, 0, 1, 0]]),\n",
       " array([[1, 0, 1, 1, 1, 1, 1],\n",
       "        [0, 0, 1, 0, 1, 0, 1],\n",
       "        [1, 1, 1, 1, 1, 0, 0],\n",
       "        [0, 0, 1, 0, 1, 0, 0],\n",
       "        [1, 1, 0, 1, 1, 1, 1],\n",
       "        [0, 0, 0, 1, 0, 1, 1],\n",
       "        [1, 0, 1, 0, 1, 1, 1],\n",
       "        [1, 1, 1, 0, 1, 1, 0],\n",
       "        [0, 0, 1, 0, 0, 1, 0],\n",
       "        [0, 1, 1, 0, 0, 1, 0],\n",
       "        [0, 0, 0, 0, 1, 0, 0],\n",
       "        [1, 1, 1, 0, 0, 1, 0]]),\n",
       " array([[1, 0, 1, 1, 1, 1, 1],\n",
       "        [0, 0, 1, 0, 1, 0, 1],\n",
       "        [1, 1, 1, 1, 1, 1, 0],\n",
       "        [0, 0, 1, 0, 1, 0, 0],\n",
       "        [1, 1, 0, 1, 1, 0, 1],\n",
       "        [0, 0, 0, 1, 0, 1, 1],\n",
       "        [1, 0, 1, 0, 1, 1, 1],\n",
       "        [1, 1, 1, 0, 1, 1, 0],\n",
       "        [0, 0, 1, 0, 0, 1, 0],\n",
       "        [0, 1, 1, 0, 0, 1, 0],\n",
       "        [0, 0, 0, 0, 1, 0, 0],\n",
       "        [1, 1, 1, 0, 0, 1, 0]]),\n",
       " array([[1, 0, 1, 1, 1, 1, 1],\n",
       "        [0, 0, 1, 0, 1, 0, 1],\n",
       "        [1, 1, 1, 1, 1, 1, 0],\n",
       "        [0, 0, 1, 0, 1, 0, 0],\n",
       "        [1, 1, 0, 1, 1, 1, 1],\n",
       "        [0, 0, 0, 1, 0, 0, 1],\n",
       "        [1, 0, 1, 0, 1, 1, 1],\n",
       "        [1, 1, 1, 0, 1, 1, 0],\n",
       "        [0, 0, 1, 0, 0, 1, 0],\n",
       "        [0, 1, 1, 0, 0, 1, 0],\n",
       "        [0, 0, 0, 0, 1, 0, 0],\n",
       "        [1, 1, 1, 0, 0, 1, 0]]),\n",
       " array([[1, 0, 1, 1, 1, 1, 1],\n",
       "        [0, 0, 1, 0, 1, 0, 1],\n",
       "        [1, 1, 1, 1, 1, 1, 0],\n",
       "        [0, 0, 1, 0, 1, 0, 0],\n",
       "        [1, 1, 0, 1, 1, 1, 1],\n",
       "        [0, 0, 0, 1, 0, 1, 1],\n",
       "        [1, 0, 1, 0, 1, 0, 1],\n",
       "        [1, 1, 1, 0, 1, 1, 0],\n",
       "        [0, 0, 1, 0, 0, 1, 0],\n",
       "        [0, 1, 1, 0, 0, 1, 0],\n",
       "        [0, 0, 0, 0, 1, 0, 0],\n",
       "        [1, 1, 1, 0, 0, 1, 0]]),\n",
       " array([[1, 0, 1, 1, 1, 1, 1],\n",
       "        [0, 0, 1, 0, 1, 0, 1],\n",
       "        [1, 1, 1, 1, 1, 1, 0],\n",
       "        [0, 0, 1, 0, 1, 0, 0],\n",
       "        [1, 1, 0, 1, 1, 1, 1],\n",
       "        [0, 0, 0, 1, 0, 1, 1],\n",
       "        [1, 0, 1, 0, 1, 1, 1],\n",
       "        [1, 1, 1, 0, 1, 0, 0],\n",
       "        [0, 0, 1, 0, 0, 1, 0],\n",
       "        [0, 1, 1, 0, 0, 1, 0],\n",
       "        [0, 0, 0, 0, 1, 0, 0],\n",
       "        [1, 1, 1, 0, 0, 1, 0]]),\n",
       " array([[1, 0, 1, 1, 1, 1, 1],\n",
       "        [0, 0, 1, 0, 1, 0, 1],\n",
       "        [1, 1, 1, 1, 1, 1, 0],\n",
       "        [0, 0, 1, 0, 1, 0, 0],\n",
       "        [1, 1, 0, 1, 1, 1, 1],\n",
       "        [0, 0, 0, 1, 0, 1, 1],\n",
       "        [1, 0, 1, 0, 1, 1, 1],\n",
       "        [1, 1, 1, 0, 1, 1, 0],\n",
       "        [0, 0, 1, 0, 0, 1, 0],\n",
       "        [0, 1, 1, 0, 0, 1, 0],\n",
       "        [0, 0, 0, 0, 1, 0, 0],\n",
       "        [1, 1, 1, 0, 0, 0, 0]])]"
      ]
     },
     "execution_count": 503,
     "metadata": {},
     "output_type": "execute_result"
    }
   ],
   "source": [
    "local_identifiability(QQ1, 1, check_level = 3)"
   ]
  },
  {
   "cell_type": "code",
   "execution_count": 504,
   "metadata": {},
   "outputs": [
    {
     "data": {
      "text/plain": [
       "[array([[1, 0, 1, 1, 1, 0, 1],\n",
       "        [0, 0, 1, 0, 1, 0, 1],\n",
       "        [1, 1, 1, 1, 1, 1, 0],\n",
       "        [0, 0, 1, 0, 1, 0, 0],\n",
       "        [1, 1, 0, 1, 1, 1, 1],\n",
       "        [0, 0, 0, 1, 0, 1, 1],\n",
       "        [1, 0, 1, 0, 1, 1, 1],\n",
       "        [1, 1, 1, 0, 1, 1, 0],\n",
       "        [0, 0, 1, 0, 0, 1, 0],\n",
       "        [0, 1, 1, 0, 0, 1, 0],\n",
       "        [0, 0, 0, 0, 1, 0, 0],\n",
       "        [1, 1, 1, 0, 0, 1, 0]]),\n",
       " array([[1, 0, 1, 1, 1, 1, 1],\n",
       "        [0, 0, 1, 0, 1, 0, 1],\n",
       "        [1, 1, 1, 1, 1, 0, 0],\n",
       "        [0, 0, 1, 0, 1, 0, 0],\n",
       "        [1, 1, 0, 1, 1, 1, 1],\n",
       "        [0, 0, 0, 1, 0, 1, 1],\n",
       "        [1, 0, 1, 0, 1, 1, 1],\n",
       "        [1, 1, 1, 0, 1, 1, 0],\n",
       "        [0, 0, 1, 0, 0, 1, 0],\n",
       "        [0, 1, 1, 0, 0, 1, 0],\n",
       "        [0, 0, 0, 0, 1, 0, 0],\n",
       "        [1, 1, 1, 0, 0, 1, 0]]),\n",
       " array([[1, 0, 1, 1, 1, 1, 1],\n",
       "        [0, 0, 1, 0, 1, 0, 1],\n",
       "        [1, 1, 1, 1, 1, 1, 0],\n",
       "        [0, 0, 1, 0, 1, 0, 0],\n",
       "        [1, 1, 0, 1, 1, 0, 1],\n",
       "        [0, 0, 0, 1, 0, 1, 1],\n",
       "        [1, 0, 1, 0, 1, 1, 1],\n",
       "        [1, 1, 1, 0, 1, 1, 0],\n",
       "        [0, 0, 1, 0, 0, 1, 0],\n",
       "        [0, 1, 1, 0, 0, 1, 0],\n",
       "        [0, 0, 0, 0, 1, 0, 0],\n",
       "        [1, 1, 1, 0, 0, 1, 0]]),\n",
       " array([[1, 0, 1, 1, 1, 1, 1],\n",
       "        [0, 0, 1, 0, 1, 0, 1],\n",
       "        [1, 1, 1, 1, 1, 1, 0],\n",
       "        [0, 0, 1, 0, 1, 0, 0],\n",
       "        [1, 1, 0, 1, 1, 1, 1],\n",
       "        [0, 0, 0, 1, 0, 0, 1],\n",
       "        [1, 0, 1, 0, 1, 1, 1],\n",
       "        [1, 1, 1, 0, 1, 1, 0],\n",
       "        [0, 0, 1, 0, 0, 1, 0],\n",
       "        [0, 1, 1, 0, 0, 1, 0],\n",
       "        [0, 0, 0, 0, 1, 0, 0],\n",
       "        [1, 1, 1, 0, 0, 1, 0]]),\n",
       " array([[1, 0, 1, 1, 1, 1, 1],\n",
       "        [0, 0, 1, 0, 1, 0, 1],\n",
       "        [1, 1, 1, 1, 1, 1, 0],\n",
       "        [0, 0, 1, 0, 1, 0, 0],\n",
       "        [1, 1, 0, 1, 1, 1, 1],\n",
       "        [0, 0, 0, 1, 0, 1, 1],\n",
       "        [1, 0, 1, 0, 1, 0, 1],\n",
       "        [1, 1, 1, 0, 1, 1, 0],\n",
       "        [0, 0, 1, 0, 0, 1, 0],\n",
       "        [0, 1, 1, 0, 0, 1, 0],\n",
       "        [0, 0, 0, 0, 1, 0, 0],\n",
       "        [1, 1, 1, 0, 0, 1, 0]]),\n",
       " array([[1, 0, 1, 1, 1, 1, 1],\n",
       "        [0, 0, 1, 0, 1, 0, 1],\n",
       "        [1, 1, 1, 1, 1, 1, 0],\n",
       "        [0, 0, 1, 0, 1, 0, 0],\n",
       "        [1, 1, 0, 1, 1, 1, 1],\n",
       "        [0, 0, 0, 1, 0, 1, 1],\n",
       "        [1, 0, 1, 0, 1, 1, 1],\n",
       "        [1, 1, 1, 0, 1, 0, 0],\n",
       "        [0, 0, 1, 0, 0, 1, 0],\n",
       "        [0, 1, 1, 0, 0, 1, 0],\n",
       "        [0, 0, 0, 0, 1, 0, 0],\n",
       "        [1, 1, 1, 0, 0, 1, 0]]),\n",
       " array([[1, 0, 1, 1, 1, 1, 1],\n",
       "        [0, 0, 1, 0, 1, 0, 1],\n",
       "        [1, 1, 1, 1, 1, 1, 0],\n",
       "        [0, 0, 1, 0, 1, 0, 0],\n",
       "        [1, 1, 0, 1, 1, 1, 1],\n",
       "        [0, 0, 0, 1, 0, 1, 1],\n",
       "        [1, 0, 1, 0, 1, 1, 1],\n",
       "        [1, 1, 1, 0, 1, 1, 0],\n",
       "        [0, 0, 1, 0, 0, 1, 0],\n",
       "        [0, 1, 1, 0, 0, 1, 0],\n",
       "        [0, 0, 0, 0, 1, 0, 0],\n",
       "        [1, 1, 1, 0, 0, 0, 0]])]"
      ]
     },
     "execution_count": 504,
     "metadata": {},
     "output_type": "execute_result"
    }
   ],
   "source": [
    "local_identifiability(QQ1, 1, check_level = 4)"
   ]
  },
  {
   "cell_type": "code",
   "execution_count": 157,
   "metadata": {
    "scrolled": false
   },
   "outputs": [
    {
     "data": {
      "text/plain": [
       "array([[1, 1, 0, 0, 0],\n",
       "       [1, 0, 1, 0, 0],\n",
       "       [1, 0, 0, 1, 0],\n",
       "       [1, 0, 0, 0, 1],\n",
       "       [0, 1, 1, 0, 0],\n",
       "       [0, 1, 0, 1, 0],\n",
       "       [0, 1, 0, 0, 1],\n",
       "       [0, 0, 1, 1, 0],\n",
       "       [0, 0, 1, 0, 1],\n",
       "       [0, 0, 0, 1, 1]])"
      ]
     },
     "execution_count": 157,
     "metadata": {},
     "output_type": "execute_result"
    }
   ],
   "source": [
    "np.array(generate_binary_vectors(5, 2))"
   ]
  },
  {
   "cell_type": "code",
   "execution_count": 241,
   "metadata": {},
   "outputs": [
    {
     "data": {
      "text/plain": [
       "'Q is 1-locally identifiable.'"
      ]
     },
     "execution_count": 241,
     "metadata": {},
     "output_type": "execute_result"
    }
   ],
   "source": [
    "local_identifiability(np.array(generate_binary_vectors(5, 2)), 1)"
   ]
  },
  {
   "cell_type": "code",
   "execution_count": 242,
   "metadata": {
    "scrolled": true
   },
   "outputs": [
    {
     "data": {
      "text/plain": [
       "'Q is 1-locally identifiable.'"
      ]
     },
     "execution_count": 242,
     "metadata": {},
     "output_type": "execute_result"
    }
   ],
   "source": [
    "local_identifiability(generate_Q(J, K), 1)"
   ]
  },
  {
   "cell_type": "code",
   "execution_count": 62,
   "metadata": {
    "scrolled": true
   },
   "outputs": [
    {
     "data": {
      "text/plain": [
       "array([[1, 0, 0, 0, 1],\n",
       "       [1, 1, 0, 1, 0],\n",
       "       [1, 1, 1, 1, 1],\n",
       "       [0, 1, 1, 1, 0],\n",
       "       [0, 0, 0, 1, 1],\n",
       "       [1, 0, 0, 0, 0],\n",
       "       [0, 0, 1, 0, 1],\n",
       "       [1, 0, 0, 1, 0],\n",
       "       [0, 0, 0, 0, 0],\n",
       "       [0, 1, 1, 0, 1]])"
      ]
     },
     "execution_count": 62,
     "metadata": {},
     "output_type": "execute_result"
    }
   ],
   "source": [
    "QQ1"
   ]
  },
  {
   "cell_type": "code",
   "execution_count": 53,
   "metadata": {
    "scrolled": false
   },
   "outputs": [
    {
     "data": {
      "image/png": "[encoded data removed]",
      "text/plain": [
       "<Figure size 432x288 with 1 Axes>"
      ]
     },
     "metadata": {},
     "output_type": "display_data"
    }
   ],
   "source": [
    "import matplotlib.pyplot as plt\n",
    "import networkx as nx\n",
    "\n",
    "# Define node positions (copied from your LaTeX diagram)\n",
    "positions = {\n",
    "    '0000': (5.5, 0),\n",
    "    '0001': (4, 1),\n",
    "    '0010': (5, 1),\n",
    "    '0100': (6, 1),\n",
    "    '1000': (7, 1),\n",
    "    '0011': (3, 2),\n",
    "    '0101': (4, 2),\n",
    "    '0110': (5, 2),\n",
    "    '1001': (6, 2),\n",
    "    '1010': (7, 2),\n",
    "    '1100': (8, 2),\n",
    "    '0111': (4, 3),\n",
    "    '1011': (5, 3),\n",
    "    '1101': (6, 3),\n",
    "    '1110': (7, 3),\n",
    "    '1111': (5.5, 4)\n",
    "}\n",
    "\n",
    "# Create graph\n",
    "G = nx.DiGraph()\n",
    "\n",
    "# Add nodes to the graph\n",
    "for node in positions.keys():\n",
    "    G.add_node(node)\n",
    "\n",
    "# Define edges (manually from your LaTeX diagram)\n",
    "edges = [\n",
    "    ('0000', '0001'),\n",
    "    ('0000', '0010'),\n",
    "    ('0000', '0100'),\n",
    "    ('0000', '1000'),\n",
    "    ('0001', '0011'),\n",
    "    ('0010', '0011'),\n",
    "    ('0001', '0101'),\n",
    "    ('0100', '0101'),\n",
    "    ('0001', '1001'),\n",
    "    ('1000', '1001'),\n",
    "    ('0010', '0110'),\n",
    "    ('0100', '0110'),\n",
    "    ('1000', '1010'),\n",
    "    ('0010', '1010'),\n",
    "    ('0100', '1100'),\n",
    "    ('1000', '1100'),\n",
    "    ('0011', '0111'),\n",
    "    ('0101', '0111'),\n",
    "    ('0011', '1011'),\n",
    "    ('1001', '1011'),\n",
    "    ('0101', '1101'),\n",
    "    ('1001', '1101'),\n",
    "    ('1100', '1101'),\n",
    "    ('1010', '1011'),\n",
    "    ('0110', '0111'),\n",
    "    ('1010', '1110'),\n",
    "    ('0110', '1110'),\n",
    "    ('0001', '0011'),\n",
    "    ('0011', '0111'),\n",
    "    ('0111', '1111'),\n",
    "    ('1001', '1011'),\n",
    "    ('1011', '1111'),\n",
    "    ('1101', '1111'),\n",
    "    ('1110', '1111')\n",
    "]\n",
    "\n",
    "# Add edges to the graph\n",
    "G.add_edges_from(edges)\n",
    "\n",
    "# Draw the graph\n",
    "nx.draw(G, pos=positions, with_labels=True, node_color='lightblue', node_size=1500)\n",
    "plt.title('Hasse Diagram for Power Set')\n",
    "plt.show()"
   ]
  },
  {
   "cell_type": "code",
   "execution_count": 54,
   "metadata": {
    "scrolled": true
   },
   "outputs": [
    {
     "data": {
      "image/png": "[encoded data removed]",
      "text/plain": [
       "<Figure size 432x288 with 1 Axes>"
      ]
     },
     "metadata": {},
     "output_type": "display_data"
    }
   ],
   "source": [
    "    import matplotlib.pyplot as plt\n",
    "    import networkx as nx\n",
    "\n",
    "    # Define node positions (copied from your LaTeX diagram)\n",
    "    positions = {\n",
    "        '10000': (6.5,2), '01000': (8.5,2), '00100': (10.5,2), '00010': (12.5,2), '00001': (14.5,2),\n",
    "        '11000': (2,4), '10100': (4,4), '10010': (6,4), '10001': (8,4), '01100': (10,4), '01010': (12,4), '01001': (14,4), '00110': (16,4), '00101': (18,4), '00011': (20,4),\n",
    "        '11100': (2,6), '11010': (4,6), '11001': (6,6), '10110': (8,6), '10101': (10,6), '10011': (12,6), '01110': (14,6), '01101': (16,6), '01011': (18,6), '00111': (20,6),\n",
    "        '11110': (6.5,8), '11101': (8.5,8), '11011': (10.5,8), '10111': (12.5,8), '01111': (14.5,8),\n",
    "        '11111': (10.5,10)\n",
    "    }\n",
    "\n",
    "    # Create graph\n",
    "    G = nx.DiGraph()\n",
    "\n",
    "    # Add nodes to the graph\n",
    "    for node in positions.keys():\n",
    "        G.add_node(node)\n",
    "\n",
    "    # Define edges (manually from your LaTeX diagram)\n",
    "    edges = [\n",
    "        ('10000', '11000'), ('10000', '10100'), ('10000', '10010'), ('10000', '10001'),\n",
    "        ('01000', '11000'), ('01000', '01100'), ('01000', '01010'), ('01000', '01001'),\n",
    "        ('00100', '10100'), ('00100', '01100'), ('00100', '00110'), ('00100', '00101'),\n",
    "        ('00010', '10010'), ('00010', '01010'), ('00010', '00110'), ('00010', '00011'),\n",
    "        ('00001', '10001'), ('00001', '01001'), ('00001', '00101'), ('00001', '00011'),\n",
    "        ('11000', '11100'), ('11000', '11010'), ('11000', '11001'),\n",
    "        ('10100', '11100'), ('10100', '10110'), ('10100', '10101'),\n",
    "        ('10010', '11010'), ('10010', '10110'), ('10010', '10011'),\n",
    "        ('10001', '11001'), ('10001', '10101'), ('10001', '10011'),\n",
    "        ('01100', '11100'), ('01100', '01110'), ('01100', '01101'),\n",
    "        ('01010', '11010'), ('01010', '01110'), ('01010', '01011'),\n",
    "        ('01001', '11001'), ('01001', '01101'), ('01001', '01011'),\n",
    "        ('00110', '10110'), ('00110', '01110'), ('00110', '00111'),\n",
    "        ('00101', '10101'), ('00101', '01101'), ('00101', '00111'),\n",
    "        ('00011', '10011'), ('00011', '01011'), ('00011', '00111'),\n",
    "        ('11100', '11110'), ('11100', '11101'),\n",
    "        ('11010', '11110'), ('11010', '11011'),\n",
    "        ('11001', '11101'), ('11001', '11011'),\n",
    "        ('10110', '11110'), ('10110', '10111'),\n",
    "        ('10101', '11101'), ('10101', '10111'),\n",
    "        ('10011', '11011'), ('10011', '10111'),\n",
    "        ('01110', '11110'), ('01110', '01111'),\n",
    "        ('01101', '11101'), ('01101', '01111'),\n",
    "        ('01011', '11011'), ('01011', '01111'),\n",
    "        ('00111', '10111'), ('00111', '01111'),\n",
    "        ('11110', '11111'),\n",
    "        ('11101', '11111'),\n",
    "        ('11011', '11111'),\n",
    "        ('10111', '11111'),\n",
    "        ('01111', '11111')\n",
    "    ]\n",
    "\n",
    "    # Add edges to the graph\n",
    "    G.add_edges_from(edges)\n",
    "\n",
    "    # Draw the graph\n",
    "    nx.draw(G, pos=positions, with_labels=True, node_color='lightblue', node_size=1500)\n",
    "    plt.title('Hasse Diagram for Power Set')\n",
    "    plt.show()\n"
   ]
  },
  {
   "cell_type": "code",
   "execution_count": 239,
   "metadata": {
    "scrolled": false
   },
   "outputs": [
    {
     "data": {
      "text/plain": [
       "array([[0, 1, 0, 0, 0],\n",
       "       [0, 1, 1, 1, 1],\n",
       "       [1, 1, 0, 0, 1],\n",
       "       [0, 0, 1, 1, 0],\n",
       "       [0, 0, 1, 1, 1],\n",
       "       [1, 1, 0, 1, 1],\n",
       "       [1, 1, 1, 0, 0],\n",
       "       [0, 0, 1, 0, 0],\n",
       "       [1, 1, 0, 0, 0],\n",
       "       [1, 0, 0, 0, 1]])"
      ]
     },
     "execution_count": 239,
     "metadata": {},
     "output_type": "execute_result"
    }
   ],
   "source": [
    "generate_Q(10, 5)"
   ]
  },
  {
   "cell_type": "code",
   "execution_count": 58,
   "metadata": {},
   "outputs": [],
   "source": [
    "def generate_Q(J, K):\n",
    "    Q = np.random.randint(2, size=(J, K))\n",
    "    \n",
    "    G = nx.DiGraph()\n",
    "    colors = []\n",
    "    for i, row in enumerate(Q):\n",
    "        node = ''.join(map(str, row))\n",
    "        G.add_node(node)\n",
    "        colors.append(i)  # Add row index to color list\n",
    "    \n",
    "    # Continue with the rest of your code to add edges, etc.\n",
    "    # ...\n",
    "\n",
    "    # Define node positions (copied from your LaTeX diagram)\n",
    "    positions = {\n",
    "        '10000': (6.5,2), '01000': (8.5,2), '00100': (10.5,2), '00010': (12.5,2), '00001': (14.5,2),\n",
    "        '11000': (2,4), '10100': (4,4), '10010': (6,4), '10001': (8,4), '01100': (10,4), '01010': (12,4), '01001': (14,4), '00110': (16,4), '00101': (18,4), '00011': (20,4),\n",
    "        '11100': (2,6), '11010': (4,6), '11001': (6,6), '10110': (8,6), '10101': (10,6), '10011': (12,6), '01110': (14,6), '01101': (16,6), '01011': (18,6), '00111': (20,6),\n",
    "        '11110': (6.5,8), '11101': (8.5,8), '11011': (10.5,8), '10111': (12.5,8), '01111': (14.5,8),\n",
    "        '11111': (10.5,10)\n",
    "    }\n",
    "\n",
    "    # Create graph\n",
    "    G = nx.DiGraph()\n",
    "\n",
    "    # Add nodes to the graph\n",
    "    for node in positions.keys():\n",
    "        G.add_node(node)\n",
    "\n",
    "    # Define edges (manually from your LaTeX diagram)\n",
    "    edges = [\n",
    "        ('10000', '11000'), ('10000', '10100'), ('10000', '10010'), ('10000', '10001'),\n",
    "        ('01000', '11000'), ('01000', '01100'), ('01000', '01010'), ('01000', '01001'),\n",
    "        ('00100', '10100'), ('00100', '01100'), ('00100', '00110'), ('00100', '00101'),\n",
    "        ('00010', '10010'), ('00010', '01010'), ('00010', '00110'), ('00010', '00011'),\n",
    "        ('00001', '10001'), ('00001', '01001'), ('00001', '00101'), ('00001', '00011'),\n",
    "        ('11000', '11100'), ('11000', '11010'), ('11000', '11001'),\n",
    "        ('10100', '11100'), ('10100', '10110'), ('10100', '10101'),\n",
    "        ('10010', '11010'), ('10010', '10110'), ('10010', '10011'),\n",
    "        ('10001', '11001'), ('10001', '10101'), ('10001', '10011'),\n",
    "        ('01100', '11100'), ('01100', '01110'), ('01100', '01101'),\n",
    "        ('01010', '11010'), ('01010', '01110'), ('01010', '01011'),\n",
    "        ('01001', '11001'), ('01001', '01101'), ('01001', '01011'),\n",
    "        ('00110', '10110'), ('00110', '01110'), ('00110', '00111'),\n",
    "        ('00101', '10101'), ('00101', '01101'), ('00101', '00111'),\n",
    "        ('00011', '10011'), ('00011', '01011'), ('00011', '00111'),\n",
    "        ('11100', '11110'), ('11100', '11101'),\n",
    "        ('11010', '11110'), ('11010', '11011'),\n",
    "        ('11001', '11101'), ('11001', '11011'),\n",
    "        ('10110', '11110'), ('10110', '10111'),\n",
    "        ('10101', '11101'), ('10101', '10111'),\n",
    "        ('10011', '11011'), ('10011', '10111'),\n",
    "        ('01110', '11110'), ('01110', '01111'),\n",
    "        ('01101', '11101'), ('01101', '01111'),\n",
    "        ('01011', '11011'), ('01011', '01111'),\n",
    "        ('00111', '10111'), ('00111', '01111'),\n",
    "        ('11110', '11111'),\n",
    "        ('11101', '11111'),\n",
    "        ('11011', '11111'),\n",
    "        ('10111', '11111'),\n",
    "        ('01111', '11111')\n",
    "    ]\n",
    "\n",
    "    # Add edges to the graph\n",
    "    G.add_edges_from(edges)\n",
    "\n",
    "    # Draw the graph\n",
    "    nx.draw(G, pos=positions, with_labels=True, node_color='lightblue', node_size=1500)\n",
    "    plt.title('Hasse Diagram for Power Set')\n",
    "    plt.show()\n",
    "    \n",
    "    nx.draw(G, node_color=colors, with_labels=True)\n",
    "    plt.show()\n"
   ]
  },
  {
   "cell_type": "code",
   "execution_count": 34,
   "metadata": {},
   "outputs": [],
   "source": [
    "import math"
   ]
  },
  {
   "cell_type": "code",
   "execution_count": 36,
   "metadata": {},
   "outputs": [
    {
     "ename": "TypeError",
     "evalue": "'int' object is not iterable",
     "output_type": "error",
     "traceback": [
      "\u001b[0;31m---------------------------------------------------------------------------\u001b[0m",
      "\u001b[0;31mTypeError\u001b[0m                                 Traceback (most recent call last)",
      "\u001b[0;32m<ipython-input-36-d00fa560144c>\u001b[0m in \u001b[0;36m<module>\u001b[0;34m\u001b[0m\n\u001b[0;32m----> 1\u001b[0;31m \u001b[0mnp\u001b[0m\u001b[0;34m.\u001b[0m\u001b[0mchoose\u001b[0m\u001b[0;34m(\u001b[0m\u001b[0;36m4\u001b[0m\u001b[0;34m,\u001b[0m\u001b[0;36m3\u001b[0m\u001b[0;34m)\u001b[0m\u001b[0;34m\u001b[0m\u001b[0;34m\u001b[0m\u001b[0m\n\u001b[0m",
      "\u001b[0;32m<__array_function__ internals>\u001b[0m in \u001b[0;36mchoose\u001b[0;34m(*args, **kwargs)\u001b[0m\n",
      "\u001b[0;32m~/opt/anaconda3/lib/python3.7/site-packages/numpy/core/fromnumeric.py\u001b[0m in \u001b[0;36m_choose_dispatcher\u001b[0;34m(a, choices, out, mode)\u001b[0m\n\u001b[1;32m    304\u001b[0m \u001b[0;32mdef\u001b[0m \u001b[0m_choose_dispatcher\u001b[0m\u001b[0;34m(\u001b[0m\u001b[0ma\u001b[0m\u001b[0;34m,\u001b[0m \u001b[0mchoices\u001b[0m\u001b[0;34m,\u001b[0m \u001b[0mout\u001b[0m\u001b[0;34m=\u001b[0m\u001b[0;32mNone\u001b[0m\u001b[0;34m,\u001b[0m \u001b[0mmode\u001b[0m\u001b[0;34m=\u001b[0m\u001b[0;32mNone\u001b[0m\u001b[0;34m)\u001b[0m\u001b[0;34m:\u001b[0m\u001b[0;34m\u001b[0m\u001b[0;34m\u001b[0m\u001b[0m\n\u001b[1;32m    305\u001b[0m     \u001b[0;32myield\u001b[0m \u001b[0ma\u001b[0m\u001b[0;34m\u001b[0m\u001b[0;34m\u001b[0m\u001b[0m\n\u001b[0;32m--> 306\u001b[0;31m     \u001b[0;32mfor\u001b[0m \u001b[0mc\u001b[0m \u001b[0;32min\u001b[0m \u001b[0mchoices\u001b[0m\u001b[0;34m:\u001b[0m\u001b[0;34m\u001b[0m\u001b[0;34m\u001b[0m\u001b[0m\n\u001b[0m\u001b[1;32m    307\u001b[0m         \u001b[0;32myield\u001b[0m \u001b[0mc\u001b[0m\u001b[0;34m\u001b[0m\u001b[0;34m\u001b[0m\u001b[0m\n\u001b[1;32m    308\u001b[0m     \u001b[0;32myield\u001b[0m \u001b[0mout\u001b[0m\u001b[0;34m\u001b[0m\u001b[0;34m\u001b[0m\u001b[0m\n",
      "\u001b[0;31mTypeError\u001b[0m: 'int' object is not iterable"
     ]
    }
   ],
   "source": [
    "np.choose(4,3)"
   ]
  },
  {
   "cell_type": "code",
   "execution_count": null,
   "metadata": {},
   "outputs": [],
   "source": []
  }
 ],
 "metadata": {
  "kernelspec": {
   "display_name": "Python 3",
   "language": "python",
   "name": "python3"
  },
  "language_info": {
   "codemirror_mode": {
    "name": "ipython",
    "version": 3
   },
   "file_extension": ".py",
   "mimetype": "text/x-python",
   "name": "python",
   "nbconvert_exporter": "python",
   "pygments_lexer": "ipython3",
   "version": "3.7.6"
  }
 },
 "nbformat": 4,
 "nbformat_minor": 4
}
